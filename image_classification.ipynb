{
 "cells": [
  {
   "cell_type": "markdown",
   "metadata": {
    "collapsed": true
   },
   "source": [
    "# Image Classification\n",
    "In this project, you'll classify images from the [CIFAR-10 dataset](https://www.cs.toronto.edu/~kriz/cifar.html).  The dataset consists of airplanes, dogs, cats, and other objects. You'll preprocess the images, then train a convolutional neural network on all the samples. The images need to be normalized and the labels need to be one-hot encoded.  You'll get to apply what you learned and build a convolutional, max pooling, dropout, and fully connected layers.  At the end, you'll get to see your neural network's predictions on the sample images.\n",
    "## Get the Data\n",
    "Run the following cell to download the [CIFAR-10 dataset for python](https://www.cs.toronto.edu/~kriz/cifar-10-python.tar.gz)."
   ]
  },
  {
   "cell_type": "code",
   "execution_count": 1,
   "metadata": {
    "collapsed": false
   },
   "outputs": [
    {
     "name": "stdout",
     "output_type": "stream",
     "text": [
      "Requirement already satisfied: tqdm in c:\\users\\administrador.000\\appdata\\local\\conda\\conda\\envs\\p2-2\\lib\\site-packages\n"
     ]
    }
   ],
   "source": [
    "!pip install tqdm"
   ]
  },
  {
   "cell_type": "code",
   "execution_count": 2,
   "metadata": {
    "collapsed": false
   },
   "outputs": [
    {
     "name": "stdout",
     "output_type": "stream",
     "text": [
      "All files found!\n"
     ]
    }
   ],
   "source": [
    "\"\"\"\n",
    "DON'T MODIFY ANYTHING IN THIS CELL THAT IS BELOW THIS LINE\n",
    "\"\"\"\n",
    "from urllib.request import urlretrieve\n",
    "from os.path import isfile, isdir\n",
    "from tqdm import tqdm\n",
    "import problem_unittests as tests\n",
    "import tarfile\n",
    "\n",
    "cifar10_dataset_folder_path = 'cifar-10-batches-py'\n",
    "\n",
    "class DLProgress(tqdm):\n",
    "    last_block = 0\n",
    "\n",
    "    def hook(self, block_num=1, block_size=1, total_size=None):\n",
    "        self.total = total_size\n",
    "        self.update((block_num - self.last_block) * block_size)\n",
    "        self.last_block = block_num\n",
    "\n",
    "if not isfile('cifar-10-python.tar.gz'):\n",
    "    with DLProgress(unit='B', unit_scale=True, miniters=1, desc='CIFAR-10 Dataset') as pbar:\n",
    "        urlretrieve(\n",
    "            'https://www.cs.toronto.edu/~kriz/cifar-10-python.tar.gz',\n",
    "            'cifar-10-python.tar.gz',\n",
    "            pbar.hook)\n",
    "\n",
    "if not isdir(cifar10_dataset_folder_path):\n",
    "    with tarfile.open('cifar-10-python.tar.gz') as tar:\n",
    "        tar.extractall()\n",
    "        tar.close()\n",
    "\n",
    "\n",
    "tests.test_folder_path(cifar10_dataset_folder_path)"
   ]
  },
  {
   "cell_type": "markdown",
   "metadata": {},
   "source": [
    "## Explore the Data\n",
    "The dataset is broken into batches to prevent your machine from running out of memory.  The CIFAR-10 dataset consists of 5 batches, named `data_batch_1`, `data_batch_2`, etc.. Each batch contains the labels and images that are one of the following:\n",
    "* airplane\n",
    "* automobile\n",
    "* bird\n",
    "* cat\n",
    "* deer\n",
    "* dog\n",
    "* frog\n",
    "* horse\n",
    "* ship\n",
    "* truck\n",
    "\n",
    "Understanding a dataset is part of making predictions on the data.  Play around with the code cell below by changing the `batch_id` and `sample_id`. The `batch_id` is the id for a batch (1-5). The `sample_id` is the id for a image and label pair in the batch.\n",
    "\n",
    "Ask yourself \"What are all possible labels?\", \"What is the range of values for the image data?\", \"Are the labels in order or random?\".  Answers to questions like these will help you preprocess the data and end up with better predictions."
   ]
  },
  {
   "cell_type": "code",
   "execution_count": 3,
   "metadata": {
    "collapsed": false
   },
   "outputs": [
    {
     "name": "stdout",
     "output_type": "stream",
     "text": [
      "\n",
      "Stats of batch 1:\n",
      "Samples: 10000\n",
      "Label Counts: {0: 1005, 1: 974, 2: 1032, 3: 1016, 4: 999, 5: 937, 6: 1030, 7: 1001, 8: 1025, 9: 981}\n",
      "First 20 Labels: [6, 9, 9, 4, 1, 1, 2, 7, 8, 3, 4, 7, 7, 2, 9, 9, 9, 3, 2, 6]\n",
      "\n",
      "Example of Image 5:\n",
      "Image - Min Value: 0 Max Value: 252\n",
      "Image - Shape: (32, 32, 3)\n",
      "Label - Label Id: 1 Name: automobile\n"
     ]
    },
    {
     "data": {
      "image/png": "[encoded data removed]",
      "text/plain": [
       "<matplotlib.figure.Figure at 0x1b923497c88>"
      ]
     },
     "metadata": {
      "image/png": {
       "height": 250,
       "width": 253
      }
     },
     "output_type": "display_data"
    }
   ],
   "source": [
    "%matplotlib inline\n",
    "%config InlineBackend.figure_format = 'retina'\n",
    "\n",
    "import helper\n",
    "import numpy as np\n",
    "\n",
    "# Explore the dataset\n",
    "batch_id = 1\n",
    "sample_id = 5\n",
    "helper.display_stats(cifar10_dataset_folder_path, batch_id, sample_id)"
   ]
  },
  {
   "cell_type": "markdown",
   "metadata": {},
   "source": [
    "## Implement Preprocess Functions\n",
    "### Normalize\n",
    "In the cell below, implement the `normalize` function to take in image data, `x`, and return it as a normalized Numpy array. The values should be in the range of 0 to 1, inclusive.  The return object should be the same shape as `x`."
   ]
  },
  {
   "cell_type": "code",
   "execution_count": 4,
   "metadata": {
    "collapsed": false
   },
   "outputs": [
    {
     "name": "stdout",
     "output_type": "stream",
     "text": [
      "Tests Passed\n"
     ]
    }
   ],
   "source": [
    "def normalize(x):\n",
    "    \"\"\"\n",
    "    Normalize a list of sample image data in the range of 0 to 1\n",
    "    : x: List of image data.  The image shape is (32, 32, 3)\n",
    "    : return: Numpy array of normalize data\n",
    "    \"\"\"\n",
    "    # TODO: Implement Function\n",
    "    return x/np.max(x) \n",
    "\n",
    "\n",
    "\"\"\"\n",
    "DON'T MODIFY ANYTHING IN THIS CELL THAT IS BELOW THIS LINE\n",
    "\"\"\"\n",
    "tests.test_normalize(normalize)"
   ]
  },
  {
   "cell_type": "markdown",
   "metadata": {},
   "source": [
    "### One-hot encode\n",
    "Just like the previous code cell, you'll be implementing a function for preprocessing.  This time, you'll implement the `one_hot_encode` function. The input, `x`, are a list of labels.  Implement the function to return the list of labels as One-Hot encoded Numpy array.  The possible values for labels are 0 to 9. The one-hot encoding function should return the same encoding for each value between each call to `one_hot_encode`.  Make sure to save the map of encodings outside the function.\n",
    "\n",
    "**Hint:**\n",
    "\n",
    "Look into LabelBinarizer in the preprocessing module of sklearn."
   ]
  },
  {
   "cell_type": "code",
   "execution_count": 5,
   "metadata": {
    "collapsed": false
   },
   "outputs": [
    {
     "name": "stdout",
     "output_type": "stream",
     "text": [
      "Tests Passed\n"
     ]
    }
   ],
   "source": [
    "map_of_encodings = np.eye(10)\n",
    "\n",
    "def one_hot_encode(x):\n",
    "    \"\"\"\n",
    "    One hot encode a list of sample labels. Return a one-hot encoded vector for each label.\n",
    "    : x: List of sample Labels\n",
    "    : return: Numpy array of one-hot encoded labels\n",
    "    \"\"\"\n",
    "    # TODO: Implement Function\n",
    "    return map_of_encodings[x] \n",
    "\n",
    "\n",
    "\"\"\"\n",
    "DON'T MODIFY ANYTHING IN THIS CELL THAT IS BELOW THIS LINE\n",
    "\"\"\"\n",
    "tests.test_one_hot_encode(one_hot_encode)"
   ]
  },
  {
   "cell_type": "markdown",
   "metadata": {},
   "source": [
    "### Randomize Data\n",
    "As you saw from exploring the data above, the order of the samples are randomized.  It doesn't hurt to randomize it again, but you don't need to for this dataset."
   ]
  },
  {
   "cell_type": "markdown",
   "metadata": {},
   "source": [
    "## Preprocess all the data and save it\n",
    "Running the code cell below will preprocess all the CIFAR-10 data and save it to file. The code below also uses 10% of the training data for validation."
   ]
  },
  {
   "cell_type": "code",
   "execution_count": 6,
   "metadata": {
    "collapsed": true
   },
   "outputs": [],
   "source": [
    "\"\"\"\n",
    "DON'T MODIFY ANYTHING IN THIS CELL\n",
    "\"\"\"\n",
    "# Preprocess Training, Validation, and Testing Data\n",
    "helper.preprocess_and_save_data(cifar10_dataset_folder_path, normalize, one_hot_encode)"
   ]
  },
  {
   "cell_type": "markdown",
   "metadata": {},
   "source": [
    "# Check Point\n",
    "This is your first checkpoint.  If you ever decide to come back to this notebook or have to restart the notebook, you can start from here.  The preprocessed data has been saved to disk."
   ]
  },
  {
   "cell_type": "code",
   "execution_count": 7,
   "metadata": {
    "collapsed": true
   },
   "outputs": [],
   "source": [
    "\"\"\"\n",
    "DON'T MODIFY ANYTHING IN THIS CELL\n",
    "\"\"\"\n",
    "import pickle\n",
    "import problem_unittests as tests\n",
    "import helper\n",
    "\n",
    "# Load the Preprocessed Validation data\n",
    "valid_features, valid_labels = pickle.load(open('preprocess_validation.p', mode='rb'))"
   ]
  },
  {
   "cell_type": "markdown",
   "metadata": {},
   "source": [
    "## Build the network\n",
    "For the neural network, you'll build each layer into a function.  Most of the code you've seen has been outside of functions. To test your code more thoroughly, we require that you put each layer in a function.  This allows us to give you better feedback and test for simple mistakes using our unittests before you submit your project.\n",
    "\n",
    ">**Note:** If you're finding it hard to dedicate enough time for this course each week, we've provided a small shortcut to this part of the project. In the next couple of problems, you'll have the option to use classes from the [TensorFlow Layers](https://www.tensorflow.org/api_docs/python/tf/layers) or [TensorFlow Layers (contrib)](https://www.tensorflow.org/api_guides/python/contrib.layers) packages to build each layer, except the layers you build in the \"Convolutional and Max Pooling Layer\" section.  TF Layers is similar to Keras's and TFLearn's abstraction to layers, so it's easy to pickup.\n",
    "\n",
    ">However, if you would like to get the most out of this course, try to solve all the problems _without_ using anything from the TF Layers packages. You **can** still use classes from other packages that happen to have the same name as ones you find in TF Layers! For example, instead of using the TF Layers version of the `conv2d` class, [tf.layers.conv2d](https://www.tensorflow.org/api_docs/python/tf/layers/conv2d), you would want to use the TF Neural Network version of `conv2d`, [tf.nn.conv2d](https://www.tensorflow.org/api_docs/python/tf/nn/conv2d). \n",
    "\n",
    "Let's begin!\n",
    "\n",
    "### Input\n",
    "The neural network needs to read the image data, one-hot encoded labels, and dropout keep probability. Implement the following functions\n",
    "* Implement `neural_net_image_input`\n",
    " * Return a [TF Placeholder](https://www.tensorflow.org/api_docs/python/tf/placeholder)\n",
    " * Set the shape using `image_shape` with batch size set to `None`.\n",
    " * Name the TensorFlow placeholder \"x\" using the TensorFlow `name` parameter in the [TF Placeholder](https://www.tensorflow.org/api_docs/python/tf/placeholder).\n",
    "* Implement `neural_net_label_input`\n",
    " * Return a [TF Placeholder](https://www.tensorflow.org/api_docs/python/tf/placeholder)\n",
    " * Set the shape using `n_classes` with batch size set to `None`.\n",
    " * Name the TensorFlow placeholder \"y\" using the TensorFlow `name` parameter in the [TF Placeholder](https://www.tensorflow.org/api_docs/python/tf/placeholder).\n",
    "* Implement `neural_net_keep_prob_input`\n",
    " * Return a [TF Placeholder](https://www.tensorflow.org/api_docs/python/tf/placeholder) for dropout keep probability.\n",
    " * Name the TensorFlow placeholder \"keep_prob\" using the TensorFlow `name` parameter in the [TF Placeholder](https://www.tensorflow.org/api_docs/python/tf/placeholder).\n",
    "\n",
    "These names will be used at the end of the project to load your saved model.\n",
    "\n",
    "Note: `None` for shapes in TensorFlow allow for a dynamic size."
   ]
  },
  {
   "cell_type": "code",
   "execution_count": 8,
   "metadata": {
    "collapsed": false
   },
   "outputs": [
    {
     "name": "stdout",
     "output_type": "stream",
     "text": [
      "Image Input Tests Passed.\n",
      "Label Input Tests Passed.\n",
      "Keep Prob Tests Passed.\n"
     ]
    }
   ],
   "source": [
    "import tensorflow as tf\n",
    "\n",
    "def neural_net_image_input(image_shape):\n",
    "    \"\"\"\n",
    "    Return a Tensor for a batch of image input\n",
    "    : image_shape: Shape of the images\n",
    "    : return: Tensor for image input.\n",
    "    \"\"\"\n",
    "    # TODO: Implement Function\n",
    "    return tf.placeholder(tf.float32, shape=[None, image_shape[0], image_shape[1], image_shape[2]], name=\"x\")\n",
    "\n",
    "\n",
    "def neural_net_label_input(n_classes):\n",
    "    \"\"\"\n",
    "    Return a Tensor for a batch of label input\n",
    "    : n_classes: Number of classes\n",
    "    : return: Tensor for label input.\n",
    "    \"\"\"\n",
    "    # TODO: Implement Function\n",
    "    return tf.placeholder(tf.float32, shape=[None, n_classes], name=\"y\")\n",
    "\n",
    "\n",
    "def neural_net_keep_prob_input():\n",
    "    \"\"\"\n",
    "    Return a Tensor for keep probability\n",
    "    : return: Tensor for keep probability.\n",
    "    \"\"\"\n",
    "    # TODO: Implement Function\n",
    "    return tf.placeholder(tf.float32, name = 'keep_prob')\n",
    "\n",
    "\n",
    "\"\"\"\n",
    "DON'T MODIFY ANYTHING IN THIS CELL THAT IS BELOW THIS LINE\n",
    "\"\"\"\n",
    "tf.reset_default_graph()\n",
    "tests.test_nn_image_inputs(neural_net_image_input)\n",
    "tests.test_nn_label_inputs(neural_net_label_input)\n",
    "tests.test_nn_keep_prob_inputs(neural_net_keep_prob_input)"
   ]
  },
  {
   "cell_type": "markdown",
   "metadata": {},
   "source": [
    "### Convolution and Max Pooling Layer\n",
    "Convolution layers have a lot of success with images. For this code cell, you should implement the function `conv2d_maxpool` to apply convolution then max pooling:\n",
    "* Create the weight and bias using `conv_ksize`, `conv_num_outputs` and the shape of `x_tensor`.\n",
    "* Apply a convolution to `x_tensor` using weight and `conv_strides`.\n",
    " * We recommend you use same padding, but you're welcome to use any padding.\n",
    "* Add bias\n",
    "* Add a nonlinear activation to the convolution.\n",
    "* Apply Max Pooling using `pool_ksize` and `pool_strides`.\n",
    " * We recommend you use same padding, but you're welcome to use any padding.\n",
    "\n",
    "**Note:** You **can't** use [TensorFlow Layers](https://www.tensorflow.org/api_docs/python/tf/layers) or [TensorFlow Layers (contrib)](https://www.tensorflow.org/api_guides/python/contrib.layers) for **this** layer, but you can still use TensorFlow's [Neural Network](https://www.tensorflow.org/api_docs/python/tf/nn) package. You may still use the shortcut option for all the **other** layers.\n",
    "\n",
    "** Hint: **\n",
    "\n",
    "When unpacking values as an argument in Python, look into the [unpacking](https://docs.python.org/3/tutorial/controlflow.html#unpacking-argument-lists) operator. "
   ]
  },
  {
   "cell_type": "code",
   "execution_count": 9,
   "metadata": {
    "collapsed": false
   },
   "outputs": [
    {
     "name": "stdout",
     "output_type": "stream",
     "text": [
      "Tests Passed\n"
     ]
    }
   ],
   "source": [
    "def conv2d_maxpool(x_tensor, conv_num_outputs, conv_ksize, conv_strides, pool_ksize, pool_strides):\n",
    "    \"\"\"\n",
    "    Apply convolution then max pooling to x_tensor\n",
    "    :param x_tensor: TensorFlow Tensor\n",
    "    :param conv_num_outputs: Number of outputs for the convolutional layer\n",
    "    :param conv_ksize: kernal size 2-D Tuple for the convolutional layer\n",
    "    :param conv_strides: Stride 2-D Tuple for convolution\n",
    "    :param pool_ksize: kernal size 2-D Tuple for pool\n",
    "    :param pool_strides: Stride 2-D Tuple for pool\n",
    "    : return: A tensor that represents convolution and max pooling of x_tensor\n",
    "    \"\"\"\n",
    "    # TODO: Implement Function\n",
    "    weight = tf.Variable(tf.random_normal([conv_ksize[0], conv_ksize[1], x_tensor.get_shape().as_list()[3], conv_num_outputs], stddev=0.1))\n",
    "    bias   = tf.Variable(tf.random_normal([conv_num_outputs], stddev=0.1))\n",
    "    x_tensor = tf.nn.conv2d(x_tensor, weight, [1, conv_strides[0], conv_strides[1], 1], padding='SAME')\n",
    "    x_tensor = tf.nn.bias_add(x_tensor, bias)\n",
    "    x_tensor = tf.nn.relu(x_tensor)\n",
    "    x_tensor = tf.nn.max_pool(x_tensor, [1, pool_ksize[0], pool_ksize[1], 1], [1, pool_strides[0], pool_strides[1], 1], padding='SAME')\n",
    "    return x_tensor \n",
    "\n",
    "\"\"\"\n",
    "DON'T MODIFY ANYTHING IN THIS CELL THAT IS BELOW THIS LINE\n",
    "\"\"\"\n",
    "tests.test_con_pool(conv2d_maxpool)"
   ]
  },
  {
   "cell_type": "markdown",
   "metadata": {},
   "source": [
    "### Flatten Layer\n",
    "Implement the `flatten` function to change the dimension of `x_tensor` from a 4-D tensor to a 2-D tensor.  The output should be the shape (*Batch Size*, *Flattened Image Size*). Shortcut option: you can use classes from the [TensorFlow Layers](https://www.tensorflow.org/api_docs/python/tf/layers) or [TensorFlow Layers (contrib)](https://www.tensorflow.org/api_guides/python/contrib.layers) packages for this layer. For more of a challenge, only use other TensorFlow packages."
   ]
  },
  {
   "cell_type": "code",
   "execution_count": 10,
   "metadata": {
    "collapsed": false
   },
   "outputs": [
    {
     "name": "stdout",
     "output_type": "stream",
     "text": [
      "Tests Passed\n"
     ]
    }
   ],
   "source": [
    "def flatten(x_tensor):\n",
    "    \"\"\"\n",
    "    Flatten x_tensor to (Batch Size, Flattened Image Size)\n",
    "    : x_tensor: A tensor of size (Batch Size, ...), where ... are the image dimensions.\n",
    "    : return: A tensor of size (Batch Size, Flattened Image Size).\n",
    "    \"\"\"\n",
    "    # TODO: Implement Function\n",
    "    return tf.contrib.layers.flatten(x_tensor)\n",
    "\n",
    "\n",
    "\"\"\"\n",
    "DON'T MODIFY ANYTHING IN THIS CELL THAT IS BELOW THIS LINE\n",
    "\"\"\"\n",
    "tests.test_flatten(flatten)"
   ]
  },
  {
   "cell_type": "markdown",
   "metadata": {},
   "source": [
    "### Fully-Connected Layer\n",
    "Implement the `fully_conn` function to apply a fully connected layer to `x_tensor` with the shape (*Batch Size*, *num_outputs*). Shortcut option: you can use classes from the [TensorFlow Layers](https://www.tensorflow.org/api_docs/python/tf/layers) or [TensorFlow Layers (contrib)](https://www.tensorflow.org/api_guides/python/contrib.layers) packages for this layer. For more of a challenge, only use other TensorFlow packages."
   ]
  },
  {
   "cell_type": "code",
   "execution_count": 11,
   "metadata": {
    "collapsed": false
   },
   "outputs": [
    {
     "name": "stdout",
     "output_type": "stream",
     "text": [
      "Tests Passed\n"
     ]
    }
   ],
   "source": [
    "def fully_conn(x_tensor, num_outputs):\n",
    "    \"\"\"\n",
    "    Apply a fully connected layer to x_tensor using weight and bias\n",
    "    : x_tensor: A 2-D tensor where the first dimension is batch size.\n",
    "    : num_outputs: The number of output that the new tensor should be.\n",
    "    : return: A 2-D tensor where the second dimension is num_outputs.\n",
    "    \"\"\"\n",
    "    # TODO: Implement Function\n",
    "    return tf.contrib.layers.fully_connected(x_tensor, num_outputs, tf.nn.relu)\n",
    "\n",
    "\n",
    "\"\"\"\n",
    "DON'T MODIFY ANYTHING IN THIS CELL THAT IS BELOW THIS LINE\n",
    "\"\"\"\n",
    "tests.test_fully_conn(fully_conn)"
   ]
  },
  {
   "cell_type": "markdown",
   "metadata": {},
   "source": [
    "### Output Layer\n",
    "Implement the `output` function to apply a fully connected layer to `x_tensor` with the shape (*Batch Size*, *num_outputs*). Shortcut option: you can use classes from the [TensorFlow Layers](https://www.tensorflow.org/api_docs/python/tf/layers) or [TensorFlow Layers (contrib)](https://www.tensorflow.org/api_guides/python/contrib.layers) packages for this layer. For more of a challenge, only use other TensorFlow packages.\n",
    "\n",
    "**Note:** Activation, softmax, or cross entropy should **not** be applied to this."
   ]
  },
  {
   "cell_type": "code",
   "execution_count": 12,
   "metadata": {
    "collapsed": false
   },
   "outputs": [
    {
     "name": "stdout",
     "output_type": "stream",
     "text": [
      "Tests Passed\n"
     ]
    }
   ],
   "source": [
    "def output(x_tensor, num_outputs):\n",
    "    \"\"\"\n",
    "    Apply a output layer to x_tensor using weight and bias\n",
    "    : x_tensor: A 2-D tensor where the first dimension is batch size.\n",
    "    : num_outputs: The number of output that the new tensor should be.\n",
    "    : return: A 2-D tensor where the second dimension is num_outputs.\n",
    "    \"\"\"\n",
    "    # TODO: Implement Function\n",
    "    return tf.contrib.layers.fully_connected(x_tensor, num_outputs)\n",
    "\n",
    "\n",
    "\"\"\"\n",
    "DON'T MODIFY ANYTHING IN THIS CELL THAT IS BELOW THIS LINE\n",
    "\"\"\"\n",
    "tests.test_output(output)"
   ]
  },
  {
   "cell_type": "markdown",
   "metadata": {},
   "source": [
    "### Create Convolutional Model\n",
    "Implement the function `conv_net` to create a convolutional neural network model. The function takes in a batch of images, `x`, and outputs logits.  Use the layers you created above to create this model:\n",
    "\n",
    "* Apply 1, 2, or 3 Convolution and Max Pool layers\n",
    "* Apply a Flatten Layer\n",
    "* Apply 1, 2, or 3 Fully Connected Layers\n",
    "* Apply an Output Layer\n",
    "* Return the output\n",
    "* Apply [TensorFlow's Dropout](https://www.tensorflow.org/api_docs/python/tf/nn/dropout) to one or more layers in the model using `keep_prob`. "
   ]
  },
  {
   "cell_type": "code",
   "execution_count": 13,
   "metadata": {
    "collapsed": false
   },
   "outputs": [
    {
     "name": "stdout",
     "output_type": "stream",
     "text": [
      "Neural Network Built!\n"
     ]
    }
   ],
   "source": [
    "def conv_net(x, keep_prob):\n",
    "    \"\"\"\n",
    "    Create a convolutional neural network model\n",
    "    : x: Placeholder tensor that holds image data.\n",
    "    : keep_prob: Placeholder tensor that hold dropout keep probability.\n",
    "    : return: Tensor that represents logits\n",
    "    \"\"\"\n",
    "    # TODO: Apply 1, 2, or 3 Convolution and Max Pool layers\n",
    "    #    Play around with different number of outputs, kernel size and stride\n",
    "    # Function Definition from Above:\n",
    "    #    conv2d_maxpool(x_tensor, conv_num_outputs, conv_ksize, conv_strides, pool_ksize, pool_strides)\n",
    "    x_t = conv2d_maxpool(x,   16, (5, 5), (1, 1), (2, 2), (2, 2))\n",
    "    x_t = conv2d_maxpool(x_t, 32, (5, 5), (1, 1), (2, 2), (2, 2))\n",
    "    x_t = conv2d_maxpool(x_t, 64, (5, 5), (1, 1), (2, 2), (2, 2)) \n",
    "\n",
    "    # TODO: Apply a Flatten Layer\n",
    "    # Function Definition from Above:\n",
    "    #   flatten(x_tensor)\n",
    "    x_t = flatten(x_t)\n",
    "\n",
    "    # TODO: Apply 1, 2, or 3 Fully Connected Layers\n",
    "    #    Play around with different number of outputs\n",
    "    # Function Definition from Above:\n",
    "    #   fully_conn(x_tensor, num_outputs)\n",
    "    x_t = fully_conn(x_t, 512)\n",
    "    x_t = fully_conn(x_t, 64)\n",
    "    x_t = tf.nn.dropout(x_t, keep_prob)\n",
    "    \n",
    "    \n",
    "    # TODO: Apply an Output Layer\n",
    "    #    Set this to the number of classes\n",
    "    # Function Definition from Above:\n",
    "    #   output(x_tensor, num_outputs)\n",
    "    x_t = output(x_t, 10)\n",
    "    \n",
    "    # TODO: return output\n",
    "    return x_t\n",
    "\n",
    "\n",
    "\"\"\"\n",
    "DON'T MODIFY ANYTHING IN THIS CELL THAT IS BELOW THIS LINE\n",
    "\"\"\"\n",
    "\n",
    "##############################\n",
    "## Build the Neural Network ##\n",
    "##############################\n",
    "\n",
    "# Remove previous weights, bias, inputs, etc..\n",
    "tf.reset_default_graph()\n",
    "\n",
    "# Inputs\n",
    "x = neural_net_image_input((32, 32, 3))\n",
    "y = neural_net_label_input(10)\n",
    "keep_prob = neural_net_keep_prob_input()\n",
    "\n",
    "# Model\n",
    "logits = conv_net(x, keep_prob)\n",
    "\n",
    "# Name logits Tensor, so that is can be loaded from disk after training\n",
    "logits = tf.identity(logits, name='logits')\n",
    "\n",
    "# Loss and Optimizer\n",
    "cost = tf.reduce_mean(tf.nn.softmax_cross_entropy_with_logits(logits=logits, labels=y))\n",
    "optimizer = tf.train.AdamOptimizer().minimize(cost)\n",
    "\n",
    "# Accuracy\n",
    "correct_pred = tf.equal(tf.argmax(logits, 1), tf.argmax(y, 1))\n",
    "accuracy = tf.reduce_mean(tf.cast(correct_pred, tf.float32), name='accuracy')\n",
    "\n",
    "tests.test_conv_net(conv_net)"
   ]
  },
  {
   "cell_type": "markdown",
   "metadata": {},
   "source": [
    "## Train the Neural Network\n",
    "### Single Optimization\n",
    "Implement the function `train_neural_network` to do a single optimization.  The optimization should use `optimizer` to optimize in `session` with a `feed_dict` of the following:\n",
    "* `x` for image input\n",
    "* `y` for labels\n",
    "* `keep_prob` for keep probability for dropout\n",
    "\n",
    "This function will be called for each batch, so `tf.global_variables_initializer()` has already been called.\n",
    "\n",
    "Note: Nothing needs to be returned. This function is only optimizing the neural network."
   ]
  },
  {
   "cell_type": "code",
   "execution_count": 14,
   "metadata": {
    "collapsed": false
   },
   "outputs": [
    {
     "name": "stdout",
     "output_type": "stream",
     "text": [
      "Tests Passed\n"
     ]
    }
   ],
   "source": [
    "def train_neural_network(session, optimizer, keep_probability, feature_batch, label_batch):\n",
    "    \"\"\"\n",
    "    Optimize the session on a batch of images and labels\n",
    "    : session: Current TensorFlow session\n",
    "    : optimizer: TensorFlow optimizer function\n",
    "    : keep_probability: keep probability\n",
    "    : feature_batch: Batch of Numpy image data\n",
    "    : label_batch: Batch of Numpy label data\n",
    "    \"\"\"\n",
    "    # TODO: Implement Function\n",
    "    feed_dict = {x: feature_batch, \n",
    "                 y: label_batch,\n",
    "                 keep_prob: keep_probability,}\n",
    "    session.run(optimizer, feed_dict=feed_dict)\n",
    "\n",
    "\n",
    "\"\"\"\n",
    "DON'T MODIFY ANYTHING IN THIS CELL THAT IS BELOW THIS LINE\n",
    "\"\"\"\n",
    "tests.test_train_nn(train_neural_network)"
   ]
  },
  {
   "cell_type": "markdown",
   "metadata": {},
   "source": [
    "### Show Stats\n",
    "Implement the function `print_stats` to print loss and validation accuracy.  Use the global variables `valid_features` and `valid_labels` to calculate validation accuracy.  Use a keep probability of `1.0` to calculate the loss and validation accuracy."
   ]
  },
  {
   "cell_type": "code",
   "execution_count": 15,
   "metadata": {
    "collapsed": true
   },
   "outputs": [],
   "source": [
    "def print_stats(session, feature_batch, label_batch, cost, accuracy):\n",
    "    \"\"\"\n",
    "    Print information about loss and validation accuracy\n",
    "    : session: Current TensorFlow session\n",
    "    : feature_batch: Batch of Numpy image data\n",
    "    : label_batch: Batch of Numpy label data\n",
    "    : cost: TensorFlow cost function\n",
    "    : accuracy: TensorFlow accuracy function\n",
    "    \"\"\"\n",
    "    # TODO: Implement Function\n",
    "    loss = session.run(cost, feed_dict={x: feature_batch, y: label_batch, keep_prob: 1.0})\n",
    "    accuracy_value = session.run(accuracy, feed_dict={x: valid_features, y: valid_labels, keep_prob: 1.0})\n",
    "    print('cost: {}, accuracy_value: {}'.format(loss, accuracy_value))"
   ]
  },
  {
   "cell_type": "markdown",
   "metadata": {},
   "source": [
    "### Hyperparameters\n",
    "Tune the following parameters:\n",
    "* Set `epochs` to the number of iterations until the network stops learning or start overfitting\n",
    "* Set `batch_size` to the highest number that your machine has memory for.  Most people set them to common sizes of memory:\n",
    " * 64\n",
    " * 128\n",
    " * 256\n",
    " * ...\n",
    "* Set `keep_probability` to the probability of keeping a node using dropout"
   ]
  },
  {
   "cell_type": "code",
   "execution_count": 16,
   "metadata": {
    "collapsed": true
   },
   "outputs": [],
   "source": [
    "# TODO: Tune Parameters\n",
    "epochs = 50\n",
    "batch_size = 128\n",
    "keep_probability = 0.8"
   ]
  },
  {
   "cell_type": "markdown",
   "metadata": {},
   "source": [
    "### Train on a Single CIFAR-10 Batch\n",
    "Instead of training the neural network on all the CIFAR-10 batches of data, let's use a single batch. This should save time while you iterate on the model to get a better accuracy.  Once the final validation accuracy is 50% or greater, run the model on all the data in the next section."
   ]
  },
  {
   "cell_type": "code",
   "execution_count": 17,
   "metadata": {
    "collapsed": false
   },
   "outputs": [
    {
     "name": "stdout",
     "output_type": "stream",
     "text": [
      "Checking the Training on a Single Batch...\n",
      "Epoch  1, CIFAR-10 Batch 1:  cost: 2.3025853633880615, accuracy_value: 0.09780000150203705\n",
      "Epoch  2, CIFAR-10 Batch 1:  cost: 2.3025853633880615, accuracy_value: 0.09780000150203705\n",
      "Epoch  3, CIFAR-10 Batch 1:  cost: 2.254047155380249, accuracy_value: 0.16040000319480896\n",
      "Epoch  4, CIFAR-10 Batch 1:  cost: 2.024651527404785, accuracy_value: 0.3147999942302704\n",
      "Epoch  5, CIFAR-10 Batch 1:  cost: 1.854020357131958, accuracy_value: 0.3400000035762787\n",
      "Epoch  6, CIFAR-10 Batch 1:  cost: 1.61823308467865, accuracy_value: 0.415800005197525\n",
      "Epoch  7, CIFAR-10 Batch 1:  cost: 1.461115837097168, accuracy_value: 0.41600000858306885\n",
      "Epoch  8, CIFAR-10 Batch 1:  cost: 1.2986431121826172, accuracy_value: 0.45159998536109924\n",
      "Epoch  9, CIFAR-10 Batch 1:  cost: 1.2311701774597168, accuracy_value: 0.4726000130176544\n",
      "Epoch 10, CIFAR-10 Batch 1:  cost: 1.1327784061431885, accuracy_value: 0.4706000089645386\n",
      "Epoch 11, CIFAR-10 Batch 1:  cost: 0.9459574818611145, accuracy_value: 0.48420000076293945\n",
      "Epoch 12, CIFAR-10 Batch 1:  cost: 0.8888945579528809, accuracy_value: 0.5072000026702881\n",
      "Epoch 13, CIFAR-10 Batch 1:  cost: 0.7134771347045898, accuracy_value: 0.52920001745224\n",
      "Epoch 14, CIFAR-10 Batch 1:  cost: 0.6455482244491577, accuracy_value: 0.5321999788284302\n",
      "Epoch 15, CIFAR-10 Batch 1:  cost: 0.5027776956558228, accuracy_value: 0.5392000079154968\n",
      "Epoch 16, CIFAR-10 Batch 1:  cost: 0.4587620794773102, accuracy_value: 0.5392000079154968\n",
      "Epoch 17, CIFAR-10 Batch 1:  cost: 0.42050281167030334, accuracy_value: 0.520799994468689\n",
      "Epoch 18, CIFAR-10 Batch 1:  cost: 0.3187701106071472, accuracy_value: 0.5126000046730042\n",
      "Epoch 19, CIFAR-10 Batch 1:  cost: 0.24184277653694153, accuracy_value: 0.5311999917030334\n",
      "Epoch 20, CIFAR-10 Batch 1:  cost: 0.2498534917831421, accuracy_value: 0.5249999761581421\n",
      "Epoch 21, CIFAR-10 Batch 1:  cost: 0.1838419884443283, accuracy_value: 0.5156000256538391\n",
      "Epoch 22, CIFAR-10 Batch 1:  cost: 0.11399835348129272, accuracy_value: 0.506600022315979\n",
      "Epoch 23, CIFAR-10 Batch 1:  cost: 0.05143776535987854, accuracy_value: 0.5130000114440918\n",
      "Epoch 24, CIFAR-10 Batch 1:  cost: 0.025211146101355553, accuracy_value: 0.5342000126838684\n",
      "Epoch 25, CIFAR-10 Batch 1:  cost: 0.015319488942623138, accuracy_value: 0.5371999740600586\n",
      "Epoch 26, CIFAR-10 Batch 1:  cost: 0.01035788469016552, accuracy_value: 0.5401999950408936\n",
      "Epoch 27, CIFAR-10 Batch 1:  cost: 0.01278177835047245, accuracy_value: 0.5329999923706055\n",
      "Epoch 28, CIFAR-10 Batch 1:  cost: 0.017909688875079155, accuracy_value: 0.5098000168800354\n",
      "Epoch 29, CIFAR-10 Batch 1:  cost: 0.005909533705562353, accuracy_value: 0.5224000215530396\n",
      "Epoch 30, CIFAR-10 Batch 1:  cost: 0.008032058365643024, accuracy_value: 0.5306000113487244\n",
      "Epoch 31, CIFAR-10 Batch 1:  cost: 0.005680285394191742, accuracy_value: 0.5442000031471252\n",
      "Epoch 32, CIFAR-10 Batch 1:  cost: 0.007273993454873562, accuracy_value: 0.5450000166893005\n",
      "Epoch 33, CIFAR-10 Batch 1:  cost: 0.001068300916813314, accuracy_value: 0.5577999949455261\n",
      "Epoch 34, CIFAR-10 Batch 1:  cost: 0.0007356023415923119, accuracy_value: 0.5397999882698059\n",
      "Epoch 35, CIFAR-10 Batch 1:  cost: 0.010708866640925407, accuracy_value: 0.5486000180244446\n",
      "Epoch 36, CIFAR-10 Batch 1:  cost: 0.000935229763854295, accuracy_value: 0.5555999875068665\n",
      "Epoch 37, CIFAR-10 Batch 1:  cost: 0.0006737362709827721, accuracy_value: 0.5523999929428101\n",
      "Epoch 38, CIFAR-10 Batch 1:  cost: 0.0011001277016475797, accuracy_value: 0.5509999990463257\n",
      "Epoch 39, CIFAR-10 Batch 1:  cost: 0.0005538497935049236, accuracy_value: 0.5515999794006348\n",
      "Epoch 40, CIFAR-10 Batch 1:  cost: 0.00174818467348814, accuracy_value: 0.5522000193595886\n",
      "Epoch 41, CIFAR-10 Batch 1:  cost: 0.0007984166732057929, accuracy_value: 0.5436000227928162\n",
      "Epoch 42, CIFAR-10 Batch 1:  cost: 0.0008120322600007057, accuracy_value: 0.5422000288963318\n",
      "Epoch 43, CIFAR-10 Batch 1:  cost: 0.00010862179624382406, accuracy_value: 0.5562000274658203\n",
      "Epoch 44, CIFAR-10 Batch 1:  cost: 0.003498199861496687, accuracy_value: 0.5432000160217285\n",
      "Epoch 45, CIFAR-10 Batch 1:  cost: 0.0004766219644807279, accuracy_value: 0.551800012588501\n",
      "Epoch 46, CIFAR-10 Batch 1:  cost: 0.0006277126376517117, accuracy_value: 0.5443999767303467\n",
      "Epoch 47, CIFAR-10 Batch 1:  cost: 0.0002492865896783769, accuracy_value: 0.5465999841690063\n",
      "Epoch 48, CIFAR-10 Batch 1:  cost: 0.0009933499386534095, accuracy_value: 0.532800018787384\n",
      "Epoch 49, CIFAR-10 Batch 1:  cost: 0.0006028162315487862, accuracy_value: 0.5343999862670898\n",
      "Epoch 50, CIFAR-10 Batch 1:  cost: 0.0005615052650682628, accuracy_value: 0.5357999801635742\n"
     ]
    }
   ],
   "source": [
    "\"\"\"\n",
    "DON'T MODIFY ANYTHING IN THIS CELL\n",
    "\"\"\"\n",
    "print('Checking the Training on a Single Batch...')\n",
    "with tf.Session() as sess:\n",
    "    # Initializing the variables\n",
    "    sess.run(tf.global_variables_initializer())\n",
    "    \n",
    "    # Training cycle\n",
    "    for epoch in range(epochs):\n",
    "        batch_i = 1\n",
    "        for batch_features, batch_labels in helper.load_preprocess_training_batch(batch_i, batch_size):\n",
    "            train_neural_network(sess, optimizer, keep_probability, batch_features, batch_labels)\n",
    "        print('Epoch {:>2}, CIFAR-10 Batch {}:  '.format(epoch + 1, batch_i), end='')\n",
    "        print_stats(sess, batch_features, batch_labels, cost, accuracy)"
   ]
  },
  {
   "cell_type": "markdown",
   "metadata": {},
   "source": [
    "### Fully Train the Model\n",
    "Now that you got a good accuracy with a single CIFAR-10 batch, try it with all five batches."
   ]
  },
  {
   "cell_type": "code",
   "execution_count": 19,
   "metadata": {
    "collapsed": false,
    "scrolled": false
   },
   "outputs": [
    {
     "name": "stdout",
     "output_type": "stream",
     "text": [
      "Training...\n",
      "Epoch  1, CIFAR-10 Batch 1:  cost: 2.268688201904297, accuracy_value: 0.1850000023841858\n",
      "Epoch  1, CIFAR-10 Batch 2:  cost: 1.9818613529205322, accuracy_value: 0.3497999906539917\n",
      "Epoch  1, CIFAR-10 Batch 3:  cost: 1.6477359533309937, accuracy_value: 0.4002000093460083\n",
      "Epoch  1, CIFAR-10 Batch 4:  cost: 1.6331493854522705, accuracy_value: 0.43700000643730164\n",
      "Epoch  1, CIFAR-10 Batch 5:  cost: 1.679445505142212, accuracy_value: 0.4697999954223633\n",
      "Epoch  2, CIFAR-10 Batch 1:  cost: 1.3705618381500244, accuracy_value: 0.47999998927116394\n",
      "Epoch  2, CIFAR-10 Batch 2:  cost: 1.326200246810913, accuracy_value: 0.5163999795913696\n",
      "Epoch  2, CIFAR-10 Batch 3:  cost: 1.0450021028518677, accuracy_value: 0.5353999733924866\n",
      "Epoch  2, CIFAR-10 Batch 4:  cost: 1.118560791015625, accuracy_value: 0.5586000084877014\n",
      "Epoch  2, CIFAR-10 Batch 5:  cost: 1.1054809093475342, accuracy_value: 0.5758000016212463\n",
      "Epoch  3, CIFAR-10 Batch 1:  cost: 1.0943260192871094, accuracy_value: 0.5802000164985657\n",
      "Epoch  3, CIFAR-10 Batch 2:  cost: 0.9948113560676575, accuracy_value: 0.5802000164985657\n",
      "Epoch  3, CIFAR-10 Batch 3:  cost: 0.7065059542655945, accuracy_value: 0.6050000190734863\n",
      "Epoch  3, CIFAR-10 Batch 4:  cost: 0.9109691381454468, accuracy_value: 0.5938000082969666\n",
      "Epoch  3, CIFAR-10 Batch 5:  cost: 0.7290430068969727, accuracy_value: 0.6205999851226807\n",
      "Epoch  4, CIFAR-10 Batch 1:  cost: 0.8080456852912903, accuracy_value: 0.609000027179718\n",
      "Epoch  4, CIFAR-10 Batch 2:  cost: 0.7025133371353149, accuracy_value: 0.6176000237464905\n",
      "Epoch  4, CIFAR-10 Batch 3:  cost: 0.5857966542243958, accuracy_value: 0.6402000188827515\n",
      "Epoch  4, CIFAR-10 Batch 4:  cost: 0.7329487800598145, accuracy_value: 0.6467999815940857\n",
      "Epoch  4, CIFAR-10 Batch 5:  cost: 0.5318640470504761, accuracy_value: 0.6299999952316284\n",
      "Epoch  5, CIFAR-10 Batch 1:  cost: 0.6288334131240845, accuracy_value: 0.6169999837875366\n",
      "Epoch  5, CIFAR-10 Batch 2:  cost: 0.5876172184944153, accuracy_value: 0.6331999897956848\n",
      "Epoch  5, CIFAR-10 Batch 3:  cost: 0.38858407735824585, accuracy_value: 0.659600019454956\n",
      "Epoch  5, CIFAR-10 Batch 4:  cost: 0.5702194571495056, accuracy_value: 0.6478000283241272\n",
      "Epoch  5, CIFAR-10 Batch 5:  cost: 0.46013909578323364, accuracy_value: 0.6421999931335449\n",
      "Epoch  6, CIFAR-10 Batch 1:  cost: 0.5234090089797974, accuracy_value: 0.6496000289916992\n",
      "Epoch  6, CIFAR-10 Batch 2:  cost: 0.4887511730194092, accuracy_value: 0.6453999876976013\n",
      "Epoch  6, CIFAR-10 Batch 3:  cost: 0.25622066855430603, accuracy_value: 0.6656000018119812\n",
      "Epoch  6, CIFAR-10 Batch 4:  cost: 0.4927569329738617, accuracy_value: 0.6732000112533569\n",
      "Epoch  6, CIFAR-10 Batch 5:  cost: 0.3459254801273346, accuracy_value: 0.6567999720573425\n",
      "Epoch  7, CIFAR-10 Batch 1:  cost: 0.485095351934433, accuracy_value: 0.6338000297546387\n",
      "Epoch  7, CIFAR-10 Batch 2:  cost: 0.38790470361709595, accuracy_value: 0.6389999985694885\n",
      "Epoch  7, CIFAR-10 Batch 3:  cost: 0.22417998313903809, accuracy_value: 0.6539999842643738\n",
      "Epoch  7, CIFAR-10 Batch 4:  cost: 0.38155943155288696, accuracy_value: 0.6574000120162964\n",
      "Epoch  7, CIFAR-10 Batch 5:  cost: 0.23823222517967224, accuracy_value: 0.6460000276565552\n",
      "Epoch  8, CIFAR-10 Batch 1:  cost: 0.3556031286716461, accuracy_value: 0.6478000283241272\n",
      "Epoch  8, CIFAR-10 Batch 2:  cost: 0.32751089334487915, accuracy_value: 0.6164000034332275\n",
      "Epoch  8, CIFAR-10 Batch 3:  cost: 0.12694372236728668, accuracy_value: 0.673799991607666\n",
      "Epoch  8, CIFAR-10 Batch 4:  cost: 0.3103499710559845, accuracy_value: 0.6675999760627747\n",
      "Epoch  8, CIFAR-10 Batch 5:  cost: 0.13595129549503326, accuracy_value: 0.6498000025749207\n",
      "Epoch  9, CIFAR-10 Batch 1:  cost: 0.3271927237510681, accuracy_value: 0.6481999754905701\n",
      "Epoch  9, CIFAR-10 Batch 2:  cost: 0.18995551764965057, accuracy_value: 0.6557999849319458\n",
      "Epoch  9, CIFAR-10 Batch 3:  cost: 0.11591370403766632, accuracy_value: 0.6606000065803528\n",
      "Epoch  9, CIFAR-10 Batch 4:  cost: 0.27651986479759216, accuracy_value: 0.6678000092506409\n",
      "Epoch  9, CIFAR-10 Batch 5:  cost: 0.15372547507286072, accuracy_value: 0.6520000100135803\n",
      "Epoch 10, CIFAR-10 Batch 1:  cost: 0.18519282341003418, accuracy_value: 0.6638000011444092\n",
      "Epoch 10, CIFAR-10 Batch 2:  cost: 0.13138505816459656, accuracy_value: 0.6503999829292297\n",
      "Epoch 10, CIFAR-10 Batch 3:  cost: 0.048895787447690964, accuracy_value: 0.6674000024795532\n",
      "Epoch 10, CIFAR-10 Batch 4:  cost: 0.18475471436977386, accuracy_value: 0.6632000207901001\n",
      "Epoch 10, CIFAR-10 Batch 5:  cost: 0.09676089137792587, accuracy_value: 0.6642000079154968\n",
      "Epoch 11, CIFAR-10 Batch 1:  cost: 0.16755041480064392, accuracy_value: 0.6389999985694885\n",
      "Epoch 11, CIFAR-10 Batch 2:  cost: 0.06375427544116974, accuracy_value: 0.6381999850273132\n",
      "Epoch 11, CIFAR-10 Batch 3:  cost: 0.024394962936639786, accuracy_value: 0.6660000085830688\n",
      "Epoch 11, CIFAR-10 Batch 4:  cost: 0.17977216839790344, accuracy_value: 0.6478000283241272\n",
      "Epoch 11, CIFAR-10 Batch 5:  cost: 0.07790201902389526, accuracy_value: 0.6582000255584717\n",
      "Epoch 12, CIFAR-10 Batch 1:  cost: 0.10196812450885773, accuracy_value: 0.6557999849319458\n",
      "Epoch 12, CIFAR-10 Batch 2:  cost: 0.04941105842590332, accuracy_value: 0.6534000039100647\n",
      "Epoch 12, CIFAR-10 Batch 3:  cost: 0.03061712719500065, accuracy_value: 0.6715999841690063\n",
      "Epoch 12, CIFAR-10 Batch 4:  cost: 0.15565501153469086, accuracy_value: 0.6438000202178955\n",
      "Epoch 12, CIFAR-10 Batch 5:  cost: 0.07751768082380295, accuracy_value: 0.6452000141143799\n",
      "Epoch 13, CIFAR-10 Batch 1:  cost: 0.052938055247068405, accuracy_value: 0.6647999882698059\n",
      "Epoch 13, CIFAR-10 Batch 2:  cost: 0.047874730080366135, accuracy_value: 0.644599974155426\n",
      "Epoch 13, CIFAR-10 Batch 3:  cost: 0.0321630984544754, accuracy_value: 0.656000018119812\n",
      "Epoch 13, CIFAR-10 Batch 4:  cost: 0.15464584529399872, accuracy_value: 0.6287999749183655\n",
      "Epoch 13, CIFAR-10 Batch 5:  cost: 0.03615722060203552, accuracy_value: 0.6660000085830688\n",
      "Epoch 14, CIFAR-10 Batch 1:  cost: 0.06442403048276901, accuracy_value: 0.6607999801635742\n",
      "Epoch 14, CIFAR-10 Batch 2:  cost: 0.035068340599536896, accuracy_value: 0.671999990940094\n",
      "Epoch 14, CIFAR-10 Batch 3:  cost: 0.030918221920728683, accuracy_value: 0.6338000297546387\n",
      "Epoch 14, CIFAR-10 Batch 4:  cost: 0.1398323029279709, accuracy_value: 0.6389999985694885\n",
      "Epoch 14, CIFAR-10 Batch 5:  cost: 0.03907014802098274, accuracy_value: 0.6606000065803528\n",
      "Epoch 15, CIFAR-10 Batch 1:  cost: 0.047957561910152435, accuracy_value: 0.6567999720573425\n",
      "Epoch 15, CIFAR-10 Batch 2:  cost: 0.02220945991575718, accuracy_value: 0.659600019454956\n",
      "Epoch 15, CIFAR-10 Batch 3:  cost: 0.01964651420712471, accuracy_value: 0.642799973487854\n",
      "Epoch 15, CIFAR-10 Batch 4:  cost: 0.0932452455163002, accuracy_value: 0.6384000182151794\n",
      "Epoch 15, CIFAR-10 Batch 5:  cost: 0.017901917919516563, accuracy_value: 0.6565999984741211\n",
      "Epoch 16, CIFAR-10 Batch 1:  cost: 0.02620944008231163, accuracy_value: 0.6697999835014343\n",
      "Epoch 16, CIFAR-10 Batch 2:  cost: 0.03415658324956894, accuracy_value: 0.6245999932289124\n",
      "Epoch 16, CIFAR-10 Batch 3:  cost: 0.01816367730498314, accuracy_value: 0.6402000188827515\n",
      "Epoch 16, CIFAR-10 Batch 4:  cost: 0.0432373583316803, accuracy_value: 0.63919997215271\n",
      "Epoch 16, CIFAR-10 Batch 5:  cost: 0.04057259112596512, accuracy_value: 0.6434000134468079\n",
      "Epoch 17, CIFAR-10 Batch 1:  cost: 0.04224259406328201, accuracy_value: 0.6633999943733215\n",
      "Epoch 17, CIFAR-10 Batch 2:  cost: 0.021784067153930664, accuracy_value: 0.6322000026702881\n",
      "Epoch 17, CIFAR-10 Batch 3:  cost: 0.00603098701685667, accuracy_value: 0.65420001745224\n",
      "Epoch 17, CIFAR-10 Batch 4:  cost: 0.04315241053700447, accuracy_value: 0.631600022315979\n",
      "Epoch 17, CIFAR-10 Batch 5:  cost: 0.008907536044716835, accuracy_value: 0.6711999773979187\n",
      "Epoch 18, CIFAR-10 Batch 1:  cost: 0.023160064592957497, accuracy_value: 0.6607999801635742\n",
      "Epoch 18, CIFAR-10 Batch 2:  cost: 0.015396279282867908, accuracy_value: 0.6514000296592712\n",
      "Epoch 18, CIFAR-10 Batch 3:  cost: 0.007929540239274502, accuracy_value: 0.6556000113487244\n",
      "Epoch 18, CIFAR-10 Batch 4:  cost: 0.03126784414052963, accuracy_value: 0.6444000005722046\n",
      "Epoch 18, CIFAR-10 Batch 5:  cost: 0.01331097912043333, accuracy_value: 0.6603999733924866\n",
      "Epoch 19, CIFAR-10 Batch 1:  cost: 0.028018275275826454, accuracy_value: 0.6525999903678894\n",
      "Epoch 19, CIFAR-10 Batch 2:  cost: 0.0134583143517375, accuracy_value: 0.6557999849319458\n",
      "Epoch 19, CIFAR-10 Batch 3:  cost: 0.012631568126380444, accuracy_value: 0.6413999795913696\n",
      "Epoch 19, CIFAR-10 Batch 4:  cost: 0.02604890801012516, accuracy_value: 0.6430000066757202\n",
      "Epoch 19, CIFAR-10 Batch 5:  cost: 0.012274593114852905, accuracy_value: 0.6657999753952026\n",
      "Epoch 20, CIFAR-10 Batch 1:  cost: 0.029702749103307724, accuracy_value: 0.6571999788284302\n",
      "Epoch 20, CIFAR-10 Batch 2:  cost: 0.014395522885024548, accuracy_value: 0.6525999903678894\n",
      "Epoch 20, CIFAR-10 Batch 3:  cost: 0.015685230493545532, accuracy_value: 0.6654000282287598\n",
      "Epoch 20, CIFAR-10 Batch 4:  cost: 0.018337931483983994, accuracy_value: 0.6496000289916992\n",
      "Epoch 20, CIFAR-10 Batch 5:  cost: 0.003415131475776434, accuracy_value: 0.6714000105857849\n",
      "Epoch 21, CIFAR-10 Batch 1:  cost: 0.019661858677864075, accuracy_value: 0.6657999753952026\n",
      "Epoch 21, CIFAR-10 Batch 2:  cost: 0.014478638768196106, accuracy_value: 0.6687999963760376\n",
      "Epoch 21, CIFAR-10 Batch 3:  cost: 0.0014373314334079623, accuracy_value: 0.6696000099182129\n",
      "Epoch 21, CIFAR-10 Batch 4:  cost: 0.010948711074888706, accuracy_value: 0.6528000235557556\n",
      "Epoch 21, CIFAR-10 Batch 5:  cost: 0.008584310300648212, accuracy_value: 0.6759999990463257\n",
      "Epoch 22, CIFAR-10 Batch 1:  cost: 0.015820547938346863, accuracy_value: 0.6643999814987183\n",
      "Epoch 22, CIFAR-10 Batch 2:  cost: 0.013883900828659534, accuracy_value: 0.6488000154495239\n",
      "Epoch 22, CIFAR-10 Batch 3:  cost: 0.004180078394711018, accuracy_value: 0.6656000018119812\n",
      "Epoch 22, CIFAR-10 Batch 4:  cost: 0.008508068509399891, accuracy_value: 0.659600019454956\n",
      "Epoch 22, CIFAR-10 Batch 5:  cost: 0.012027124874293804, accuracy_value: 0.6777999997138977\n",
      "Epoch 23, CIFAR-10 Batch 1:  cost: 0.003793851938098669, accuracy_value: 0.6528000235557556\n",
      "Epoch 23, CIFAR-10 Batch 2:  cost: 0.017910346388816833, accuracy_value: 0.6564000248908997\n",
      "Epoch 23, CIFAR-10 Batch 3:  cost: 0.0007331293891184032, accuracy_value: 0.66839998960495\n",
      "Epoch 23, CIFAR-10 Batch 4:  cost: 0.0031300943810492754, accuracy_value: 0.6521999835968018\n",
      "Epoch 23, CIFAR-10 Batch 5:  cost: 0.0029181253630667925, accuracy_value: 0.6718000173568726\n",
      "Epoch 24, CIFAR-10 Batch 1:  cost: 0.009538591839373112, accuracy_value: 0.6661999821662903\n",
      "Epoch 24, CIFAR-10 Batch 2:  cost: 0.007723295129835606, accuracy_value: 0.649399995803833\n",
      "Epoch 24, CIFAR-10 Batch 3:  cost: 0.004972616210579872, accuracy_value: 0.6660000085830688\n",
      "Epoch 24, CIFAR-10 Batch 4:  cost: 0.007207207381725311, accuracy_value: 0.6488000154495239\n",
      "Epoch 24, CIFAR-10 Batch 5:  cost: 0.0057869828306138515, accuracy_value: 0.6715999841690063\n",
      "Epoch 25, CIFAR-10 Batch 1:  cost: 0.00452113663777709, accuracy_value: 0.6607999801635742\n",
      "Epoch 25, CIFAR-10 Batch 2:  cost: 0.007185053080320358, accuracy_value: 0.6492000222206116\n",
      "Epoch 25, CIFAR-10 Batch 3:  cost: 0.002169007435441017, accuracy_value: 0.66839998960495\n",
      "Epoch 25, CIFAR-10 Batch 4:  cost: 0.013833691366016865, accuracy_value: 0.652999997138977\n",
      "Epoch 25, CIFAR-10 Batch 5:  cost: 0.0008832475286908448, accuracy_value: 0.6725999712944031\n",
      "Epoch 26, CIFAR-10 Batch 1:  cost: 0.0010389464441686869, accuracy_value: 0.6747999787330627\n",
      "Epoch 26, CIFAR-10 Batch 2:  cost: 0.005302696488797665, accuracy_value: 0.6650000214576721\n",
      "Epoch 26, CIFAR-10 Batch 3:  cost: 0.0036251742858439684, accuracy_value: 0.6665999889373779\n",
      "Epoch 26, CIFAR-10 Batch 4:  cost: 0.0012855727691203356, accuracy_value: 0.6543999910354614\n",
      "Epoch 26, CIFAR-10 Batch 5:  cost: 0.0016460351180285215, accuracy_value: 0.6728000044822693\n",
      "Epoch 27, CIFAR-10 Batch 1:  cost: 0.003497398691251874, accuracy_value: 0.670799970626831\n",
      "Epoch 27, CIFAR-10 Batch 2:  cost: 0.0025338586419820786, accuracy_value: 0.6531999707221985\n",
      "Epoch 27, CIFAR-10 Batch 3:  cost: 0.005102975759655237, accuracy_value: 0.6632000207901001\n",
      "Epoch 27, CIFAR-10 Batch 4:  cost: 0.004046186804771423, accuracy_value: 0.6470000147819519\n",
      "Epoch 27, CIFAR-10 Batch 5:  cost: 0.0011002453975379467, accuracy_value: 0.6686000227928162\n",
      "Epoch 28, CIFAR-10 Batch 1:  cost: 0.0010908038821071386, accuracy_value: 0.6787999868392944\n",
      "Epoch 28, CIFAR-10 Batch 2:  cost: 0.0014008528087288141, accuracy_value: 0.6570000052452087\n",
      "Epoch 28, CIFAR-10 Batch 3:  cost: 0.0005361510557122529, accuracy_value: 0.6711999773979187\n",
      "Epoch 28, CIFAR-10 Batch 4:  cost: 0.002246235962957144, accuracy_value: 0.6330000162124634\n",
      "Epoch 28, CIFAR-10 Batch 5:  cost: 0.005995368119329214, accuracy_value: 0.6611999869346619\n",
      "Epoch 29, CIFAR-10 Batch 1:  cost: 0.0005711911944672465, accuracy_value: 0.6687999963760376\n",
      "Epoch 29, CIFAR-10 Batch 2:  cost: 0.002692483365535736, accuracy_value: 0.6606000065803528\n",
      "Epoch 29, CIFAR-10 Batch 3:  cost: 0.00020465292618609965, accuracy_value: 0.6714000105857849\n",
      "Epoch 29, CIFAR-10 Batch 4:  cost: 0.003313958179205656, accuracy_value: 0.6380000114440918\n",
      "Epoch 29, CIFAR-10 Batch 5:  cost: 0.0010810110252350569, accuracy_value: 0.6674000024795532\n",
      "Epoch 30, CIFAR-10 Batch 1:  cost: 0.0010054120793938637, accuracy_value: 0.6764000058174133\n",
      "Epoch 30, CIFAR-10 Batch 2:  cost: 0.0046514468267560005, accuracy_value: 0.6561999917030334\n",
      "Epoch 30, CIFAR-10 Batch 3:  cost: 0.0005621259333565831, accuracy_value: 0.6705999970436096\n",
      "Epoch 30, CIFAR-10 Batch 4:  cost: 0.005431051831692457, accuracy_value: 0.6381999850273132\n",
      "Epoch 30, CIFAR-10 Batch 5:  cost: 0.004095227457582951, accuracy_value: 0.6625999808311462\n",
      "Epoch 31, CIFAR-10 Batch 1:  cost: 0.0014643068425357342, accuracy_value: 0.6714000105857849\n",
      "Epoch 31, CIFAR-10 Batch 2:  cost: 0.001977431122213602, accuracy_value: 0.6651999950408936\n",
      "Epoch 31, CIFAR-10 Batch 3:  cost: 0.0006641332292929292, accuracy_value: 0.6611999869346619\n",
      "Epoch 31, CIFAR-10 Batch 4:  cost: 0.001366517972201109, accuracy_value: 0.6514000296592712\n",
      "Epoch 31, CIFAR-10 Batch 5:  cost: 0.0009155799634754658, accuracy_value: 0.6740000247955322\n",
      "Epoch 32, CIFAR-10 Batch 1:  cost: 0.0008919821120798588, accuracy_value: 0.6661999821662903\n",
      "Epoch 32, CIFAR-10 Batch 2:  cost: 0.0012591860722750425, accuracy_value: 0.6535999774932861\n",
      "Epoch 32, CIFAR-10 Batch 3:  cost: 0.0014867696445435286, accuracy_value: 0.6674000024795532\n",
      "Epoch 32, CIFAR-10 Batch 4:  cost: 0.0030929974745959044, accuracy_value: 0.6478000283241272\n",
      "Epoch 32, CIFAR-10 Batch 5:  cost: 0.0033629373647272587, accuracy_value: 0.652999997138977\n",
      "Epoch 33, CIFAR-10 Batch 1:  cost: 0.0032027862034738064, accuracy_value: 0.6571999788284302\n",
      "Epoch 33, CIFAR-10 Batch 2:  cost: 0.0011457985965535045, accuracy_value: 0.6481999754905701\n",
      "Epoch 33, CIFAR-10 Batch 3:  cost: 0.0042573087848722935, accuracy_value: 0.6743999719619751\n",
      "Epoch 33, CIFAR-10 Batch 4:  cost: 0.001996621023863554, accuracy_value: 0.6611999869346619\n",
      "Epoch 33, CIFAR-10 Batch 5:  cost: 0.0019148632418364286, accuracy_value: 0.670799970626831\n",
      "Epoch 34, CIFAR-10 Batch 1:  cost: 0.004983627703040838, accuracy_value: 0.6746000051498413\n",
      "Epoch 34, CIFAR-10 Batch 2:  cost: 0.002253913786262274, accuracy_value: 0.6549999713897705\n",
      "Epoch 34, CIFAR-10 Batch 3:  cost: 0.0031092860735952854, accuracy_value: 0.6642000079154968\n",
      "Epoch 34, CIFAR-10 Batch 4:  cost: 0.004970907233655453, accuracy_value: 0.6489999890327454\n",
      "Epoch 34, CIFAR-10 Batch 5:  cost: 0.00032415782334282994, accuracy_value: 0.6557999849319458\n",
      "Epoch 35, CIFAR-10 Batch 1:  cost: 0.005397880915552378, accuracy_value: 0.6521999835968018\n",
      "Epoch 35, CIFAR-10 Batch 2:  cost: 0.001314331660978496, accuracy_value: 0.6492000222206116\n",
      "Epoch 35, CIFAR-10 Batch 3:  cost: 0.00061156036099419, accuracy_value: 0.6678000092506409\n",
      "Epoch 35, CIFAR-10 Batch 4:  cost: 0.0023359921760857105, accuracy_value: 0.6546000242233276\n",
      "Epoch 35, CIFAR-10 Batch 5:  cost: 0.0020586177706718445, accuracy_value: 0.6728000044822693\n",
      "Epoch 36, CIFAR-10 Batch 1:  cost: 0.0002446217113174498, accuracy_value: 0.66839998960495\n",
      "Epoch 36, CIFAR-10 Batch 2:  cost: 0.0027783166151493788, accuracy_value: 0.6442000269889832\n",
      "Epoch 36, CIFAR-10 Batch 3:  cost: 0.0022384412586688995, accuracy_value: 0.6693999767303467\n",
      "Epoch 36, CIFAR-10 Batch 4:  cost: 0.0059842271730303764, accuracy_value: 0.6588000059127808\n",
      "Epoch 36, CIFAR-10 Batch 5:  cost: 0.0005619667354039848, accuracy_value: 0.66839998960495\n",
      "Epoch 37, CIFAR-10 Batch 1:  cost: 0.002763553522527218, accuracy_value: 0.6654000282287598\n",
      "Epoch 37, CIFAR-10 Batch 2:  cost: 0.00456350389868021, accuracy_value: 0.6452000141143799\n",
      "Epoch 37, CIFAR-10 Batch 3:  cost: 0.0016626078868284822, accuracy_value: 0.6687999963760376\n",
      "Epoch 37, CIFAR-10 Batch 4:  cost: 0.0005411995225585997, accuracy_value: 0.6638000011444092\n",
      "Epoch 37, CIFAR-10 Batch 5:  cost: 0.0009470281074754894, accuracy_value: 0.6478000283241272\n",
      "Epoch 38, CIFAR-10 Batch 1:  cost: 0.003611136693507433, accuracy_value: 0.6700000166893005\n",
      "Epoch 38, CIFAR-10 Batch 2:  cost: 0.0017855720361694694, accuracy_value: 0.6520000100135803\n",
      "Epoch 38, CIFAR-10 Batch 3:  cost: 0.003080402035266161, accuracy_value: 0.6639999747276306\n",
      "Epoch 38, CIFAR-10 Batch 4:  cost: 0.009956441819667816, accuracy_value: 0.6484000086784363\n",
      "Epoch 38, CIFAR-10 Batch 5:  cost: 0.0005438014632090926, accuracy_value: 0.6638000011444092\n",
      "Epoch 39, CIFAR-10 Batch 1:  cost: 0.002904300345107913, accuracy_value: 0.6723999977111816\n",
      "Epoch 39, CIFAR-10 Batch 2:  cost: 0.005344121716916561, accuracy_value: 0.6678000092506409\n",
      "Epoch 39, CIFAR-10 Batch 3:  cost: 0.0011202751193195581, accuracy_value: 0.6728000044822693\n",
      "Epoch 39, CIFAR-10 Batch 4:  cost: 0.0011488220188766718, accuracy_value: 0.6601999998092651\n",
      "Epoch 39, CIFAR-10 Batch 5:  cost: 0.006543798837810755, accuracy_value: 0.6664000153541565\n",
      "Epoch 40, CIFAR-10 Batch 1:  cost: 0.0007310943328775465, accuracy_value: 0.6672000288963318\n",
      "Epoch 40, CIFAR-10 Batch 2:  cost: 0.00024469400523230433, accuracy_value: 0.6722000241279602\n",
      "Epoch 40, CIFAR-10 Batch 3:  cost: 0.00015457025438081473, accuracy_value: 0.6751999855041504\n",
      "Epoch 40, CIFAR-10 Batch 4:  cost: 0.004365863278508186, accuracy_value: 0.6646000146865845\n",
      "Epoch 40, CIFAR-10 Batch 5:  cost: 0.005060967057943344, accuracy_value: 0.6625999808311462\n",
      "Epoch 41, CIFAR-10 Batch 1:  cost: 0.0012698941864073277, accuracy_value: 0.6678000092506409\n",
      "Epoch 41, CIFAR-10 Batch 2:  cost: 0.0017027792055159807, accuracy_value: 0.6625999808311462\n",
      "Epoch 41, CIFAR-10 Batch 3:  cost: 0.007095335517078638, accuracy_value: 0.6773999929428101\n",
      "Epoch 41, CIFAR-10 Batch 4:  cost: 0.000791987229604274, accuracy_value: 0.6633999943733215\n",
      "Epoch 41, CIFAR-10 Batch 5:  cost: 0.0007303238962776959, accuracy_value: 0.6682000160217285\n",
      "Epoch 42, CIFAR-10 Batch 1:  cost: 0.0014257164439186454, accuracy_value: 0.6585999727249146\n",
      "Epoch 42, CIFAR-10 Batch 2:  cost: 0.0019833191763609648, accuracy_value: 0.6704000234603882\n",
      "Epoch 42, CIFAR-10 Batch 3:  cost: 0.003557174699380994, accuracy_value: 0.675599992275238\n",
      "Epoch 42, CIFAR-10 Batch 4:  cost: 0.005872505251318216, accuracy_value: 0.6618000268936157\n",
      "Epoch 42, CIFAR-10 Batch 5:  cost: 0.0002431130560580641, accuracy_value: 0.6773999929428101\n",
      "Epoch 43, CIFAR-10 Batch 1:  cost: 0.0006587589741684496, accuracy_value: 0.6826000213623047\n",
      "Epoch 43, CIFAR-10 Batch 2:  cost: 0.00042002229019999504, accuracy_value: 0.6791999936103821\n",
      "Epoch 43, CIFAR-10 Batch 3:  cost: 0.0017179723363369703, accuracy_value: 0.6776000261306763\n",
      "Epoch 43, CIFAR-10 Batch 4:  cost: 0.0007035439484752715, accuracy_value: 0.6642000079154968\n",
      "Epoch 43, CIFAR-10 Batch 5:  cost: 0.0008551356149837375, accuracy_value: 0.6741999983787537\n",
      "Epoch 44, CIFAR-10 Batch 1:  cost: 0.007672125939279795, accuracy_value: 0.6557999849319458\n",
      "Epoch 44, CIFAR-10 Batch 2:  cost: 6.0887054132763296e-05, accuracy_value: 0.671999990940094\n",
      "Epoch 44, CIFAR-10 Batch 3:  cost: 3.36755983880721e-05, accuracy_value: 0.6805999875068665\n",
      "Epoch 44, CIFAR-10 Batch 4:  cost: 0.0004450924170669168, accuracy_value: 0.6503999829292297\n",
      "Epoch 44, CIFAR-10 Batch 5:  cost: 0.0006091022514738142, accuracy_value: 0.6679999828338623\n",
      "Epoch 45, CIFAR-10 Batch 1:  cost: 0.0028340760618448257, accuracy_value: 0.6765999794006348\n",
      "Epoch 45, CIFAR-10 Batch 2:  cost: 0.002366098342463374, accuracy_value: 0.6710000038146973\n",
      "Epoch 45, CIFAR-10 Batch 3:  cost: 0.0012330427998676896, accuracy_value: 0.6705999970436096\n",
      "Epoch 45, CIFAR-10 Batch 4:  cost: 0.0002702807541936636, accuracy_value: 0.6618000268936157\n",
      "Epoch 45, CIFAR-10 Batch 5:  cost: 0.0007283557788468897, accuracy_value: 0.6772000193595886\n",
      "Epoch 46, CIFAR-10 Batch 1:  cost: 0.00248396722599864, accuracy_value: 0.6674000024795532\n",
      "Epoch 46, CIFAR-10 Batch 2:  cost: 0.0017085230210795999, accuracy_value: 0.6736000180244446\n",
      "Epoch 46, CIFAR-10 Batch 3:  cost: 0.001006530481390655, accuracy_value: 0.6761999726295471\n",
      "Epoch 46, CIFAR-10 Batch 4:  cost: 0.002203327137976885, accuracy_value: 0.6672000288963318\n",
      "Epoch 46, CIFAR-10 Batch 5:  cost: 0.0023054578341543674, accuracy_value: 0.675599992275238\n",
      "Epoch 47, CIFAR-10 Batch 1:  cost: 0.0014599818969145417, accuracy_value: 0.676800012588501\n",
      "Epoch 47, CIFAR-10 Batch 2:  cost: 0.0011151302605867386, accuracy_value: 0.6751999855041504\n",
      "Epoch 47, CIFAR-10 Batch 3:  cost: 0.001131933880969882, accuracy_value: 0.6790000200271606\n",
      "Epoch 47, CIFAR-10 Batch 4:  cost: 0.0008345708483830094, accuracy_value: 0.6614000201225281\n",
      "Epoch 47, CIFAR-10 Batch 5:  cost: 0.021536540240049362, accuracy_value: 0.6740000247955322\n",
      "Epoch 48, CIFAR-10 Batch 1:  cost: 0.000514485698658973, accuracy_value: 0.6783999800682068\n",
      "Epoch 48, CIFAR-10 Batch 2:  cost: 0.0006354745128192008, accuracy_value: 0.6535999774932861\n",
      "Epoch 48, CIFAR-10 Batch 3:  cost: 0.0022365387994796038, accuracy_value: 0.6711999773979187\n",
      "Epoch 48, CIFAR-10 Batch 4:  cost: 0.0014784442028030753, accuracy_value: 0.6690000295639038\n",
      "Epoch 48, CIFAR-10 Batch 5:  cost: 0.0006401020218618214, accuracy_value: 0.6779999732971191\n",
      "Epoch 49, CIFAR-10 Batch 1:  cost: 0.0016337208217009902, accuracy_value: 0.675000011920929\n",
      "Epoch 49, CIFAR-10 Batch 2:  cost: 0.000956164498347789, accuracy_value: 0.6610000133514404\n",
      "Epoch 49, CIFAR-10 Batch 3:  cost: 0.0006033804384060204, accuracy_value: 0.6815999746322632\n",
      "Epoch 49, CIFAR-10 Batch 4:  cost: 0.0021963499020785093, accuracy_value: 0.6603999733924866\n",
      "Epoch 49, CIFAR-10 Batch 5:  cost: 0.00010595181083772331, accuracy_value: 0.678600013256073\n",
      "Epoch 50, CIFAR-10 Batch 1:  cost: 0.0001752711395965889, accuracy_value: 0.6633999943733215\n",
      "Epoch 50, CIFAR-10 Batch 2:  cost: 0.0021564974449574947, accuracy_value: 0.6669999957084656\n",
      "Epoch 50, CIFAR-10 Batch 3:  cost: 9.072669490706176e-05, accuracy_value: 0.6833999752998352\n",
      "Epoch 50, CIFAR-10 Batch 4:  cost: 0.0010835148859769106, accuracy_value: 0.6700000166893005\n",
      "Epoch 50, CIFAR-10 Batch 5:  cost: 2.5174933398375288e-05, accuracy_value: 0.6782000064849854\n"
     ]
    }
   ],
   "source": [
    "\"\"\"\n",
    "DON'T MODIFY ANYTHING IN THIS CELL\n",
    "\"\"\"\n",
    "save_model_path = './image_classification'\n",
    "\n",
    "print('Training...')\n",
    "with tf.Session() as sess:\n",
    "    # Initializing the variables\n",
    "    sess.run(tf.global_variables_initializer())\n",
    "    \n",
    "    # Training cycle\n",
    "    for epoch in range(epochs):\n",
    "        # Loop over all batches\n",
    "        n_batches = 5\n",
    "        for batch_i in range(1, n_batches + 1):\n",
    "            for batch_features, batch_labels in helper.load_preprocess_training_batch(batch_i, batch_size):\n",
    "                train_neural_network(sess, optimizer, keep_probability, batch_features, batch_labels)\n",
    "            print('Epoch {:>2}, CIFAR-10 Batch {}:  '.format(epoch + 1, batch_i), end='')\n",
    "            print_stats(sess, batch_features, batch_labels, cost, accuracy)\n",
    "            \n",
    "    # Save Model\n",
    "    saver = tf.train.Saver()\n",
    "    save_path = saver.save(sess, save_model_path)"
   ]
  },
  {
   "cell_type": "markdown",
   "metadata": {},
   "source": [
    "# Checkpoint\n",
    "The model has been saved to disk.\n",
    "## Test Model\n",
    "Test your model against the test dataset.  This will be your final accuracy. You should have an accuracy greater than 50%. If you don't, keep tweaking the model architecture and parameters."
   ]
  },
  {
   "cell_type": "code",
   "execution_count": 20,
   "metadata": {
    "collapsed": false
   },
   "outputs": [
    {
     "name": "stdout",
     "output_type": "stream",
     "text": [
      "Testing Accuracy: 0.6763251582278481\n",
      "\n"
     ]
    },
    {
     "data": {
      "image/png": "[encoded data removed]",
      "text/plain": [
       "<matplotlib.figure.Figure at 0x1b928495278>"
      ]
     },
     "metadata": {
      "image/png": {
       "height": 319,
       "width": 349
      }
     },
     "output_type": "display_data"
    }
   ],
   "source": [
    "\"\"\"\n",
    "DON'T MODIFY ANYTHING IN THIS CELL\n",
    "\"\"\"\n",
    "%matplotlib inline\n",
    "%config InlineBackend.figure_format = 'retina'\n",
    "\n",
    "import tensorflow as tf\n",
    "import pickle\n",
    "import helper\n",
    "import random\n",
    "\n",
    "# Set batch size if not already set\n",
    "try:\n",
    "    if batch_size:\n",
    "        pass\n",
    "except NameError:\n",
    "    batch_size = 64\n",
    "\n",
    "save_model_path = './image_classification'\n",
    "n_samples = 4\n",
    "top_n_predictions = 3\n",
    "\n",
    "def test_model():\n",
    "    \"\"\"\n",
    "    Test the saved model against the test dataset\n",
    "    \"\"\"\n",
    "\n",
    "    test_features, test_labels = pickle.load(open('preprocess_training.p', mode='rb'))\n",
    "    loaded_graph = tf.Graph()\n",
    "\n",
    "    with tf.Session(graph=loaded_graph) as sess:\n",
    "        # Load model\n",
    "        loader = tf.train.import_meta_graph(save_model_path + '.meta')\n",
    "        loader.restore(sess, save_model_path)\n",
    "\n",
    "        # Get Tensors from loaded model\n",
    "        loaded_x = loaded_graph.get_tensor_by_name('x:0')\n",
    "        loaded_y = loaded_graph.get_tensor_by_name('y:0')\n",
    "        loaded_keep_prob = loaded_graph.get_tensor_by_name('keep_prob:0')\n",
    "        loaded_logits = loaded_graph.get_tensor_by_name('logits:0')\n",
    "        loaded_acc = loaded_graph.get_tensor_by_name('accuracy:0')\n",
    "        \n",
    "        # Get accuracy in batches for memory limitations\n",
    "        test_batch_acc_total = 0\n",
    "        test_batch_count = 0\n",
    "        \n",
    "        for train_feature_batch, train_label_batch in helper.batch_features_labels(test_features, test_labels, batch_size):\n",
    "            test_batch_acc_total += sess.run(\n",
    "                loaded_acc,\n",
    "                feed_dict={loaded_x: train_feature_batch, loaded_y: train_label_batch, loaded_keep_prob: 1.0})\n",
    "            test_batch_count += 1\n",
    "\n",
    "        print('Testing Accuracy: {}\\n'.format(test_batch_acc_total/test_batch_count))\n",
    "\n",
    "        # Print Random Samples\n",
    "        random_test_features, random_test_labels = tuple(zip(*random.sample(list(zip(test_features, test_labels)), n_samples)))\n",
    "        random_test_predictions = sess.run(\n",
    "            tf.nn.top_k(tf.nn.softmax(loaded_logits), top_n_predictions),\n",
    "            feed_dict={loaded_x: random_test_features, loaded_y: random_test_labels, loaded_keep_prob: 1.0})\n",
    "        helper.display_image_predictions(random_test_features, random_test_labels, random_test_predictions)\n",
    "\n",
    "\n",
    "test_model()"
   ]
  },
  {
   "cell_type": "markdown",
   "metadata": {},
   "source": [
    "## Why 50-80% Accuracy?\n",
    "You might be wondering why you can't get an accuracy any higher. First things first, 50% isn't bad for a simple CNN.  Pure guessing would get you 10% accuracy. That's because there are many more techniques that can be applied to your model and we recemmond that once you are done with this project, you explore!\n",
    "\n",
    "## Submitting This Project\n",
    "When submitting this project, make sure to run all the cells before saving the notebook.  Save the notebook file as \"image_classification.ipynb\" and save it as a HTML file under \"File\" -> \"Download as\".  Include the \"helper.py\" and \"problem_unittests.py\" files in your submission."
   ]
  }
 ],
 "metadata": {
  "kernelspec": {
   "display_name": "Python 3",
   "language": "python",
   "name": "python3"
  },
  "language_info": {
   "codemirror_mode": {
    "name": "ipython",
    "version": 3
   },
   "file_extension": ".py",
   "mimetype": "text/x-python",
   "name": "python",
   "nbconvert_exporter": "python",
   "pygments_lexer": "ipython3",
   "version": "3.5.2"
  }
 },
 "nbformat": 4,
 "nbformat_minor": 1
}
