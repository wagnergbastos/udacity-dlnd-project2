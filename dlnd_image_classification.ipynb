{
 "cells": [
  {
   "cell_type": "markdown",
   "metadata": {
    "collapsed": true,
    "deletable": true,
    "editable": true
   },
   "source": [
    "# Image Classification\n",
    "In this project, you'll classify images from the [CIFAR-10 dataset](https://www.cs.toronto.edu/~kriz/cifar.html).  The dataset consists of airplanes, dogs, cats, and other objects. You'll preprocess the images, then train a convolutional neural network on all the samples. The images need to be normalized and the labels need to be one-hot encoded.  You'll get to apply what you learned and build a convolutional, max pooling, dropout, and fully connected layers.  At the end, you'll get to see your neural network's predictions on the sample images.\n",
    "## Get the Data\n",
    "Run the following cell to download the [CIFAR-10 dataset for python](https://www.cs.toronto.edu/~kriz/cifar-10-python.tar.gz)."
   ]
  },
  {
   "cell_type": "code",
   "execution_count": 1,
   "metadata": {
    "collapsed": false,
    "deletable": true,
    "editable": true
   },
   "outputs": [
    {
     "name": "stdout",
     "output_type": "stream",
     "text": [
      "All files found!\n"
     ]
    }
   ],
   "source": [
    "\"\"\"\n",
    "DON'T MODIFY ANYTHING IN THIS CELL THAT IS BELOW THIS LINE\n",
    "\"\"\"\n",
    "from urllib.request import urlretrieve\n",
    "from os.path import isfile, isdir\n",
    "from tqdm import tqdm\n",
    "import problem_unittests as tests\n",
    "import tarfile\n",
    "\n",
    "cifar10_dataset_folder_path = 'cifar-10-batches-py'\n",
    "\n",
    "# Use Floyd's cifar-10 dataset if present\n",
    "floyd_cifar10_location = '/input/cifar-10/python.tar.gz'\n",
    "if isfile(floyd_cifar10_location):\n",
    "    tar_gz_path = floyd_cifar10_location\n",
    "else:\n",
    "    tar_gz_path = 'cifar-10-python.tar.gz'\n",
    "\n",
    "class DLProgress(tqdm):\n",
    "    last_block = 0\n",
    "\n",
    "    def hook(self, block_num=1, block_size=1, total_size=None):\n",
    "        self.total = total_size\n",
    "        self.update((block_num - self.last_block) * block_size)\n",
    "        self.last_block = block_num\n",
    "\n",
    "if not isfile(tar_gz_path):\n",
    "    with DLProgress(unit='B', unit_scale=True, miniters=1, desc='CIFAR-10 Dataset') as pbar:\n",
    "        urlretrieve(\n",
    "            'https://www.cs.toronto.edu/~kriz/cifar-10-python.tar.gz',\n",
    "            tar_gz_path,\n",
    "            pbar.hook)\n",
    "\n",
    "if not isdir(cifar10_dataset_folder_path):\n",
    "    with tarfile.open(tar_gz_path) as tar:\n",
    "        tar.extractall()\n",
    "        tar.close()\n",
    "\n",
    "\n",
    "tests.test_folder_path(cifar10_dataset_folder_path)"
   ]
  },
  {
   "cell_type": "markdown",
   "metadata": {
    "deletable": true,
    "editable": true
   },
   "source": [
    "## Explore the Data\n",
    "The dataset is broken into batches to prevent your machine from running out of memory.  The CIFAR-10 dataset consists of 5 batches, named `data_batch_1`, `data_batch_2`, etc.. Each batch contains the labels and images that are one of the following:\n",
    "* airplane\n",
    "* automobile\n",
    "* bird\n",
    "* cat\n",
    "* deer\n",
    "* dog\n",
    "* frog\n",
    "* horse\n",
    "* ship\n",
    "* truck\n",
    "\n",
    "Understanding a dataset is part of making predictions on the data.  Play around with the code cell below by changing the `batch_id` and `sample_id`. The `batch_id` is the id for a batch (1-5). The `sample_id` is the id for a image and label pair in the batch.\n",
    "\n",
    "Ask yourself \"What are all possible labels?\", \"What is the range of values for the image data?\", \"Are the labels in order or random?\".  Answers to questions like these will help you preprocess the data and end up with better predictions."
   ]
  },
  {
   "cell_type": "code",
   "execution_count": 2,
   "metadata": {
    "collapsed": false,
    "deletable": true,
    "editable": true
   },
   "outputs": [
    {
     "name": "stdout",
     "output_type": "stream",
     "text": [
      "\n",
      "Stats of batch 1:\n",
      "Samples: 10000\n",
      "Label Counts: {0: 1005, 1: 974, 2: 1032, 3: 1016, 4: 999, 5: 937, 6: 1030, 7: 1001, 8: 1025, 9: 981}\n",
      "First 20 Labels: [6, 9, 9, 4, 1, 1, 2, 7, 8, 3, 4, 7, 7, 2, 9, 9, 9, 3, 2, 6]\n",
      "\n",
      "Example of Image 5:\n",
      "Image - Min Value: 0 Max Value: 252\n",
      "Image - Shape: (32, 32, 3)\n",
      "Label - Label Id: 1 Name: automobile\n"
     ]
    },
    {
     "data": {
      "image/png": "[encoded data removed]",
      "text/plain": [
       "<matplotlib.figure.Figure at 0x7fa9df368940>"
      ]
     },
     "metadata": {
      "image/png": {
       "height": 250,
       "width": 253
      }
     },
     "output_type": "display_data"
    }
   ],
   "source": [
    "%matplotlib inline\n",
    "%config InlineBackend.figure_format = 'retina'\n",
    "\n",
    "import helper\n",
    "import numpy as np\n",
    "\n",
    "# Explore the dataset\n",
    "batch_id = 1\n",
    "sample_id = 5\n",
    "helper.display_stats(cifar10_dataset_folder_path, batch_id, sample_id)"
   ]
  },
  {
   "cell_type": "markdown",
   "metadata": {
    "deletable": true,
    "editable": true
   },
   "source": [
    "## Implement Preprocess Functions\n",
    "### Normalize\n",
    "In the cell below, implement the `normalize` function to take in image data, `x`, and return it as a normalized Numpy array. The values should be in the range of 0 to 1, inclusive.  The return object should be the same shape as `x`."
   ]
  },
  {
   "cell_type": "code",
   "execution_count": 3,
   "metadata": {
    "collapsed": false,
    "deletable": true,
    "editable": true
   },
   "outputs": [
    {
     "name": "stdout",
     "output_type": "stream",
     "text": [
      "Tests Passed\n"
     ]
    }
   ],
   "source": [
    "def normalize(x):\n",
    "    \"\"\"\n",
    "    Normalize a list of sample image data in the range of 0 to 1\n",
    "    : x: List of image data.  The image shape is (32, 32, 3)\n",
    "    : return: Numpy array of normalize data\n",
    "    \"\"\"\n",
    "    # TODO: Implement Function\n",
    "    return x/np.max(x) \n",
    "\n",
    "\n",
    "\"\"\"\n",
    "DON'T MODIFY ANYTHING IN THIS CELL THAT IS BELOW THIS LINE\n",
    "\"\"\"\n",
    "tests.test_normalize(normalize)"
   ]
  },
  {
   "cell_type": "markdown",
   "metadata": {
    "deletable": true,
    "editable": true
   },
   "source": [
    "### One-hot encode\n",
    "Just like the previous code cell, you'll be implementing a function for preprocessing.  This time, you'll implement the `one_hot_encode` function. The input, `x`, are a list of labels.  Implement the function to return the list of labels as One-Hot encoded Numpy array.  The possible values for labels are 0 to 9. The one-hot encoding function should return the same encoding for each value between each call to `one_hot_encode`.  Make sure to save the map of encodings outside the function.\n",
    "\n",
    "Hint: Don't reinvent the wheel."
   ]
  },
  {
   "cell_type": "code",
   "execution_count": 4,
   "metadata": {
    "collapsed": false,
    "deletable": true,
    "editable": true
   },
   "outputs": [
    {
     "name": "stdout",
     "output_type": "stream",
     "text": [
      "Tests Passed\n"
     ]
    }
   ],
   "source": [
    "map_of_encodings = np.eye(10)\n",
    "\n",
    "def one_hot_encode(x):\n",
    "    \"\"\"\n",
    "    One hot encode a list of sample labels. Return a one-hot encoded vector for each label.\n",
    "    : x: List of sample Labels\n",
    "    : return: Numpy array of one-hot encoded labels\n",
    "    \"\"\"\n",
    "    # TODO: Implement Function\n",
    "    return map_of_encodings[x] \n",
    "\n",
    "\n",
    "\"\"\"\n",
    "DON'T MODIFY ANYTHING IN THIS CELL THAT IS BELOW THIS LINE\n",
    "\"\"\"\n",
    "tests.test_one_hot_encode(one_hot_encode)"
   ]
  },
  {
   "cell_type": "markdown",
   "metadata": {
    "deletable": true,
    "editable": true
   },
   "source": [
    "### Randomize Data\n",
    "As you saw from exploring the data above, the order of the samples are randomized.  It doesn't hurt to randomize it again, but you don't need to for this dataset."
   ]
  },
  {
   "cell_type": "markdown",
   "metadata": {
    "deletable": true,
    "editable": true
   },
   "source": [
    "## Preprocess all the data and save it\n",
    "Running the code cell below will preprocess all the CIFAR-10 data and save it to file. The code below also uses 10% of the training data for validation."
   ]
  },
  {
   "cell_type": "code",
   "execution_count": 5,
   "metadata": {
    "collapsed": true,
    "deletable": true,
    "editable": true
   },
   "outputs": [],
   "source": [
    "\"\"\"\n",
    "DON'T MODIFY ANYTHING IN THIS CELL\n",
    "\"\"\"\n",
    "# Preprocess Training, Validation, and Testing Data\n",
    "helper.preprocess_and_save_data(cifar10_dataset_folder_path, normalize, one_hot_encode)"
   ]
  },
  {
   "cell_type": "markdown",
   "metadata": {
    "deletable": true,
    "editable": true
   },
   "source": [
    "# Check Point\n",
    "This is your first checkpoint.  If you ever decide to come back to this notebook or have to restart the notebook, you can start from here.  The preprocessed data has been saved to disk."
   ]
  },
  {
   "cell_type": "code",
   "execution_count": 6,
   "metadata": {
    "collapsed": true,
    "deletable": true,
    "editable": true
   },
   "outputs": [],
   "source": [
    "\"\"\"\n",
    "DON'T MODIFY ANYTHING IN THIS CELL\n",
    "\"\"\"\n",
    "import pickle\n",
    "import problem_unittests as tests\n",
    "import helper\n",
    "\n",
    "# Load the Preprocessed Validation data\n",
    "valid_features, valid_labels = pickle.load(open('preprocess_validation.p', mode='rb'))"
   ]
  },
  {
   "cell_type": "markdown",
   "metadata": {
    "deletable": true,
    "editable": true
   },
   "source": [
    "## Build the network\n",
    "For the neural network, you'll build each layer into a function.  Most of the code you've seen has been outside of functions. To test your code more thoroughly, we require that you put each layer in a function.  This allows us to give you better feedback and test for simple mistakes using our unittests before you submit your project.\n",
    "\n",
    ">**Note:** If you're finding it hard to dedicate enough time for this course each week, we've provided a small shortcut to this part of the project. In the next couple of problems, you'll have the option to use classes from the [TensorFlow Layers](https://www.tensorflow.org/api_docs/python/tf/layers) or [TensorFlow Layers (contrib)](https://www.tensorflow.org/api_guides/python/contrib.layers) packages to build each layer, except the layers you build in the \"Convolutional and Max Pooling Layer\" section.  TF Layers is similar to Keras's and TFLearn's abstraction to layers, so it's easy to pickup.\n",
    "\n",
    ">However, if you would like to get the most out of this course, try to solve all the problems _without_ using anything from the TF Layers packages. You **can** still use classes from other packages that happen to have the same name as ones you find in TF Layers! For example, instead of using the TF Layers version of the `conv2d` class, [tf.layers.conv2d](https://www.tensorflow.org/api_docs/python/tf/layers/conv2d), you would want to use the TF Neural Network version of `conv2d`, [tf.nn.conv2d](https://www.tensorflow.org/api_docs/python/tf/nn/conv2d). \n",
    "\n",
    "Let's begin!\n",
    "\n",
    "### Input\n",
    "The neural network needs to read the image data, one-hot encoded labels, and dropout keep probability. Implement the following functions\n",
    "* Implement `neural_net_image_input`\n",
    " * Return a [TF Placeholder](https://www.tensorflow.org/api_docs/python/tf/placeholder)\n",
    " * Set the shape using `image_shape` with batch size set to `None`.\n",
    " * Name the TensorFlow placeholder \"x\" using the TensorFlow `name` parameter in the [TF Placeholder](https://www.tensorflow.org/api_docs/python/tf/placeholder).\n",
    "* Implement `neural_net_label_input`\n",
    " * Return a [TF Placeholder](https://www.tensorflow.org/api_docs/python/tf/placeholder)\n",
    " * Set the shape using `n_classes` with batch size set to `None`.\n",
    " * Name the TensorFlow placeholder \"y\" using the TensorFlow `name` parameter in the [TF Placeholder](https://www.tensorflow.org/api_docs/python/tf/placeholder).\n",
    "* Implement `neural_net_keep_prob_input`\n",
    " * Return a [TF Placeholder](https://www.tensorflow.org/api_docs/python/tf/placeholder) for dropout keep probability.\n",
    " * Name the TensorFlow placeholder \"keep_prob\" using the TensorFlow `name` parameter in the [TF Placeholder](https://www.tensorflow.org/api_docs/python/tf/placeholder).\n",
    "\n",
    "These names will be used at the end of the project to load your saved model.\n",
    "\n",
    "Note: `None` for shapes in TensorFlow allow for a dynamic size."
   ]
  },
  {
   "cell_type": "code",
   "execution_count": 7,
   "metadata": {
    "collapsed": false,
    "deletable": true,
    "editable": true
   },
   "outputs": [
    {
     "name": "stdout",
     "output_type": "stream",
     "text": [
      "Image Input Tests Passed.\n",
      "Label Input Tests Passed.\n",
      "Keep Prob Tests Passed.\n"
     ]
    }
   ],
   "source": [
    "import tensorflow as tf\n",
    "\n",
    "def neural_net_image_input(image_shape):\n",
    "    \"\"\"\n",
    "    Return a Tensor for a bach of image input\n",
    "    : image_shape: Shape of the images\n",
    "    : return: Tensor for image input.\n",
    "    \"\"\"\n",
    "    # TODO: Implement Function\n",
    "    return tf.placeholder(tf.float32, shape=[None, image_shape[0], image_shape[1], image_shape[2]], name=\"x\")\n",
    "\n",
    "\n",
    "def neural_net_label_input(n_classes):\n",
    "    \"\"\"\n",
    "    Return a Tensor for a batch of label input\n",
    "    : n_classes: Number of classes\n",
    "    : return: Tensor for label input.\n",
    "    \"\"\"\n",
    "    # TODO: Implement Function\n",
    "    return tf.placeholder(tf.float32, shape=[None, n_classes], name=\"y\")\n",
    "\n",
    "\n",
    "def neural_net_keep_prob_input():\n",
    "    \"\"\"\n",
    "    Return a Tensor for keep probability\n",
    "    : return: Tensor for keep probability.\n",
    "    \"\"\"\n",
    "    # TODO: Implement Function\n",
    "    return tf.placeholder(tf.float32, name = 'keep_prob')\n",
    "\n",
    "\n",
    "\"\"\"\n",
    "DON'T MODIFY ANYTHING IN THIS CELL THAT IS BELOW THIS LINE\n",
    "\"\"\"\n",
    "tf.reset_default_graph()\n",
    "tests.test_nn_image_inputs(neural_net_image_input)\n",
    "tests.test_nn_label_inputs(neural_net_label_input)\n",
    "tests.test_nn_keep_prob_inputs(neural_net_keep_prob_input)"
   ]
  },
  {
   "cell_type": "markdown",
   "metadata": {
    "deletable": true,
    "editable": true
   },
   "source": [
    "### Convolution and Max Pooling Layer\n",
    "Convolution layers have a lot of success with images. For this code cell, you should implement the function `conv2d_maxpool` to apply convolution then max pooling:\n",
    "* Create the weight and bias using `conv_ksize`, `conv_num_outputs` and the shape of `x_tensor`.\n",
    "* Apply a convolution to `x_tensor` using weight and `conv_strides`.\n",
    " * We recommend you use same padding, but you're welcome to use any padding.\n",
    "* Add bias\n",
    "* Add a nonlinear activation to the convolution.\n",
    "* Apply Max Pooling using `pool_ksize` and `pool_strides`.\n",
    " * We recommend you use same padding, but you're welcome to use any padding.\n",
    "\n",
    "**Note:** You **can't** use [TensorFlow Layers](https://www.tensorflow.org/api_docs/python/tf/layers) or [TensorFlow Layers (contrib)](https://www.tensorflow.org/api_guides/python/contrib.layers) for **this** layer, but you can still use TensorFlow's [Neural Network](https://www.tensorflow.org/api_docs/python/tf/nn) package. You may still use the shortcut option for all the **other** layers."
   ]
  },
  {
   "cell_type": "code",
   "execution_count": 8,
   "metadata": {
    "collapsed": false,
    "deletable": true,
    "editable": true
   },
   "outputs": [
    {
     "name": "stdout",
     "output_type": "stream",
     "text": [
      "Tests Passed\n"
     ]
    }
   ],
   "source": [
    "def conv2d_maxpool(x_tensor, conv_num_outputs, conv_ksize, conv_strides, pool_ksize, pool_strides):\n",
    "    \"\"\"\n",
    "    Apply convolution then max pooling to x_tensor\n",
    "    :param x_tensor: TensorFlow Tensor\n",
    "    :param conv_num_outputs: Number of outputs for the convolutional layer\n",
    "    :param conv_ksize: kernal size 2-D Tuple for the convolutional layer\n",
    "    :param conv_strides: Stride 2-D Tuple for convolution\n",
    "    :param pool_ksize: kernal size 2-D Tuple for pool\n",
    "    :param pool_strides: Stride 2-D Tuple for pool\n",
    "    : return: A tensor that represents convolution and max pooling of x_tensor\n",
    "    \"\"\"\n",
    "    # TODO: Implement Function\n",
    "    weight = tf.Variable(tf.random_normal([conv_ksize[0], conv_ksize[1], x_tensor.get_shape().as_list()[3], conv_num_outputs], stddev=0.1))\n",
    "    bias   = tf.Variable(tf.random_normal([conv_num_outputs], stddev=0.1))\n",
    "    x_tensor = tf.nn.conv2d(x_tensor, weight, [1, conv_strides[0], conv_strides[1], 1], padding='SAME')\n",
    "    x_tensor = tf.nn.bias_add(x_tensor, bias)\n",
    "    x_tensor = tf.nn.relu(x_tensor)\n",
    "    x_tensor = tf.nn.max_pool(x_tensor, [1, pool_ksize[0], pool_ksize[1], 1], [1, pool_strides[0], pool_strides[1], 1], padding='SAME')\n",
    "    return x_tensor \n",
    "\n",
    "\"\"\"\n",
    "DON'T MODIFY ANYTHING IN THIS CELL THAT IS BELOW THIS LINE\n",
    "\"\"\"\n",
    "tests.test_con_pool(conv2d_maxpool)"
   ]
  },
  {
   "cell_type": "markdown",
   "metadata": {
    "deletable": true,
    "editable": true
   },
   "source": [
    "### Flatten Layer\n",
    "Implement the `flatten` function to change the dimension of `x_tensor` from a 4-D tensor to a 2-D tensor.  The output should be the shape (*Batch Size*, *Flattened Image Size*). Shortcut option: you can use classes from the [TensorFlow Layers](https://www.tensorflow.org/api_docs/python/tf/layers) or [TensorFlow Layers (contrib)](https://www.tensorflow.org/api_guides/python/contrib.layers) packages for this layer. For more of a challenge, only use other TensorFlow packages."
   ]
  },
  {
   "cell_type": "code",
   "execution_count": 9,
   "metadata": {
    "collapsed": false,
    "deletable": true,
    "editable": true
   },
   "outputs": [
    {
     "name": "stdout",
     "output_type": "stream",
     "text": [
      "Tests Passed\n"
     ]
    }
   ],
   "source": [
    "def flatten(x_tensor):\n",
    "    \"\"\"\n",
    "    Flatten x_tensor to (Batch Size, Flattened Image Size)\n",
    "    : x_tensor: A tensor of size (Batch Size, ...), where ... are the image dimensions.\n",
    "    : return: A tensor of size (Batch Size, Flattened Image Size).\n",
    "    \"\"\"\n",
    "    # TODO: Implement Function\n",
    "    return tf.contrib.layers.flatten(x_tensor)\n",
    "\n",
    "\n",
    "\"\"\"\n",
    "DON'T MODIFY ANYTHING IN THIS CELL THAT IS BELOW THIS LINE\n",
    "\"\"\"\n",
    "tests.test_flatten(flatten)"
   ]
  },
  {
   "cell_type": "markdown",
   "metadata": {
    "deletable": true,
    "editable": true
   },
   "source": [
    "### Fully-Connected Layer\n",
    "Implement the `fully_conn` function to apply a fully connected layer to `x_tensor` with the shape (*Batch Size*, *num_outputs*). Shortcut option: you can use classes from the [TensorFlow Layers](https://www.tensorflow.org/api_docs/python/tf/layers) or [TensorFlow Layers (contrib)](https://www.tensorflow.org/api_guides/python/contrib.layers) packages for this layer. For more of a challenge, only use other TensorFlow packages."
   ]
  },
  {
   "cell_type": "code",
   "execution_count": 10,
   "metadata": {
    "collapsed": false,
    "deletable": true,
    "editable": true
   },
   "outputs": [
    {
     "name": "stdout",
     "output_type": "stream",
     "text": [
      "Tests Passed\n"
     ]
    }
   ],
   "source": [
    "def fully_conn(x_tensor, num_outputs):\n",
    "    \"\"\"\n",
    "    Apply a fully connected layer to x_tensor using weight and bias\n",
    "    : x_tensor: A 2-D tensor where the first dimension is batch size.\n",
    "    : num_outputs: The number of output that the new tensor should be.\n",
    "    : return: A 2-D tensor where the second dimension is num_outputs.\n",
    "    \"\"\"\n",
    "    # TODO: Implement Function\n",
    "    return tf.contrib.layers.fully_connected(x_tensor, num_outputs, tf.nn.relu)\n",
    "\n",
    "\n",
    "\"\"\"\n",
    "DON'T MODIFY ANYTHING IN THIS CELL THAT IS BELOW THIS LINE\n",
    "\"\"\"\n",
    "tests.test_fully_conn(fully_conn)"
   ]
  },
  {
   "cell_type": "markdown",
   "metadata": {
    "deletable": true,
    "editable": true
   },
   "source": [
    "### Output Layer\n",
    "Implement the `output` function to apply a fully connected layer to `x_tensor` with the shape (*Batch Size*, *num_outputs*). Shortcut option: you can use classes from the [TensorFlow Layers](https://www.tensorflow.org/api_docs/python/tf/layers) or [TensorFlow Layers (contrib)](https://www.tensorflow.org/api_guides/python/contrib.layers) packages for this layer. For more of a challenge, only use other TensorFlow packages.\n",
    "\n",
    "**Note:** Activation, softmax, or cross entropy should **not** be applied to this."
   ]
  },
  {
   "cell_type": "code",
   "execution_count": 11,
   "metadata": {
    "collapsed": false,
    "deletable": true,
    "editable": true
   },
   "outputs": [
    {
     "name": "stdout",
     "output_type": "stream",
     "text": [
      "Tests Passed\n"
     ]
    }
   ],
   "source": [
    "def output(x_tensor, num_outputs):\n",
    "    \"\"\"\n",
    "    Apply a output layer to x_tensor using weight and bias\n",
    "    : x_tensor: A 2-D tensor where the first dimension is batch size.\n",
    "    : num_outputs: The number of output that the new tensor should be.\n",
    "    : return: A 2-D tensor where the second dimension is num_outputs.\n",
    "    \"\"\"\n",
    "    # TODO: Implement Function\n",
    "    return tf.contrib.layers.fully_connected(x_tensor, num_outputs)\n",
    "\n",
    "\n",
    "\"\"\"\n",
    "DON'T MODIFY ANYTHING IN THIS CELL THAT IS BELOW THIS LINE\n",
    "\"\"\"\n",
    "tests.test_output(output)"
   ]
  },
  {
   "cell_type": "markdown",
   "metadata": {
    "deletable": true,
    "editable": true
   },
   "source": [
    "### Create Convolutional Model\n",
    "Implement the function `conv_net` to create a convolutional neural network model. The function takes in a batch of images, `x`, and outputs logits.  Use the layers you created above to create this model:\n",
    "\n",
    "* Apply 1, 2, or 3 Convolution and Max Pool layers\n",
    "* Apply a Flatten Layer\n",
    "* Apply 1, 2, or 3 Fully Connected Layers\n",
    "* Apply an Output Layer\n",
    "* Return the output\n",
    "* Apply [TensorFlow's Dropout](https://www.tensorflow.org/api_docs/python/tf/nn/dropout) to one or more layers in the model using `keep_prob`. "
   ]
  },
  {
   "cell_type": "code",
   "execution_count": 12,
   "metadata": {
    "collapsed": false,
    "deletable": true,
    "editable": true
   },
   "outputs": [
    {
     "name": "stdout",
     "output_type": "stream",
     "text": [
      "Neural Network Built!\n"
     ]
    }
   ],
   "source": [
    "def conv_net(x, keep_prob):\n",
    "    \"\"\"\n",
    "    Create a convolutional neural network model\n",
    "    : x: Placeholder tensor that holds image data.\n",
    "    : keep_prob: Placeholder tensor that hold dropout keep probability.\n",
    "    : return: Tensor that represents logits\n",
    "    \"\"\"\n",
    "    # TODO: Apply 1, 2, or 3 Convolution and Max Pool layers\n",
    "    #    Play around with different number of outputs, kernel size and stride\n",
    "    # Function Definition from Above:\n",
    "    #    conv2d_maxpool(x_tensor, conv_num_outputs, conv_ksize, conv_strides, pool_ksize, pool_strides)\n",
    "    x_t = conv2d_maxpool(x,   16, (5, 5), (1, 1), (2, 2), (2, 2))\n",
    "    x_t = conv2d_maxpool(x_t, 32, (5, 5), (1, 1), (2, 2), (2, 2))\n",
    "    x_t = conv2d_maxpool(x_t, 64, (5, 5), (1, 1), (2, 2), (2, 2))     \n",
    "\n",
    "    # TODO: Apply a Flatten Layer\n",
    "    # Function Definition from Above:\n",
    "    #   flatten(x_tensor)\n",
    "    x_t = flatten(x_t)    \n",
    "\n",
    "    # TODO: Apply 1, 2, or 3 Fully Connected Layers\n",
    "    #    Play around with different number of outputs\n",
    "    # Function Definition from Above:\n",
    "    #   fully_conn(x_tensor, num_outputs)\n",
    "    x_t = fully_conn(x_t, 512)\n",
    "    x_t = fully_conn(x_t, 64)\n",
    "    x_t = tf.nn.dropout(x_t, keep_prob)    \n",
    "    \n",
    "    # TODO: Apply an Output Layer\n",
    "    #    Set this to the number of classes\n",
    "    # Function Definition from Above:\n",
    "    #   output(x_tensor, num_outputs)\n",
    "    x_t = output(x_t, 10)    \n",
    "    \n",
    "    # TODO: return output\n",
    "    return x_t\n",
    "\n",
    "\n",
    "\"\"\"\n",
    "DON'T MODIFY ANYTHING IN THIS CELL THAT IS BELOW THIS LINE\n",
    "\"\"\"\n",
    "\n",
    "##############################\n",
    "## Build the Neural Network ##\n",
    "##############################\n",
    "\n",
    "# Remove previous weights, bias, inputs, etc..\n",
    "tf.reset_default_graph()\n",
    "\n",
    "# Inputs\n",
    "x = neural_net_image_input((32, 32, 3))\n",
    "y = neural_net_label_input(10)\n",
    "keep_prob = neural_net_keep_prob_input()\n",
    "\n",
    "# Model\n",
    "logits = conv_net(x, keep_prob)\n",
    "\n",
    "# Name logits Tensor, so that is can be loaded from disk after training\n",
    "logits = tf.identity(logits, name='logits')\n",
    "\n",
    "# Loss and Optimizer\n",
    "cost = tf.reduce_mean(tf.nn.softmax_cross_entropy_with_logits(logits=logits, labels=y))\n",
    "optimizer = tf.train.AdamOptimizer().minimize(cost)\n",
    "\n",
    "# Accuracy\n",
    "correct_pred = tf.equal(tf.argmax(logits, 1), tf.argmax(y, 1))\n",
    "accuracy = tf.reduce_mean(tf.cast(correct_pred, tf.float32), name='accuracy')\n",
    "\n",
    "tests.test_conv_net(conv_net)"
   ]
  },
  {
   "cell_type": "markdown",
   "metadata": {
    "deletable": true,
    "editable": true
   },
   "source": [
    "## Train the Neural Network\n",
    "### Single Optimization\n",
    "Implement the function `train_neural_network` to do a single optimization.  The optimization should use `optimizer` to optimize in `session` with a `feed_dict` of the following:\n",
    "* `x` for image input\n",
    "* `y` for labels\n",
    "* `keep_prob` for keep probability for dropout\n",
    "\n",
    "This function will be called for each batch, so `tf.global_variables_initializer()` has already been called.\n",
    "\n",
    "Note: Nothing needs to be returned. This function is only optimizing the neural network."
   ]
  },
  {
   "cell_type": "code",
   "execution_count": 13,
   "metadata": {
    "collapsed": false,
    "deletable": true,
    "editable": true
   },
   "outputs": [
    {
     "name": "stdout",
     "output_type": "stream",
     "text": [
      "Tests Passed\n"
     ]
    }
   ],
   "source": [
    "def train_neural_network(session, optimizer, keep_probability, feature_batch, label_batch):\n",
    "    \"\"\"\n",
    "    Optimize the session on a batch of images and labels\n",
    "    : session: Current TensorFlow session\n",
    "    : optimizer: TensorFlow optimizer function\n",
    "    : keep_probability: keep probability\n",
    "    : feature_batch: Batch of Numpy image data\n",
    "    : label_batch: Batch of Numpy label data\n",
    "    \"\"\"\n",
    "    # TODO: Implement Function\n",
    "    feed_dict = {x: feature_batch, \n",
    "                 y: label_batch,\n",
    "                 keep_prob: keep_probability,}\n",
    "    session.run(optimizer, feed_dict=feed_dict)\n",
    "\n",
    "\n",
    "\"\"\"\n",
    "DON'T MODIFY ANYTHING IN THIS CELL THAT IS BELOW THIS LINE\n",
    "\"\"\"\n",
    "tests.test_train_nn(train_neural_network)"
   ]
  },
  {
   "cell_type": "markdown",
   "metadata": {
    "deletable": true,
    "editable": true
   },
   "source": [
    "### Show Stats\n",
    "Implement the function `print_stats` to print loss and validation accuracy.  Use the global variables `valid_features` and `valid_labels` to calculate validation accuracy.  Use a keep probability of `1.0` to calculate the loss and validation accuracy."
   ]
  },
  {
   "cell_type": "code",
   "execution_count": 14,
   "metadata": {
    "collapsed": true,
    "deletable": true,
    "editable": true
   },
   "outputs": [],
   "source": [
    "def print_stats(session, feature_batch, label_batch, cost, accuracy):\n",
    "    \"\"\"\n",
    "    Print information about loss and validation accuracy\n",
    "    : session: Current TensorFlow session\n",
    "    : feature_batch: Batch of Numpy image data\n",
    "    : label_batch: Batch of Numpy label data\n",
    "    : cost: TensorFlow cost function\n",
    "    : accuracy: TensorFlow accuracy function\n",
    "    \"\"\"\n",
    "    # TODO: Implement Function\n",
    "    loss = session.run(cost, feed_dict={x: feature_batch, y: label_batch, keep_prob: 1.0})\n",
    "    accuracy_value = session.run(accuracy, feed_dict={x: valid_features, y: valid_labels, keep_prob: 1.0})\n",
    "    print('cost: {}, accuracy_value: {}'.format(loss, accuracy_value))"
   ]
  },
  {
   "cell_type": "markdown",
   "metadata": {
    "deletable": true,
    "editable": true
   },
   "source": [
    "### Hyperparameters\n",
    "Tune the following parameters:\n",
    "* Set `epochs` to the number of iterations until the network stops learning or start overfitting\n",
    "* Set `batch_size` to the highest number that your machine has memory for.  Most people set them to common sizes of memory:\n",
    " * 64\n",
    " * 128\n",
    " * 256\n",
    " * ...\n",
    "* Set `keep_probability` to the probability of keeping a node using dropout"
   ]
  },
  {
   "cell_type": "code",
   "execution_count": 19,
   "metadata": {
    "collapsed": true,
    "deletable": true,
    "editable": true
   },
   "outputs": [],
   "source": [
    "# TODO: Tune Parameters\n",
    "epochs = 50\n",
    "batch_size = 128\n",
    "keep_probability = 0.5"
   ]
  },
  {
   "cell_type": "markdown",
   "metadata": {
    "deletable": true,
    "editable": true
   },
   "source": [
    "### Train on a Single CIFAR-10 Batch\n",
    "Instead of training the neural network on all the CIFAR-10 batches of data, let's use a single batch. This should save time while you iterate on the model to get a better accuracy.  Once the final validation accuracy is 50% or greater, run the model on all the data in the next section."
   ]
  },
  {
   "cell_type": "code",
   "execution_count": 20,
   "metadata": {
    "collapsed": false,
    "deletable": true,
    "editable": true
   },
   "outputs": [
    {
     "name": "stdout",
     "output_type": "stream",
     "text": [
      "Checking the Training on a Single Batch...\n",
      "Epoch  1, CIFAR-10 Batch 1:  cost: 2.2313785552978516, accuracy_value: 0.21679997444152832\n",
      "Epoch  2, CIFAR-10 Batch 1:  cost: 2.050018548965454, accuracy_value: 0.3301999568939209\n",
      "Epoch  3, CIFAR-10 Batch 1:  cost: 1.7757540941238403, accuracy_value: 0.4097999930381775\n",
      "Epoch  4, CIFAR-10 Batch 1:  cost: 1.638405680656433, accuracy_value: 0.41419994831085205\n",
      "Epoch  5, CIFAR-10 Batch 1:  cost: 1.522756814956665, accuracy_value: 0.44920000433921814\n",
      "Epoch  6, CIFAR-10 Batch 1:  cost: 1.363450050354004, accuracy_value: 0.46480000019073486\n",
      "Epoch  7, CIFAR-10 Batch 1:  cost: 1.1895551681518555, accuracy_value: 0.49219995737075806\n",
      "Epoch  8, CIFAR-10 Batch 1:  cost: 1.049644947052002, accuracy_value: 0.5079999566078186\n",
      "Epoch  9, CIFAR-10 Batch 1:  cost: 0.8617375493049622, accuracy_value: 0.5235999822616577\n",
      "Epoch 10, CIFAR-10 Batch 1:  cost: 0.8033138513565063, accuracy_value: 0.5127999186515808\n",
      "Epoch 11, CIFAR-10 Batch 1:  cost: 0.7051596641540527, accuracy_value: 0.5361999273300171\n",
      "Epoch 12, CIFAR-10 Batch 1:  cost: 0.6075865030288696, accuracy_value: 0.5293999314308167\n",
      "Epoch 13, CIFAR-10 Batch 1:  cost: 0.5312479734420776, accuracy_value: 0.5269998908042908\n",
      "Epoch 14, CIFAR-10 Batch 1:  cost: 0.3972495198249817, accuracy_value: 0.5461999773979187\n",
      "Epoch 15, CIFAR-10 Batch 1:  cost: 0.3189099133014679, accuracy_value: 0.5361999869346619\n",
      "Epoch 16, CIFAR-10 Batch 1:  cost: 0.2732504606246948, accuracy_value: 0.5365999341011047\n",
      "Epoch 17, CIFAR-10 Batch 1:  cost: 0.21791666746139526, accuracy_value: 0.5477999448776245\n",
      "Epoch 18, CIFAR-10 Batch 1:  cost: 0.12214812636375427, accuracy_value: 0.5177999138832092\n",
      "Epoch 19, CIFAR-10 Batch 1:  cost: 0.16505073010921478, accuracy_value: 0.5275999307632446\n",
      "Epoch 20, CIFAR-10 Batch 1:  cost: 0.12923595309257507, accuracy_value: 0.5351999402046204\n",
      "Epoch 21, CIFAR-10 Batch 1:  cost: 0.09534434974193573, accuracy_value: 0.5459999442100525\n",
      "Epoch 22, CIFAR-10 Batch 1:  cost: 0.06867542117834091, accuracy_value: 0.5331999659538269\n",
      "Epoch 23, CIFAR-10 Batch 1:  cost: 0.05720333009958267, accuracy_value: 0.5193999409675598\n",
      "Epoch 24, CIFAR-10 Batch 1:  cost: 0.0726514607667923, accuracy_value: 0.5227999687194824\n",
      "Epoch 25, CIFAR-10 Batch 1:  cost: 0.05242900177836418, accuracy_value: 0.5345999002456665\n",
      "Epoch 26, CIFAR-10 Batch 1:  cost: 0.01057109422981739, accuracy_value: 0.5253999829292297\n",
      "Epoch 27, CIFAR-10 Batch 1:  cost: 0.008103755302727222, accuracy_value: 0.5369999408721924\n",
      "Epoch 28, CIFAR-10 Batch 1:  cost: 0.05177896469831467, accuracy_value: 0.5203999280929565\n",
      "Epoch 29, CIFAR-10 Batch 1:  cost: 0.01735595613718033, accuracy_value: 0.5251998901367188\n",
      "Epoch 30, CIFAR-10 Batch 1:  cost: 0.018382953479886055, accuracy_value: 0.5365999341011047\n",
      "Epoch 31, CIFAR-10 Batch 1:  cost: 0.014160634949803352, accuracy_value: 0.5227999687194824\n",
      "Epoch 32, CIFAR-10 Batch 1:  cost: 0.0015103393234312534, accuracy_value: 0.5461999177932739\n",
      "Epoch 33, CIFAR-10 Batch 1:  cost: 0.0066064889542758465, accuracy_value: 0.5493999123573303\n",
      "Epoch 34, CIFAR-10 Batch 1:  cost: 0.00231689540669322, accuracy_value: 0.5553999543190002\n",
      "Epoch 35, CIFAR-10 Batch 1:  cost: 0.0006009956705383956, accuracy_value: 0.5461999177932739\n",
      "Epoch 36, CIFAR-10 Batch 1:  cost: 0.0005899389507248998, accuracy_value: 0.558199942111969\n",
      "Epoch 37, CIFAR-10 Batch 1:  cost: 0.00047632993664592505, accuracy_value: 0.5475999116897583\n",
      "Epoch 38, CIFAR-10 Batch 1:  cost: 0.00033976510167121887, accuracy_value: 0.5471999049186707\n",
      "Epoch 39, CIFAR-10 Batch 1:  cost: 0.0003888463834300637, accuracy_value: 0.539199948310852\n",
      "Epoch 40, CIFAR-10 Batch 1:  cost: 0.0005833187606185675, accuracy_value: 0.5465999245643616\n",
      "Epoch 41, CIFAR-10 Batch 1:  cost: 0.0006090253591537476, accuracy_value: 0.5405999422073364\n",
      "Epoch 42, CIFAR-10 Batch 1:  cost: 8.448321023024619e-05, accuracy_value: 0.5301999449729919\n",
      "Epoch 43, CIFAR-10 Batch 1:  cost: 0.0009245880064554513, accuracy_value: 0.5361999273300171\n",
      "Epoch 44, CIFAR-10 Batch 1:  cost: 0.00025792885571718216, accuracy_value: 0.5257998704910278\n",
      "Epoch 45, CIFAR-10 Batch 1:  cost: 0.00047982693649828434, accuracy_value: 0.5557999610900879\n",
      "Epoch 46, CIFAR-10 Batch 1:  cost: 0.0001479048078181222, accuracy_value: 0.5555999279022217\n",
      "Epoch 47, CIFAR-10 Batch 1:  cost: 0.00013167942233849317, accuracy_value: 0.546799898147583\n",
      "Epoch 48, CIFAR-10 Batch 1:  cost: 0.00017769908299669623, accuracy_value: 0.5483999848365784\n",
      "Epoch 49, CIFAR-10 Batch 1:  cost: 0.00015572218399029225, accuracy_value: 0.547999918460846\n",
      "Epoch 50, CIFAR-10 Batch 1:  cost: 0.0004009338153991848, accuracy_value: 0.5423999428749084\n"
     ]
    }
   ],
   "source": [
    "\"\"\"\n",
    "DON'T MODIFY ANYTHING IN THIS CELL\n",
    "\"\"\"\n",
    "print('Checking the Training on a Single Batch...')\n",
    "with tf.Session() as sess:\n",
    "    # Initializing the variables\n",
    "    sess.run(tf.global_variables_initializer())\n",
    "    \n",
    "    # Training cycle\n",
    "    for epoch in range(epochs):\n",
    "        batch_i = 1\n",
    "        for batch_features, batch_labels in helper.load_preprocess_training_batch(batch_i, batch_size):\n",
    "            train_neural_network(sess, optimizer, keep_probability, batch_features, batch_labels)\n",
    "        print('Epoch {:>2}, CIFAR-10 Batch {}:  '.format(epoch + 1, batch_i), end='')\n",
    "        print_stats(sess, batch_features, batch_labels, cost, accuracy)"
   ]
  },
  {
   "cell_type": "markdown",
   "metadata": {
    "deletable": true,
    "editable": true
   },
   "source": [
    "### Fully Train the Model\n",
    "Now that you got a good accuracy with a single CIFAR-10 batch, try it with all five batches."
   ]
  },
  {
   "cell_type": "code",
   "execution_count": 21,
   "metadata": {
    "collapsed": false,
    "deletable": true,
    "editable": true
   },
   "outputs": [
    {
     "name": "stdout",
     "output_type": "stream",
     "text": [
      "Training...\n",
      "Epoch  1, CIFAR-10 Batch 1:  cost: 2.2087247371673584, accuracy_value: 0.22179999947547913\n",
      "Epoch  1, CIFAR-10 Batch 2:  cost: 2.11497163772583, accuracy_value: 0.3157999813556671\n",
      "Epoch  1, CIFAR-10 Batch 3:  cost: 1.6265263557434082, accuracy_value: 0.3553999960422516\n",
      "Epoch  1, CIFAR-10 Batch 4:  cost: 1.6864728927612305, accuracy_value: 0.417199969291687\n",
      "Epoch  1, CIFAR-10 Batch 5:  cost: 1.6597883701324463, accuracy_value: 0.4639999568462372\n",
      "Epoch  2, CIFAR-10 Batch 1:  cost: 1.5806541442871094, accuracy_value: 0.48399996757507324\n",
      "Epoch  2, CIFAR-10 Batch 2:  cost: 1.3373926877975464, accuracy_value: 0.5099999308586121\n",
      "Epoch  2, CIFAR-10 Batch 3:  cost: 1.181502103805542, accuracy_value: 0.5183999538421631\n",
      "Epoch  2, CIFAR-10 Batch 4:  cost: 1.2369328737258911, accuracy_value: 0.520799994468689\n",
      "Epoch  2, CIFAR-10 Batch 5:  cost: 1.3910720348358154, accuracy_value: 0.5283999443054199\n",
      "Epoch  3, CIFAR-10 Batch 1:  cost: 1.3175806999206543, accuracy_value: 0.5425999164581299\n",
      "Epoch  3, CIFAR-10 Batch 2:  cost: 1.0636082887649536, accuracy_value: 0.5691999197006226\n",
      "Epoch  3, CIFAR-10 Batch 3:  cost: 0.8883026838302612, accuracy_value: 0.5685999393463135\n",
      "Epoch  3, CIFAR-10 Batch 4:  cost: 1.0346455574035645, accuracy_value: 0.5793998837471008\n",
      "Epoch  3, CIFAR-10 Batch 5:  cost: 1.0895618200302124, accuracy_value: 0.5951998829841614\n",
      "Epoch  4, CIFAR-10 Batch 1:  cost: 1.0653337240219116, accuracy_value: 0.5897999405860901\n",
      "Epoch  4, CIFAR-10 Batch 2:  cost: 0.7936851978302002, accuracy_value: 0.5981998443603516\n",
      "Epoch  4, CIFAR-10 Batch 3:  cost: 0.6053860783576965, accuracy_value: 0.6059998869895935\n",
      "Epoch  4, CIFAR-10 Batch 4:  cost: 0.8376908302307129, accuracy_value: 0.6185998916625977\n",
      "Epoch  4, CIFAR-10 Batch 5:  cost: 0.8349269032478333, accuracy_value: 0.6067999601364136\n",
      "Epoch  5, CIFAR-10 Batch 1:  cost: 0.7814456820487976, accuracy_value: 0.6279999017715454\n",
      "Epoch  5, CIFAR-10 Batch 2:  cost: 0.6560602188110352, accuracy_value: 0.6197999119758606\n",
      "Epoch  5, CIFAR-10 Batch 3:  cost: 0.47543448209762573, accuracy_value: 0.6379998922348022\n",
      "Epoch  5, CIFAR-10 Batch 4:  cost: 0.7054312229156494, accuracy_value: 0.6299998760223389\n",
      "Epoch  5, CIFAR-10 Batch 5:  cost: 0.5942298769950867, accuracy_value: 0.6347998976707458\n",
      "Epoch  6, CIFAR-10 Batch 1:  cost: 0.6709798574447632, accuracy_value: 0.6427998542785645\n",
      "Epoch  6, CIFAR-10 Batch 2:  cost: 0.5187104344367981, accuracy_value: 0.6401998996734619\n",
      "Epoch  6, CIFAR-10 Batch 3:  cost: 0.3796837329864502, accuracy_value: 0.6513998508453369\n",
      "Epoch  6, CIFAR-10 Batch 4:  cost: 0.5912975668907166, accuracy_value: 0.6361998915672302\n",
      "Epoch  6, CIFAR-10 Batch 5:  cost: 0.46136966347694397, accuracy_value: 0.6529999375343323\n",
      "Epoch  7, CIFAR-10 Batch 1:  cost: 0.5729326605796814, accuracy_value: 0.6423999071121216\n",
      "Epoch  7, CIFAR-10 Batch 2:  cost: 0.4375675916671753, accuracy_value: 0.6535998582839966\n",
      "Epoch  7, CIFAR-10 Batch 3:  cost: 0.2591501772403717, accuracy_value: 0.6563999652862549\n",
      "Epoch  7, CIFAR-10 Batch 4:  cost: 0.46170568466186523, accuracy_value: 0.6619999408721924\n",
      "Epoch  7, CIFAR-10 Batch 5:  cost: 0.2756745219230652, accuracy_value: 0.663399875164032\n",
      "Epoch  8, CIFAR-10 Batch 1:  cost: 0.4675929844379425, accuracy_value: 0.6475998759269714\n",
      "Epoch  8, CIFAR-10 Batch 2:  cost: 0.30108049511909485, accuracy_value: 0.6537998914718628\n",
      "Epoch  8, CIFAR-10 Batch 3:  cost: 0.2188098430633545, accuracy_value: 0.6495998501777649\n",
      "Epoch  8, CIFAR-10 Batch 4:  cost: 0.3111146092414856, accuracy_value: 0.6695998907089233\n",
      "Epoch  8, CIFAR-10 Batch 5:  cost: 0.19056925177574158, accuracy_value: 0.6559998989105225\n",
      "Epoch  9, CIFAR-10 Batch 1:  cost: 0.33864566683769226, accuracy_value: 0.6571999788284302\n",
      "Epoch  9, CIFAR-10 Batch 2:  cost: 0.23838238418102264, accuracy_value: 0.668799877166748\n",
      "Epoch  9, CIFAR-10 Batch 3:  cost: 0.1625245064496994, accuracy_value: 0.6563999056816101\n",
      "Epoch  9, CIFAR-10 Batch 4:  cost: 0.25668981671333313, accuracy_value: 0.6675999164581299\n",
      "Epoch  9, CIFAR-10 Batch 5:  cost: 0.16979044675827026, accuracy_value: 0.6413998603820801\n",
      "Epoch 10, CIFAR-10 Batch 1:  cost: 0.3034236431121826, accuracy_value: 0.6439999341964722\n",
      "Epoch 10, CIFAR-10 Batch 2:  cost: 0.21901682019233704, accuracy_value: 0.6631999015808105\n",
      "Epoch 10, CIFAR-10 Batch 3:  cost: 0.13719579577445984, accuracy_value: 0.6439998745918274\n",
      "Epoch 10, CIFAR-10 Batch 4:  cost: 0.2593075931072235, accuracy_value: 0.6587998867034912\n",
      "Epoch 10, CIFAR-10 Batch 5:  cost: 0.10680201649665833, accuracy_value: 0.6611998081207275\n",
      "Epoch 11, CIFAR-10 Batch 1:  cost: 0.23019525408744812, accuracy_value: 0.6279999017715454\n",
      "Epoch 11, CIFAR-10 Batch 2:  cost: 0.1941097378730774, accuracy_value: 0.6657998561859131\n",
      "Epoch 11, CIFAR-10 Batch 3:  cost: 0.09976094961166382, accuracy_value: 0.6529998779296875\n",
      "Epoch 11, CIFAR-10 Batch 4:  cost: 0.1696406900882721, accuracy_value: 0.671799898147583\n",
      "Epoch 11, CIFAR-10 Batch 5:  cost: 0.06559547036886215, accuracy_value: 0.6577998399734497\n",
      "Epoch 12, CIFAR-10 Batch 1:  cost: 0.14975202083587646, accuracy_value: 0.6533999443054199\n",
      "Epoch 12, CIFAR-10 Batch 2:  cost: 0.13146235048770905, accuracy_value: 0.6737998723983765\n",
      "Epoch 12, CIFAR-10 Batch 3:  cost: 0.08978410065174103, accuracy_value: 0.6451998949050903\n",
      "Epoch 12, CIFAR-10 Batch 4:  cost: 0.09865358471870422, accuracy_value: 0.665199875831604\n",
      "Epoch 12, CIFAR-10 Batch 5:  cost: 0.03983483090996742, accuracy_value: 0.6739999055862427\n",
      "Epoch 13, CIFAR-10 Batch 1:  cost: 0.14217273890972137, accuracy_value: 0.6617998480796814\n",
      "Epoch 13, CIFAR-10 Batch 2:  cost: 0.11558690667152405, accuracy_value: 0.6725999116897583\n",
      "Epoch 13, CIFAR-10 Batch 3:  cost: 0.05043158680200577, accuracy_value: 0.6601998805999756\n",
      "Epoch 13, CIFAR-10 Batch 4:  cost: 0.08205379545688629, accuracy_value: 0.6705998778343201\n",
      "Epoch 13, CIFAR-10 Batch 5:  cost: 0.027972031384706497, accuracy_value: 0.6643998622894287\n",
      "Epoch 14, CIFAR-10 Batch 1:  cost: 0.12402059137821198, accuracy_value: 0.6431998610496521\n",
      "Epoch 14, CIFAR-10 Batch 2:  cost: 0.07830683141946793, accuracy_value: 0.673599898815155\n",
      "Epoch 14, CIFAR-10 Batch 3:  cost: 0.030141497030854225, accuracy_value: 0.6703998446464539\n",
      "Epoch 14, CIFAR-10 Batch 4:  cost: 0.05750972777605057, accuracy_value: 0.6481999158859253\n",
      "Epoch 14, CIFAR-10 Batch 5:  cost: 0.045732904225587845, accuracy_value: 0.6709998846054077\n",
      "Epoch 15, CIFAR-10 Batch 1:  cost: 0.0706937313079834, accuracy_value: 0.6433998942375183\n",
      "Epoch 15, CIFAR-10 Batch 2:  cost: 0.05103829503059387, accuracy_value: 0.660399854183197\n",
      "Epoch 15, CIFAR-10 Batch 3:  cost: 0.024339519441127777, accuracy_value: 0.6765998601913452\n",
      "Epoch 15, CIFAR-10 Batch 4:  cost: 0.055801279842853546, accuracy_value: 0.6589998602867126\n",
      "Epoch 15, CIFAR-10 Batch 5:  cost: 0.03440554067492485, accuracy_value: 0.6583999395370483\n",
      "Epoch 16, CIFAR-10 Batch 1:  cost: 0.09672293812036514, accuracy_value: 0.6471998691558838\n",
      "Epoch 16, CIFAR-10 Batch 2:  cost: 0.065187007188797, accuracy_value: 0.6599999070167542\n",
      "Epoch 16, CIFAR-10 Batch 3:  cost: 0.03393937647342682, accuracy_value: 0.663399875164032\n",
      "Epoch 16, CIFAR-10 Batch 4:  cost: 0.027260303497314453, accuracy_value: 0.6739999055862427\n",
      "Epoch 16, CIFAR-10 Batch 5:  cost: 0.030799824744462967, accuracy_value: 0.6655998826026917\n",
      "Epoch 17, CIFAR-10 Batch 1:  cost: 0.0831884816288948, accuracy_value: 0.6405999064445496\n",
      "Epoch 17, CIFAR-10 Batch 2:  cost: 0.045408688485622406, accuracy_value: 0.6527998447418213\n",
      "Epoch 17, CIFAR-10 Batch 3:  cost: 0.030470751225948334, accuracy_value: 0.6775999069213867\n",
      "Epoch 17, CIFAR-10 Batch 4:  cost: 0.025208156555891037, accuracy_value: 0.6717998385429382\n",
      "Epoch 17, CIFAR-10 Batch 5:  cost: 0.0375337228178978, accuracy_value: 0.6393998861312866\n",
      "Epoch 18, CIFAR-10 Batch 1:  cost: 0.05378347262740135, accuracy_value: 0.6485999226570129\n",
      "Epoch 18, CIFAR-10 Batch 2:  cost: 0.044601596891880035, accuracy_value: 0.6531998515129089\n",
      "Epoch 18, CIFAR-10 Batch 3:  cost: 0.04032857343554497, accuracy_value: 0.6623998880386353\n",
      "Epoch 18, CIFAR-10 Batch 4:  cost: 0.10746918618679047, accuracy_value: 0.6561998724937439\n",
      "Epoch 18, CIFAR-10 Batch 5:  cost: 0.018419232219457626, accuracy_value: 0.6509998440742493\n",
      "Epoch 19, CIFAR-10 Batch 1:  cost: 0.026746105402708054, accuracy_value: 0.6583999395370483\n",
      "Epoch 19, CIFAR-10 Batch 2:  cost: 0.017887700349092484, accuracy_value: 0.650999903678894\n",
      "Epoch 19, CIFAR-10 Batch 3:  cost: 0.014217413030564785, accuracy_value: 0.6623998880386353\n",
      "Epoch 19, CIFAR-10 Batch 4:  cost: 0.01108180545270443, accuracy_value: 0.6589998602867126\n",
      "Epoch 19, CIFAR-10 Batch 5:  cost: 0.018512455746531487, accuracy_value: 0.6661998629570007\n",
      "Epoch 20, CIFAR-10 Batch 1:  cost: 0.021621098741889, accuracy_value: 0.6501998901367188\n",
      "Epoch 20, CIFAR-10 Batch 2:  cost: 0.015966325998306274, accuracy_value: 0.6451998949050903\n",
      "Epoch 20, CIFAR-10 Batch 3:  cost: 0.033075492829084396, accuracy_value: 0.6635998487472534\n",
      "Epoch 20, CIFAR-10 Batch 4:  cost: 0.01259845495223999, accuracy_value: 0.6541998386383057\n",
      "Epoch 20, CIFAR-10 Batch 5:  cost: 0.012590950354933739, accuracy_value: 0.6613999009132385\n",
      "Epoch 21, CIFAR-10 Batch 1:  cost: 0.0397772453725338, accuracy_value: 0.6597998738288879\n",
      "Epoch 21, CIFAR-10 Batch 2:  cost: 0.027774354442954063, accuracy_value: 0.6541998982429504\n",
      "Epoch 21, CIFAR-10 Batch 3:  cost: 0.016157696023583412, accuracy_value: 0.6633999347686768\n",
      "Epoch 21, CIFAR-10 Batch 4:  cost: 0.06909555196762085, accuracy_value: 0.6427999138832092\n",
      "Epoch 21, CIFAR-10 Batch 5:  cost: 0.010834980756044388, accuracy_value: 0.6589999198913574\n",
      "Epoch 22, CIFAR-10 Batch 1:  cost: 0.05019612982869148, accuracy_value: 0.6583999395370483\n",
      "Epoch 22, CIFAR-10 Batch 2:  cost: 0.009449504315853119, accuracy_value: 0.6535999178886414\n",
      "Epoch 22, CIFAR-10 Batch 3:  cost: 0.002833972917869687, accuracy_value: 0.6565998196601868\n",
      "Epoch 22, CIFAR-10 Batch 4:  cost: 0.007046674843877554, accuracy_value: 0.6459998488426208\n",
      "Epoch 22, CIFAR-10 Batch 5:  cost: 0.010755596682429314, accuracy_value: 0.6707998514175415\n",
      "Epoch 23, CIFAR-10 Batch 1:  cost: 0.031171102076768875, accuracy_value: 0.6557998657226562\n",
      "Epoch 23, CIFAR-10 Batch 2:  cost: 0.009720142930746078, accuracy_value: 0.6581999063491821\n",
      "Epoch 23, CIFAR-10 Batch 3:  cost: 0.024507977068424225, accuracy_value: 0.6467999219894409\n",
      "Epoch 23, CIFAR-10 Batch 4:  cost: 0.0036140193697065115, accuracy_value: 0.6521998643875122\n",
      "Epoch 23, CIFAR-10 Batch 5:  cost: 0.005962102673947811, accuracy_value: 0.6599999070167542\n",
      "Epoch 24, CIFAR-10 Batch 1:  cost: 0.004330350086092949, accuracy_value: 0.6543998718261719\n",
      "Epoch 24, CIFAR-10 Batch 2:  cost: 0.005102713592350483, accuracy_value: 0.6485999226570129\n",
      "Epoch 24, CIFAR-10 Batch 3:  cost: 0.02014273963868618, accuracy_value: 0.6579998731613159\n",
      "Epoch 24, CIFAR-10 Batch 4:  cost: 0.008292952552437782, accuracy_value: 0.6677999496459961\n",
      "Epoch 24, CIFAR-10 Batch 5:  cost: 0.009573116898536682, accuracy_value: 0.6675998568534851\n",
      "Epoch 25, CIFAR-10 Batch 1:  cost: 0.008664945140480995, accuracy_value: 0.6513999104499817\n",
      "Epoch 25, CIFAR-10 Batch 2:  cost: 0.00711354985833168, accuracy_value: 0.6501998901367188\n",
      "Epoch 25, CIFAR-10 Batch 3:  cost: 0.013781535439193249, accuracy_value: 0.6587998867034912\n",
      "Epoch 25, CIFAR-10 Batch 4:  cost: 0.002831938210874796, accuracy_value: 0.6623998880386353\n",
      "Epoch 25, CIFAR-10 Batch 5:  cost: 0.0015604114159941673, accuracy_value: 0.668799877166748\n",
      "Epoch 26, CIFAR-10 Batch 1:  cost: 0.008838255889713764, accuracy_value: 0.6637999415397644\n",
      "Epoch 26, CIFAR-10 Batch 2:  cost: 0.009884905070066452, accuracy_value: 0.6503998637199402\n",
      "Epoch 26, CIFAR-10 Batch 3:  cost: 0.0017612265655770898, accuracy_value: 0.6603999137878418\n",
      "Epoch 26, CIFAR-10 Batch 4:  cost: 0.00611207215115428, accuracy_value: 0.6573998928070068\n",
      "Epoch 26, CIFAR-10 Batch 5:  cost: 0.001416624989360571, accuracy_value: 0.6655998826026917\n",
      "Epoch 27, CIFAR-10 Batch 1:  cost: 0.010549955070018768, accuracy_value: 0.6659998297691345\n",
      "Epoch 27, CIFAR-10 Batch 2:  cost: 0.0018766261637210846, accuracy_value: 0.6507999300956726\n",
      "Epoch 27, CIFAR-10 Batch 3:  cost: 0.0030679497867822647, accuracy_value: 0.650999903678894\n",
      "Epoch 27, CIFAR-10 Batch 4:  cost: 0.004554983228445053, accuracy_value: 0.644399881362915\n",
      "Epoch 27, CIFAR-10 Batch 5:  cost: 0.003320547752082348, accuracy_value: 0.6713998913764954\n",
      "Epoch 28, CIFAR-10 Batch 1:  cost: 0.014888335950672626, accuracy_value: 0.6557998657226562\n",
      "Epoch 28, CIFAR-10 Batch 2:  cost: 0.011935426853597164, accuracy_value: 0.6677998304367065\n",
      "Epoch 28, CIFAR-10 Batch 3:  cost: 0.0010595853673294187, accuracy_value: 0.6585999131202698\n",
      "Epoch 28, CIFAR-10 Batch 4:  cost: 0.004694758448749781, accuracy_value: 0.6511999368667603\n",
      "Epoch 28, CIFAR-10 Batch 5:  cost: 0.00321974977850914, accuracy_value: 0.6699998378753662\n",
      "Epoch 29, CIFAR-10 Batch 1:  cost: 0.006496432702988386, accuracy_value: 0.6533998847007751\n",
      "Epoch 29, CIFAR-10 Batch 2:  cost: 0.006645697169005871, accuracy_value: 0.6597998738288879\n",
      "Epoch 29, CIFAR-10 Batch 3:  cost: 0.00021193518477957696, accuracy_value: 0.6655998826026917\n",
      "Epoch 29, CIFAR-10 Batch 4:  cost: 0.005199283827096224, accuracy_value: 0.6537998914718628\n",
      "Epoch 29, CIFAR-10 Batch 5:  cost: 0.007250006776303053, accuracy_value: 0.6579998731613159\n",
      "Epoch 30, CIFAR-10 Batch 1:  cost: 0.0103455213829875, accuracy_value: 0.6625999212265015\n",
      "Epoch 30, CIFAR-10 Batch 2:  cost: 0.0032291009556502104, accuracy_value: 0.6659998893737793\n",
      "Epoch 30, CIFAR-10 Batch 3:  cost: 0.002305794507265091, accuracy_value: 0.653799831867218\n",
      "Epoch 30, CIFAR-10 Batch 4:  cost: 0.0016373355174437165, accuracy_value: 0.6633999347686768\n",
      "Epoch 30, CIFAR-10 Batch 5:  cost: 0.008444372564554214, accuracy_value: 0.6613998413085938\n",
      "Epoch 31, CIFAR-10 Batch 1:  cost: 0.005848845466971397, accuracy_value: 0.6705998778343201\n",
      "Epoch 31, CIFAR-10 Batch 2:  cost: 0.005050341598689556, accuracy_value: 0.6697999238967896\n",
      "Epoch 31, CIFAR-10 Batch 3:  cost: 0.0008337883627973497, accuracy_value: 0.6617998480796814\n",
      "Epoch 31, CIFAR-10 Batch 4:  cost: 0.0076766470447182655, accuracy_value: 0.6691998839378357\n",
      "Epoch 31, CIFAR-10 Batch 5:  cost: 0.006030369084328413, accuracy_value: 0.6561999320983887\n",
      "Epoch 32, CIFAR-10 Batch 1:  cost: 0.01353992335498333, accuracy_value: 0.6697999238967896\n",
      "Epoch 32, CIFAR-10 Batch 2:  cost: 0.0036627096123993397, accuracy_value: 0.6721999049186707\n",
      "Epoch 32, CIFAR-10 Batch 3:  cost: 0.0005656146095134318, accuracy_value: 0.6635999083518982\n",
      "Epoch 32, CIFAR-10 Batch 4:  cost: 0.007243674248456955, accuracy_value: 0.6561999320983887\n",
      "Epoch 32, CIFAR-10 Batch 5:  cost: 0.0011267575901001692, accuracy_value: 0.6673998832702637\n",
      "Epoch 33, CIFAR-10 Batch 1:  cost: 0.001314764842391014, accuracy_value: 0.6677998900413513\n",
      "Epoch 33, CIFAR-10 Batch 2:  cost: 0.001355482148937881, accuracy_value: 0.6735998392105103\n",
      "Epoch 33, CIFAR-10 Batch 3:  cost: 0.0001628780592000112, accuracy_value: 0.6697998642921448\n",
      "Epoch 33, CIFAR-10 Batch 4:  cost: 0.0005383722600527108, accuracy_value: 0.6565998792648315\n",
      "Epoch 33, CIFAR-10 Batch 5:  cost: 0.0030260211788117886, accuracy_value: 0.6767998337745667\n",
      "Epoch 34, CIFAR-10 Batch 1:  cost: 0.003998691216111183, accuracy_value: 0.6637998819351196\n",
      "Epoch 34, CIFAR-10 Batch 2:  cost: 0.0020793513394892216, accuracy_value: 0.6681998372077942\n",
      "Epoch 34, CIFAR-10 Batch 3:  cost: 0.00023741566110402346, accuracy_value: 0.6647998690605164\n",
      "Epoch 34, CIFAR-10 Batch 4:  cost: 0.0005824295221827924, accuracy_value: 0.6547998785972595\n",
      "Epoch 34, CIFAR-10 Batch 5:  cost: 0.009044019505381584, accuracy_value: 0.6685998439788818\n",
      "Epoch 35, CIFAR-10 Batch 1:  cost: 0.007128237280994654, accuracy_value: 0.6539998054504395\n",
      "Epoch 35, CIFAR-10 Batch 2:  cost: 0.005741397850215435, accuracy_value: 0.6667999029159546\n",
      "Epoch 35, CIFAR-10 Batch 3:  cost: 0.0006543079507537186, accuracy_value: 0.6599999070167542\n",
      "Epoch 35, CIFAR-10 Batch 4:  cost: 0.0013820964377373457, accuracy_value: 0.6545999050140381\n",
      "Epoch 35, CIFAR-10 Batch 5:  cost: 0.0008385481778532267, accuracy_value: 0.6629998683929443\n",
      "Epoch 36, CIFAR-10 Batch 1:  cost: 0.004681509919464588, accuracy_value: 0.6649999022483826\n",
      "Epoch 36, CIFAR-10 Batch 2:  cost: 0.004117968957871199, accuracy_value: 0.6713998913764954\n",
      "Epoch 36, CIFAR-10 Batch 3:  cost: 0.0014177624834701419, accuracy_value: 0.6645997762680054\n",
      "Epoch 36, CIFAR-10 Batch 4:  cost: 0.001859264331869781, accuracy_value: 0.65559983253479\n",
      "Epoch 36, CIFAR-10 Batch 5:  cost: 0.00468058604747057, accuracy_value: 0.6731998920440674\n",
      "Epoch 37, CIFAR-10 Batch 1:  cost: 0.0034969085827469826, accuracy_value: 0.6721998453140259\n",
      "Epoch 37, CIFAR-10 Batch 2:  cost: 0.006761748809367418, accuracy_value: 0.6637998819351196\n",
      "Epoch 37, CIFAR-10 Batch 3:  cost: 0.008821769617497921, accuracy_value: 0.6669998168945312\n",
      "Epoch 37, CIFAR-10 Batch 4:  cost: 0.0008892363985069096, accuracy_value: 0.6597998738288879\n",
      "Epoch 37, CIFAR-10 Batch 5:  cost: 0.0015718911308795214, accuracy_value: 0.6711999177932739\n",
      "Epoch 38, CIFAR-10 Batch 1:  cost: 0.0018861780408769846, accuracy_value: 0.6721998453140259\n",
      "Epoch 38, CIFAR-10 Batch 2:  cost: 0.0010192430345341563, accuracy_value: 0.6643998622894287\n",
      "Epoch 38, CIFAR-10 Batch 3:  cost: 0.0001018949260469526, accuracy_value: 0.6663998961448669\n",
      "Epoch 38, CIFAR-10 Batch 4:  cost: 0.0007009360124357045, accuracy_value: 0.6617999076843262\n",
      "Epoch 38, CIFAR-10 Batch 5:  cost: 0.03402280434966087, accuracy_value: 0.671799898147583\n",
      "Epoch 39, CIFAR-10 Batch 1:  cost: 0.0005877619842067361, accuracy_value: 0.6635998487472534\n",
      "Epoch 39, CIFAR-10 Batch 2:  cost: 0.002939096884801984, accuracy_value: 0.6661999225616455\n",
      "Epoch 39, CIFAR-10 Batch 3:  cost: 0.0002735909656621516, accuracy_value: 0.6581998467445374\n",
      "Epoch 39, CIFAR-10 Batch 4:  cost: 0.0007034684531390667, accuracy_value: 0.6601998805999756\n",
      "Epoch 39, CIFAR-10 Batch 5:  cost: 0.00800696387887001, accuracy_value: 0.6627998352050781\n",
      "Epoch 40, CIFAR-10 Batch 1:  cost: 0.0037604011595249176, accuracy_value: 0.6677998304367065\n",
      "Epoch 40, CIFAR-10 Batch 2:  cost: 0.0017070166068151593, accuracy_value: 0.6685998439788818\n",
      "Epoch 40, CIFAR-10 Batch 3:  cost: 0.0006291256286203861, accuracy_value: 0.6641998291015625\n",
      "Epoch 40, CIFAR-10 Batch 4:  cost: 0.00019713937945198268, accuracy_value: 0.6575998067855835\n",
      "Epoch 40, CIFAR-10 Batch 5:  cost: 0.00029909989098086953, accuracy_value: 0.6703999042510986\n",
      "Epoch 41, CIFAR-10 Batch 1:  cost: 0.001065399730578065, accuracy_value: 0.6619998812675476\n",
      "Epoch 41, CIFAR-10 Batch 2:  cost: 0.0016774964751675725, accuracy_value: 0.6649998426437378\n",
      "Epoch 41, CIFAR-10 Batch 3:  cost: 0.0001701440487522632, accuracy_value: 0.6713999509811401\n",
      "Epoch 41, CIFAR-10 Batch 4:  cost: 0.0017401135992258787, accuracy_value: 0.6529999375343323\n",
      "Epoch 41, CIFAR-10 Batch 5:  cost: 0.0003019235737156123, accuracy_value: 0.6569998860359192\n",
      "Epoch 42, CIFAR-10 Batch 1:  cost: 0.0026486108545213938, accuracy_value: 0.6665998697280884\n",
      "Epoch 42, CIFAR-10 Batch 2:  cost: 0.007624516263604164, accuracy_value: 0.6601998805999756\n",
      "Epoch 42, CIFAR-10 Batch 3:  cost: 0.0004550317535176873, accuracy_value: 0.6729998588562012\n",
      "Epoch 42, CIFAR-10 Batch 4:  cost: 0.0006848867051303387, accuracy_value: 0.6653998494148254\n",
      "Epoch 42, CIFAR-10 Batch 5:  cost: 0.00034192047314718366, accuracy_value: 0.6523998975753784\n",
      "Epoch 43, CIFAR-10 Batch 1:  cost: 0.0010150022571906447, accuracy_value: 0.6623998284339905\n",
      "Epoch 43, CIFAR-10 Batch 2:  cost: 0.020459014922380447, accuracy_value: 0.6719998717308044\n",
      "Epoch 43, CIFAR-10 Batch 3:  cost: 0.0007793656550347805, accuracy_value: 0.6711997985839844\n",
      "Epoch 43, CIFAR-10 Batch 4:  cost: 0.00129965809173882, accuracy_value: 0.6637998819351196\n",
      "Epoch 43, CIFAR-10 Batch 5:  cost: 0.0009217524202540517, accuracy_value: 0.6637999415397644\n",
      "Epoch 44, CIFAR-10 Batch 1:  cost: 0.0003442127781454474, accuracy_value: 0.6703999042510986\n",
      "Epoch 44, CIFAR-10 Batch 2:  cost: 0.00228319363668561, accuracy_value: 0.6653998494148254\n",
      "Epoch 44, CIFAR-10 Batch 3:  cost: 0.0007434983272105455, accuracy_value: 0.674799919128418\n",
      "Epoch 44, CIFAR-10 Batch 4:  cost: 0.003308684565126896, accuracy_value: 0.6573998928070068\n",
      "Epoch 44, CIFAR-10 Batch 5:  cost: 0.0018094837432727218, accuracy_value: 0.6683999300003052\n",
      "Epoch 45, CIFAR-10 Batch 1:  cost: 0.0012863159645348787, accuracy_value: 0.6649998426437378\n",
      "Epoch 45, CIFAR-10 Batch 2:  cost: 0.0021619920153170824, accuracy_value: 0.6681998372077942\n",
      "Epoch 45, CIFAR-10 Batch 3:  cost: 3.53496361640282e-05, accuracy_value: 0.6747997999191284\n",
      "Epoch 45, CIFAR-10 Batch 4:  cost: 0.00045092703658156097, accuracy_value: 0.6595999002456665\n",
      "Epoch 45, CIFAR-10 Batch 5:  cost: 0.008002838119864464, accuracy_value: 0.6659998893737793\n",
      "Epoch 46, CIFAR-10 Batch 1:  cost: 0.0003964778152294457, accuracy_value: 0.6689999103546143\n",
      "Epoch 46, CIFAR-10 Batch 2:  cost: 0.009776394814252853, accuracy_value: 0.6751999258995056\n",
      "Epoch 46, CIFAR-10 Batch 3:  cost: 0.0003001941367983818, accuracy_value: 0.6711999177932739\n",
      "Epoch 46, CIFAR-10 Batch 4:  cost: 0.0003616355825215578, accuracy_value: 0.6571998596191406\n",
      "Epoch 46, CIFAR-10 Batch 5:  cost: 0.0009569032117724419, accuracy_value: 0.6623998880386353\n",
      "Epoch 47, CIFAR-10 Batch 1:  cost: 0.0029299939051270485, accuracy_value: 0.6685999035835266\n",
      "Epoch 47, CIFAR-10 Batch 2:  cost: 0.0006989908870309591, accuracy_value: 0.6765998601913452\n",
      "Epoch 47, CIFAR-10 Batch 3:  cost: 0.00017598959675524384, accuracy_value: 0.6725999116897583\n",
      "Epoch 47, CIFAR-10 Batch 4:  cost: 0.00024757333449088037, accuracy_value: 0.6633999347686768\n",
      "Epoch 47, CIFAR-10 Batch 5:  cost: 0.0003638053312897682, accuracy_value: 0.6657998561859131\n",
      "Epoch 48, CIFAR-10 Batch 1:  cost: 0.0012111961841583252, accuracy_value: 0.6767998933792114\n",
      "Epoch 48, CIFAR-10 Batch 2:  cost: 0.0010961017105728388, accuracy_value: 0.6607998609542847\n",
      "Epoch 48, CIFAR-10 Batch 3:  cost: 8.649474330013618e-05, accuracy_value: 0.6761998534202576\n",
      "Epoch 48, CIFAR-10 Batch 4:  cost: 0.0010517527116462588, accuracy_value: 0.6679998636245728\n",
      "Epoch 48, CIFAR-10 Batch 5:  cost: 0.0008116657845675945, accuracy_value: 0.6623998880386353\n",
      "Epoch 49, CIFAR-10 Batch 1:  cost: 0.0023625013418495655, accuracy_value: 0.6737998723983765\n",
      "Epoch 49, CIFAR-10 Batch 2:  cost: 0.0021268909331411123, accuracy_value: 0.6689999103546143\n",
      "Epoch 49, CIFAR-10 Batch 3:  cost: 0.0010915795573964715, accuracy_value: 0.676399827003479\n",
      "Epoch 49, CIFAR-10 Batch 4:  cost: 0.000537609332241118, accuracy_value: 0.6683998703956604\n",
      "Epoch 49, CIFAR-10 Batch 5:  cost: 0.0012497925199568272, accuracy_value: 0.6697998642921448\n",
      "Epoch 50, CIFAR-10 Batch 1:  cost: 0.0003278460935689509, accuracy_value: 0.6691998839378357\n",
      "Epoch 50, CIFAR-10 Batch 2:  cost: 0.005342353135347366, accuracy_value: 0.6645998954772949\n",
      "Epoch 50, CIFAR-10 Batch 3:  cost: 0.000362930673873052, accuracy_value: 0.6665998697280884\n",
      "Epoch 50, CIFAR-10 Batch 4:  cost: 0.0003165067173540592, accuracy_value: 0.6581998467445374\n",
      "Epoch 50, CIFAR-10 Batch 5:  cost: 0.0035451401490718126, accuracy_value: 0.666999876499176\n"
     ]
    }
   ],
   "source": [
    "\"\"\"\n",
    "DON'T MODIFY ANYTHING IN THIS CELL\n",
    "\"\"\"\n",
    "save_model_path = './image_classification'\n",
    "\n",
    "print('Training...')\n",
    "with tf.Session() as sess:\n",
    "    # Initializing the variables\n",
    "    sess.run(tf.global_variables_initializer())\n",
    "    \n",
    "    # Training cycle\n",
    "    for epoch in range(epochs):\n",
    "        # Loop over all batches\n",
    "        n_batches = 5\n",
    "        for batch_i in range(1, n_batches + 1):\n",
    "            for batch_features, batch_labels in helper.load_preprocess_training_batch(batch_i, batch_size):\n",
    "                train_neural_network(sess, optimizer, keep_probability, batch_features, batch_labels)\n",
    "            print('Epoch {:>2}, CIFAR-10 Batch {}:  '.format(epoch + 1, batch_i), end='')\n",
    "            print_stats(sess, batch_features, batch_labels, cost, accuracy)\n",
    "            \n",
    "    # Save Model\n",
    "    saver = tf.train.Saver()\n",
    "    save_path = saver.save(sess, save_model_path)"
   ]
  },
  {
   "cell_type": "markdown",
   "metadata": {
    "deletable": true,
    "editable": true
   },
   "source": [
    "# Checkpoint\n",
    "The model has been saved to disk.\n",
    "## Test Model\n",
    "Test your model against the test dataset.  This will be your final accuracy. You should have an accuracy greater than 50%. If you don't, keep tweaking the model architecture and parameters."
   ]
  },
  {
   "cell_type": "code",
   "execution_count": 22,
   "metadata": {
    "collapsed": false,
    "deletable": true,
    "editable": true
   },
   "outputs": [
    {
     "name": "stdout",
     "output_type": "stream",
     "text": [
      "INFO:tensorflow:Restoring parameters from ./image_classification\n",
      "Testing Accuracy: 0.6667325949367089\n",
      "\n"
     ]
    },
    {
     "data": {
      "image/png": "[encoded data removed]",
      "text/plain": [
       "<matplotlib.figure.Figure at 0x7fa985ae1898>"
      ]
     },
     "metadata": {
      "image/png": {
       "height": 319,
       "width": 355
      }
     },
     "output_type": "display_data"
    }
   ],
   "source": [
    "\"\"\"\n",
    "DON'T MODIFY ANYTHING IN THIS CELL\n",
    "\"\"\"\n",
    "%matplotlib inline\n",
    "%config InlineBackend.figure_format = 'retina'\n",
    "\n",
    "import tensorflow as tf\n",
    "import pickle\n",
    "import helper\n",
    "import random\n",
    "\n",
    "# Set batch size if not already set\n",
    "try:\n",
    "    if batch_size:\n",
    "        pass\n",
    "except NameError:\n",
    "    batch_size = 64\n",
    "\n",
    "save_model_path = './image_classification'\n",
    "n_samples = 4\n",
    "top_n_predictions = 3\n",
    "\n",
    "def test_model():\n",
    "    \"\"\"\n",
    "    Test the saved model against the test dataset\n",
    "    \"\"\"\n",
    "\n",
    "    test_features, test_labels = pickle.load(open('preprocess_training.p', mode='rb'))\n",
    "    loaded_graph = tf.Graph()\n",
    "\n",
    "    with tf.Session(graph=loaded_graph) as sess:\n",
    "        # Load model\n",
    "        loader = tf.train.import_meta_graph(save_model_path + '.meta')\n",
    "        loader.restore(sess, save_model_path)\n",
    "\n",
    "        # Get Tensors from loaded model\n",
    "        loaded_x = loaded_graph.get_tensor_by_name('x:0')\n",
    "        loaded_y = loaded_graph.get_tensor_by_name('y:0')\n",
    "        loaded_keep_prob = loaded_graph.get_tensor_by_name('keep_prob:0')\n",
    "        loaded_logits = loaded_graph.get_tensor_by_name('logits:0')\n",
    "        loaded_acc = loaded_graph.get_tensor_by_name('accuracy:0')\n",
    "        \n",
    "        # Get accuracy in batches for memory limitations\n",
    "        test_batch_acc_total = 0\n",
    "        test_batch_count = 0\n",
    "        \n",
    "        for train_feature_batch, train_label_batch in helper.batch_features_labels(test_features, test_labels, batch_size):\n",
    "            test_batch_acc_total += sess.run(\n",
    "                loaded_acc,\n",
    "                feed_dict={loaded_x: train_feature_batch, loaded_y: train_label_batch, loaded_keep_prob: 1.0})\n",
    "            test_batch_count += 1\n",
    "\n",
    "        print('Testing Accuracy: {}\\n'.format(test_batch_acc_total/test_batch_count))\n",
    "\n",
    "        # Print Random Samples\n",
    "        random_test_features, random_test_labels = tuple(zip(*random.sample(list(zip(test_features, test_labels)), n_samples)))\n",
    "        random_test_predictions = sess.run(\n",
    "            tf.nn.top_k(tf.nn.softmax(loaded_logits), top_n_predictions),\n",
    "            feed_dict={loaded_x: random_test_features, loaded_y: random_test_labels, loaded_keep_prob: 1.0})\n",
    "        helper.display_image_predictions(random_test_features, random_test_labels, random_test_predictions)\n",
    "\n",
    "\n",
    "test_model()"
   ]
  },
  {
   "cell_type": "markdown",
   "metadata": {
    "deletable": true,
    "editable": true
   },
   "source": [
    "## Why 50-70% Accuracy?\n",
    "You might be wondering why you can't get an accuracy any higher. First things first, 50% isn't bad for a simple CNN.  Pure guessing would get you 10% accuracy. However, you might notice people are getting scores [well above 70%](http://rodrigob.github.io/are_we_there_yet/build/classification_datasets_results.html#43494641522d3130).  That's because we haven't taught you all there is to know about neural networks. We still need to cover a few more techniques.\n",
    "## Submitting This Project\n",
    "When submitting this project, make sure to run all the cells before saving the notebook.  Save the notebook file as \"dlnd_image_classification.ipynb\" and save it as a HTML file under \"File\" -> \"Download as\".  Include the \"helper.py\" and \"problem_unittests.py\" files in your submission."
   ]
  }
 ],
 "metadata": {
  "kernelspec": {
   "display_name": "Python 3",
   "language": "python",
   "name": "python3"
  },
  "language_info": {
   "codemirror_mode": {
    "name": "ipython",
    "version": 3
   },
   "file_extension": ".py",
   "mimetype": "text/x-python",
   "name": "python",
   "nbconvert_exporter": "python",
   "pygments_lexer": "ipython3",
   "version": "3.6.0"
  }
 },
 "nbformat": 4,
 "nbformat_minor": 1
}
