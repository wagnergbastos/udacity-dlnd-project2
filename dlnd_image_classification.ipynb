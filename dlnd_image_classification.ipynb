{
 "cells": [
  {
   "cell_type": "markdown",
   "metadata": {
    "collapsed": true
   },
   "source": [
    "# Image Classification\n",
    "In this project, you'll classify images from the [CIFAR-10 dataset](https://www.cs.toronto.edu/~kriz/cifar.html).  The dataset consists of airplanes, dogs, cats, and other objects. You'll preprocess the images, then train a convolutional neural network on all the samples. The images need to be normalized and the labels need to be one-hot encoded.  You'll get to apply what you learned and build a convolutional, max pooling, dropout, and fully connected layers.  At the end, you'll get to see your neural network's predictions on the sample images.\n",
    "## Get the Data\n",
    "Run the following cell to download the [CIFAR-10 dataset for python](https://www.cs.toronto.edu/~kriz/cifar-10-python.tar.gz)."
   ]
  },
  {
   "cell_type": "code",
   "execution_count": 1,
   "metadata": {},
   "outputs": [
    {
     "name": "stdout",
     "output_type": "stream",
     "text": [
      "All files found!\n"
     ]
    }
   ],
   "source": [
    "\"\"\"\n",
    "DON'T MODIFY ANYTHING IN THIS CELL THAT IS BELOW THIS LINE\n",
    "\"\"\"\n",
    "from urllib.request import urlretrieve\n",
    "from os.path import isfile, isdir\n",
    "from tqdm import tqdm\n",
    "import problem_unittests as tests\n",
    "import tarfile\n",
    "\n",
    "cifar10_dataset_folder_path = 'cifar-10-batches-py'\n",
    "\n",
    "# Use Floyd's cifar-10 dataset if present\n",
    "floyd_cifar10_location = '/input/cifar-10/python.tar.gz'\n",
    "if isfile(floyd_cifar10_location):\n",
    "    tar_gz_path = floyd_cifar10_location\n",
    "else:\n",
    "    tar_gz_path = 'cifar-10-python.tar.gz'\n",
    "\n",
    "class DLProgress(tqdm):\n",
    "    last_block = 0\n",
    "\n",
    "    def hook(self, block_num=1, block_size=1, total_size=None):\n",
    "        self.total = total_size\n",
    "        self.update((block_num - self.last_block) * block_size)\n",
    "        self.last_block = block_num\n",
    "\n",
    "if not isfile(tar_gz_path):\n",
    "    with DLProgress(unit='B', unit_scale=True, miniters=1, desc='CIFAR-10 Dataset') as pbar:\n",
    "        urlretrieve(\n",
    "            'https://www.cs.toronto.edu/~kriz/cifar-10-python.tar.gz',\n",
    "            tar_gz_path,\n",
    "            pbar.hook)\n",
    "\n",
    "if not isdir(cifar10_dataset_folder_path):\n",
    "    with tarfile.open(tar_gz_path) as tar:\n",
    "        tar.extractall()\n",
    "        tar.close()\n",
    "\n",
    "\n",
    "tests.test_folder_path(cifar10_dataset_folder_path)"
   ]
  },
  {
   "cell_type": "markdown",
   "metadata": {},
   "source": [
    "## Explore the Data\n",
    "The dataset is broken into batches to prevent your machine from running out of memory.  The CIFAR-10 dataset consists of 5 batches, named `data_batch_1`, `data_batch_2`, etc.. Each batch contains the labels and images that are one of the following:\n",
    "* airplane\n",
    "* automobile\n",
    "* bird\n",
    "* cat\n",
    "* deer\n",
    "* dog\n",
    "* frog\n",
    "* horse\n",
    "* ship\n",
    "* truck\n",
    "\n",
    "Understanding a dataset is part of making predictions on the data.  Play around with the code cell below by changing the `batch_id` and `sample_id`. The `batch_id` is the id for a batch (1-5). The `sample_id` is the id for a image and label pair in the batch.\n",
    "\n",
    "Ask yourself \"What are all possible labels?\", \"What is the range of values for the image data?\", \"Are the labels in order or random?\".  Answers to questions like these will help you preprocess the data and end up with better predictions."
   ]
  },
  {
   "cell_type": "code",
   "execution_count": 2,
   "metadata": {},
   "outputs": [
    {
     "name": "stdout",
     "output_type": "stream",
     "text": [
      "\n",
      "Stats of batch 1:\n",
      "Samples: 10000\n",
      "Label Counts: {0: 1005, 1: 974, 2: 1032, 3: 1016, 4: 999, 5: 937, 6: 1030, 7: 1001, 8: 1025, 9: 981}\n",
      "First 20 Labels: [6, 9, 9, 4, 1, 1, 2, 7, 8, 3, 4, 7, 7, 2, 9, 9, 9, 3, 2, 6]\n",
      "\n",
      "Example of Image 5:\n",
      "Image - Min Value: 0 Max Value: 252\n",
      "Image - Shape: (32, 32, 3)\n",
      "Label - Label Id: 1 Name: automobile\n"
     ]
    },
    {
     "data": {
      "image/png": "[encoded data removed]",
      "text/plain": [
       "<matplotlib.figure.Figure at 0x7fdbb0e47be0>"
      ]
     },
     "metadata": {
      "image/png": {
       "height": 250,
       "width": 253
      }
     },
     "output_type": "display_data"
    }
   ],
   "source": [
    "%matplotlib inline\n",
    "%config InlineBackend.figure_format = 'retina'\n",
    "\n",
    "import helper\n",
    "import numpy as np\n",
    "\n",
    "# Explore the dataset\n",
    "batch_id = 1\n",
    "sample_id = 5\n",
    "helper.display_stats(cifar10_dataset_folder_path, batch_id, sample_id)"
   ]
  },
  {
   "cell_type": "markdown",
   "metadata": {},
   "source": [
    "## Implement Preprocess Functions\n",
    "### Normalize\n",
    "In the cell below, implement the `normalize` function to take in image data, `x`, and return it as a normalized Numpy array. The values should be in the range of 0 to 1, inclusive.  The return object should be the same shape as `x`."
   ]
  },
  {
   "cell_type": "code",
   "execution_count": 3,
   "metadata": {},
   "outputs": [
    {
     "name": "stdout",
     "output_type": "stream",
     "text": [
      "Tests Passed\n"
     ]
    }
   ],
   "source": [
    "def normalize(x):\n",
    "    \"\"\"\n",
    "    Normalize a list of sample image data in the range of 0 to 1\n",
    "    : x: List of image data.  The image shape is (32, 32, 3)\n",
    "    : return: Numpy array of normalize data\n",
    "    \"\"\"\n",
    "    # TODO: Implement Function\n",
    "    return x/np.max(x) \n",
    "\n",
    "\n",
    "\"\"\"\n",
    "DON'T MODIFY ANYTHING IN THIS CELL THAT IS BELOW THIS LINE\n",
    "\"\"\"\n",
    "tests.test_normalize(normalize)"
   ]
  },
  {
   "cell_type": "markdown",
   "metadata": {},
   "source": [
    "### One-hot encode\n",
    "Just like the previous code cell, you'll be implementing a function for preprocessing.  This time, you'll implement the `one_hot_encode` function. The input, `x`, are a list of labels.  Implement the function to return the list of labels as One-Hot encoded Numpy array.  The possible values for labels are 0 to 9. The one-hot encoding function should return the same encoding for each value between each call to `one_hot_encode`.  Make sure to save the map of encodings outside the function.\n",
    "\n",
    "Hint: Don't reinvent the wheel."
   ]
  },
  {
   "cell_type": "code",
   "execution_count": 4,
   "metadata": {},
   "outputs": [
    {
     "name": "stdout",
     "output_type": "stream",
     "text": [
      "Tests Passed\n"
     ]
    }
   ],
   "source": [
    "map_of_encodings = np.eye(10)\n",
    "\n",
    "def one_hot_encode(x):\n",
    "    \"\"\"\n",
    "    One hot encode a list of sample labels. Return a one-hot encoded vector for each label.\n",
    "    : x: List of sample Labels\n",
    "    : return: Numpy array of one-hot encoded labels\n",
    "    \"\"\"\n",
    "    # TODO: Implement Function\n",
    "    return map_of_encodings[x] \n",
    "\n",
    "\n",
    "\"\"\"\n",
    "DON'T MODIFY ANYTHING IN THIS CELL THAT IS BELOW THIS LINE\n",
    "\"\"\"\n",
    "tests.test_one_hot_encode(one_hot_encode)"
   ]
  },
  {
   "cell_type": "markdown",
   "metadata": {},
   "source": [
    "### Randomize Data\n",
    "As you saw from exploring the data above, the order of the samples are randomized.  It doesn't hurt to randomize it again, but you don't need to for this dataset."
   ]
  },
  {
   "cell_type": "markdown",
   "metadata": {},
   "source": [
    "## Preprocess all the data and save it\n",
    "Running the code cell below will preprocess all the CIFAR-10 data and save it to file. The code below also uses 10% of the training data for validation."
   ]
  },
  {
   "cell_type": "code",
   "execution_count": 5,
   "metadata": {
    "collapsed": true
   },
   "outputs": [],
   "source": [
    "\"\"\"\n",
    "DON'T MODIFY ANYTHING IN THIS CELL\n",
    "\"\"\"\n",
    "# Preprocess Training, Validation, and Testing Data\n",
    "helper.preprocess_and_save_data(cifar10_dataset_folder_path, normalize, one_hot_encode)"
   ]
  },
  {
   "cell_type": "markdown",
   "metadata": {},
   "source": [
    "# Check Point\n",
    "This is your first checkpoint.  If you ever decide to come back to this notebook or have to restart the notebook, you can start from here.  The preprocessed data has been saved to disk."
   ]
  },
  {
   "cell_type": "code",
   "execution_count": 6,
   "metadata": {
    "collapsed": true
   },
   "outputs": [],
   "source": [
    "\"\"\"\n",
    "DON'T MODIFY ANYTHING IN THIS CELL\n",
    "\"\"\"\n",
    "import pickle\n",
    "import problem_unittests as tests\n",
    "import helper\n",
    "\n",
    "# Load the Preprocessed Validation data\n",
    "valid_features, valid_labels = pickle.load(open('preprocess_validation.p', mode='rb'))"
   ]
  },
  {
   "cell_type": "markdown",
   "metadata": {},
   "source": [
    "## Build the network\n",
    "For the neural network, you'll build each layer into a function.  Most of the code you've seen has been outside of functions. To test your code more thoroughly, we require that you put each layer in a function.  This allows us to give you better feedback and test for simple mistakes using our unittests before you submit your project.\n",
    "\n",
    ">**Note:** If you're finding it hard to dedicate enough time for this course each week, we've provided a small shortcut to this part of the project. In the next couple of problems, you'll have the option to use classes from the [TensorFlow Layers](https://www.tensorflow.org/api_docs/python/tf/layers) or [TensorFlow Layers (contrib)](https://www.tensorflow.org/api_guides/python/contrib.layers) packages to build each layer, except the layers you build in the \"Convolutional and Max Pooling Layer\" section.  TF Layers is similar to Keras's and TFLearn's abstraction to layers, so it's easy to pickup.\n",
    "\n",
    ">However, if you would like to get the most out of this course, try to solve all the problems _without_ using anything from the TF Layers packages. You **can** still use classes from other packages that happen to have the same name as ones you find in TF Layers! For example, instead of using the TF Layers version of the `conv2d` class, [tf.layers.conv2d](https://www.tensorflow.org/api_docs/python/tf/layers/conv2d), you would want to use the TF Neural Network version of `conv2d`, [tf.nn.conv2d](https://www.tensorflow.org/api_docs/python/tf/nn/conv2d). \n",
    "\n",
    "Let's begin!\n",
    "\n",
    "### Input\n",
    "The neural network needs to read the image data, one-hot encoded labels, and dropout keep probability. Implement the following functions\n",
    "* Implement `neural_net_image_input`\n",
    " * Return a [TF Placeholder](https://www.tensorflow.org/api_docs/python/tf/placeholder)\n",
    " * Set the shape using `image_shape` with batch size set to `None`.\n",
    " * Name the TensorFlow placeholder \"x\" using the TensorFlow `name` parameter in the [TF Placeholder](https://www.tensorflow.org/api_docs/python/tf/placeholder).\n",
    "* Implement `neural_net_label_input`\n",
    " * Return a [TF Placeholder](https://www.tensorflow.org/api_docs/python/tf/placeholder)\n",
    " * Set the shape using `n_classes` with batch size set to `None`.\n",
    " * Name the TensorFlow placeholder \"y\" using the TensorFlow `name` parameter in the [TF Placeholder](https://www.tensorflow.org/api_docs/python/tf/placeholder).\n",
    "* Implement `neural_net_keep_prob_input`\n",
    " * Return a [TF Placeholder](https://www.tensorflow.org/api_docs/python/tf/placeholder) for dropout keep probability.\n",
    " * Name the TensorFlow placeholder \"keep_prob\" using the TensorFlow `name` parameter in the [TF Placeholder](https://www.tensorflow.org/api_docs/python/tf/placeholder).\n",
    "\n",
    "These names will be used at the end of the project to load your saved model.\n",
    "\n",
    "Note: `None` for shapes in TensorFlow allow for a dynamic size."
   ]
  },
  {
   "cell_type": "code",
   "execution_count": 7,
   "metadata": {},
   "outputs": [
    {
     "name": "stdout",
     "output_type": "stream",
     "text": [
      "Image Input Tests Passed.\n",
      "Label Input Tests Passed.\n",
      "Keep Prob Tests Passed.\n"
     ]
    }
   ],
   "source": [
    "import tensorflow as tf\n",
    "\n",
    "def neural_net_image_input(image_shape):\n",
    "    \"\"\"\n",
    "    Return a Tensor for a bach of image input\n",
    "    : image_shape: Shape of the images\n",
    "    : return: Tensor for image input.\n",
    "    \"\"\"\n",
    "    # TODO: Implement Function\n",
    "    return tf.placeholder(tf.float32, shape=[None, image_shape[0], image_shape[1], image_shape[2]], name=\"x\")\n",
    "\n",
    "\n",
    "def neural_net_label_input(n_classes):\n",
    "    \"\"\"\n",
    "    Return a Tensor for a batch of label input\n",
    "    : n_classes: Number of classes\n",
    "    : return: Tensor for label input.\n",
    "    \"\"\"\n",
    "    # TODO: Implement Function\n",
    "    return tf.placeholder(tf.float32, shape=[None, n_classes], name=\"y\")\n",
    "\n",
    "\n",
    "def neural_net_keep_prob_input():\n",
    "    \"\"\"\n",
    "    Return a Tensor for keep probability\n",
    "    : return: Tensor for keep probability.\n",
    "    \"\"\"\n",
    "    # TODO: Implement Function\n",
    "    return tf.placeholder(tf.float32, name = 'keep_prob')\n",
    "\n",
    "\n",
    "\"\"\"\n",
    "DON'T MODIFY ANYTHING IN THIS CELL THAT IS BELOW THIS LINE\n",
    "\"\"\"\n",
    "tf.reset_default_graph()\n",
    "tests.test_nn_image_inputs(neural_net_image_input)\n",
    "tests.test_nn_label_inputs(neural_net_label_input)\n",
    "tests.test_nn_keep_prob_inputs(neural_net_keep_prob_input)"
   ]
  },
  {
   "cell_type": "markdown",
   "metadata": {},
   "source": [
    "### Convolution and Max Pooling Layer\n",
    "Convolution layers have a lot of success with images. For this code cell, you should implement the function `conv2d_maxpool` to apply convolution then max pooling:\n",
    "* Create the weight and bias using `conv_ksize`, `conv_num_outputs` and the shape of `x_tensor`.\n",
    "* Apply a convolution to `x_tensor` using weight and `conv_strides`.\n",
    " * We recommend you use same padding, but you're welcome to use any padding.\n",
    "* Add bias\n",
    "* Add a nonlinear activation to the convolution.\n",
    "* Apply Max Pooling using `pool_ksize` and `pool_strides`.\n",
    " * We recommend you use same padding, but you're welcome to use any padding.\n",
    "\n",
    "**Note:** You **can't** use [TensorFlow Layers](https://www.tensorflow.org/api_docs/python/tf/layers) or [TensorFlow Layers (contrib)](https://www.tensorflow.org/api_guides/python/contrib.layers) for **this** layer, but you can still use TensorFlow's [Neural Network](https://www.tensorflow.org/api_docs/python/tf/nn) package. You may still use the shortcut option for all the **other** layers."
   ]
  },
  {
   "cell_type": "code",
   "execution_count": 8,
   "metadata": {},
   "outputs": [
    {
     "name": "stdout",
     "output_type": "stream",
     "text": [
      "Tests Passed\n"
     ]
    }
   ],
   "source": [
    "def conv2d_maxpool(x_tensor, conv_num_outputs, conv_ksize, conv_strides, pool_ksize, pool_strides):\n",
    "    \"\"\"\n",
    "    Apply convolution then max pooling to x_tensor\n",
    "    :param x_tensor: TensorFlow Tensor\n",
    "    :param conv_num_outputs: Number of outputs for the convolutional layer\n",
    "    :param conv_ksize: kernal size 2-D Tuple for the convolutional layer\n",
    "    :param conv_strides: Stride 2-D Tuple for convolution\n",
    "    :param pool_ksize: kernal size 2-D Tuple for pool\n",
    "    :param pool_strides: Stride 2-D Tuple for pool\n",
    "    : return: A tensor that represents convolution and max pooling of x_tensor\n",
    "    \"\"\"\n",
    "    # TODO: Implement Function\n",
    "    weight = tf.Variable(tf.random_normal([conv_ksize[0], conv_ksize[1], x_tensor.get_shape().as_list()[3], conv_num_outputs], stddev=0.1))\n",
    "    bias   = tf.Variable(tf.random_normal([conv_num_outputs], stddev=0.1))\n",
    "    x_tensor = tf.nn.conv2d(x_tensor, weight, [1, conv_strides[0], conv_strides[1], 1], padding='SAME')\n",
    "    x_tensor = tf.nn.bias_add(x_tensor, bias)\n",
    "    x_tensor = tf.nn.relu(x_tensor)\n",
    "    x_tensor = tf.nn.max_pool(x_tensor, [1, pool_ksize[0], pool_ksize[1], 1], [1, pool_strides[0], pool_strides[1], 1], padding='SAME')\n",
    "    return x_tensor \n",
    "\n",
    "\"\"\"\n",
    "DON'T MODIFY ANYTHING IN THIS CELL THAT IS BELOW THIS LINE\n",
    "\"\"\"\n",
    "tests.test_con_pool(conv2d_maxpool)"
   ]
  },
  {
   "cell_type": "markdown",
   "metadata": {},
   "source": [
    "### Flatten Layer\n",
    "Implement the `flatten` function to change the dimension of `x_tensor` from a 4-D tensor to a 2-D tensor.  The output should be the shape (*Batch Size*, *Flattened Image Size*). Shortcut option: you can use classes from the [TensorFlow Layers](https://www.tensorflow.org/api_docs/python/tf/layers) or [TensorFlow Layers (contrib)](https://www.tensorflow.org/api_guides/python/contrib.layers) packages for this layer. For more of a challenge, only use other TensorFlow packages."
   ]
  },
  {
   "cell_type": "code",
   "execution_count": 9,
   "metadata": {},
   "outputs": [
    {
     "name": "stdout",
     "output_type": "stream",
     "text": [
      "Tests Passed\n"
     ]
    }
   ],
   "source": [
    "def flatten(x_tensor):\n",
    "    \"\"\"\n",
    "    Flatten x_tensor to (Batch Size, Flattened Image Size)\n",
    "    : x_tensor: A tensor of size (Batch Size, ...), where ... are the image dimensions.\n",
    "    : return: A tensor of size (Batch Size, Flattened Image Size).\n",
    "    \"\"\"\n",
    "    # TODO: Implement Function\n",
    "    return tf.contrib.layers.flatten(x_tensor)\n",
    "\n",
    "\n",
    "\"\"\"\n",
    "DON'T MODIFY ANYTHING IN THIS CELL THAT IS BELOW THIS LINE\n",
    "\"\"\"\n",
    "tests.test_flatten(flatten)"
   ]
  },
  {
   "cell_type": "markdown",
   "metadata": {},
   "source": [
    "### Fully-Connected Layer\n",
    "Implement the `fully_conn` function to apply a fully connected layer to `x_tensor` with the shape (*Batch Size*, *num_outputs*). Shortcut option: you can use classes from the [TensorFlow Layers](https://www.tensorflow.org/api_docs/python/tf/layers) or [TensorFlow Layers (contrib)](https://www.tensorflow.org/api_guides/python/contrib.layers) packages for this layer. For more of a challenge, only use other TensorFlow packages."
   ]
  },
  {
   "cell_type": "code",
   "execution_count": 10,
   "metadata": {},
   "outputs": [
    {
     "name": "stdout",
     "output_type": "stream",
     "text": [
      "Tests Passed\n"
     ]
    }
   ],
   "source": [
    "def fully_conn(x_tensor, num_outputs):\n",
    "    \"\"\"\n",
    "    Apply a fully connected layer to x_tensor using weight and bias\n",
    "    : x_tensor: A 2-D tensor where the first dimension is batch size.\n",
    "    : num_outputs: The number of output that the new tensor should be.\n",
    "    : return: A 2-D tensor where the second dimension is num_outputs.\n",
    "    \"\"\"\n",
    "    # TODO: Implement Function\n",
    "    return tf.contrib.layers.fully_connected(x_tensor, num_outputs, tf.nn.relu)\n",
    "\n",
    "\n",
    "\"\"\"\n",
    "DON'T MODIFY ANYTHING IN THIS CELL THAT IS BELOW THIS LINE\n",
    "\"\"\"\n",
    "tests.test_fully_conn(fully_conn)"
   ]
  },
  {
   "cell_type": "markdown",
   "metadata": {},
   "source": [
    "### Output Layer\n",
    "Implement the `output` function to apply a fully connected layer to `x_tensor` with the shape (*Batch Size*, *num_outputs*). Shortcut option: you can use classes from the [TensorFlow Layers](https://www.tensorflow.org/api_docs/python/tf/layers) or [TensorFlow Layers (contrib)](https://www.tensorflow.org/api_guides/python/contrib.layers) packages for this layer. For more of a challenge, only use other TensorFlow packages.\n",
    "\n",
    "**Note:** Activation, softmax, or cross entropy should **not** be applied to this."
   ]
  },
  {
   "cell_type": "code",
   "execution_count": 11,
   "metadata": {},
   "outputs": [
    {
     "name": "stdout",
     "output_type": "stream",
     "text": [
      "Tests Passed\n"
     ]
    }
   ],
   "source": [
    "def output(x_tensor, num_outputs):\n",
    "    \"\"\"\n",
    "    Apply a output layer to x_tensor using weight and bias\n",
    "    : x_tensor: A 2-D tensor where the first dimension is batch size.\n",
    "    : num_outputs: The number of output that the new tensor should be.\n",
    "    : return: A 2-D tensor where the second dimension is num_outputs.\n",
    "    \"\"\"\n",
    "    # TODO: Implement Function\n",
    "    return tf.contrib.layers.fully_connected(x_tensor, num_outputs, None)\n",
    "\n",
    "\n",
    "\"\"\"\n",
    "DON'T MODIFY ANYTHING IN THIS CELL THAT IS BELOW THIS LINE\n",
    "\"\"\"\n",
    "tests.test_output(output)"
   ]
  },
  {
   "cell_type": "markdown",
   "metadata": {},
   "source": [
    "### Create Convolutional Model\n",
    "Implement the function `conv_net` to create a convolutional neural network model. The function takes in a batch of images, `x`, and outputs logits.  Use the layers you created above to create this model:\n",
    "\n",
    "* Apply 1, 2, or 3 Convolution and Max Pool layers\n",
    "* Apply a Flatten Layer\n",
    "* Apply 1, 2, or 3 Fully Connected Layers\n",
    "* Apply an Output Layer\n",
    "* Return the output\n",
    "* Apply [TensorFlow's Dropout](https://www.tensorflow.org/api_docs/python/tf/nn/dropout) to one or more layers in the model using `keep_prob`. "
   ]
  },
  {
   "cell_type": "code",
   "execution_count": 12,
   "metadata": {},
   "outputs": [
    {
     "name": "stdout",
     "output_type": "stream",
     "text": [
      "Neural Network Built!\n"
     ]
    }
   ],
   "source": [
    "def conv_net(x, keep_prob):\n",
    "    \"\"\"\n",
    "    Create a convolutional neural network model\n",
    "    : x: Placeholder tensor that holds image data.\n",
    "    : keep_prob: Placeholder tensor that hold dropout keep probability.\n",
    "    : return: Tensor that represents logits\n",
    "    \"\"\"\n",
    "    # TODO: Apply 1, 2, or 3 Convolution and Max Pool layers\n",
    "    #    Play around with different number of outputs, kernel size and stride\n",
    "    # Function Definition from Above:\n",
    "    #    conv2d_maxpool(x_tensor, conv_num_outputs, conv_ksize, conv_strides, pool_ksize, pool_strides)\n",
    "    x_t = conv2d_maxpool(x,   16, (5, 5), (1, 1), (2, 2), (2, 2))\n",
    "    x_t = conv2d_maxpool(x_t, 32, (5, 5), (1, 1), (2, 2), (2, 2))\n",
    "    x_t = conv2d_maxpool(x_t, 64, (5, 5), (1, 1), (2, 2), (2, 2))     \n",
    "\n",
    "    # TODO: Apply a Flatten Layer\n",
    "    # Function Definition from Above:\n",
    "    #   flatten(x_tensor)\n",
    "    x_t = flatten(x_t)    \n",
    "\n",
    "    # TODO: Apply 1, 2, or 3 Fully Connected Layers\n",
    "    #    Play around with different number of outputs\n",
    "    # Function Definition from Above:\n",
    "    #   fully_conn(x_tensor, num_outputs)\n",
    "    x_t = fully_conn(x_t, 512)\n",
    "    x_t = fully_conn(x_t, 64)\n",
    "    x_t = tf.nn.dropout(x_t, keep_prob)    \n",
    "    \n",
    "    # TODO: Apply an Output Layer\n",
    "    #    Set this to the number of classes\n",
    "    # Function Definition from Above:\n",
    "    #   output(x_tensor, num_outputs)\n",
    "    x_t = output(x_t, 10)    \n",
    "    \n",
    "    # TODO: return output\n",
    "    return x_t\n",
    "\n",
    "\n",
    "\"\"\"\n",
    "DON'T MODIFY ANYTHING IN THIS CELL THAT IS BELOW THIS LINE\n",
    "\"\"\"\n",
    "\n",
    "##############################\n",
    "## Build the Neural Network ##\n",
    "##############################\n",
    "\n",
    "# Remove previous weights, bias, inputs, etc..\n",
    "tf.reset_default_graph()\n",
    "\n",
    "# Inputs\n",
    "x = neural_net_image_input((32, 32, 3))\n",
    "y = neural_net_label_input(10)\n",
    "keep_prob = neural_net_keep_prob_input()\n",
    "\n",
    "# Model\n",
    "logits = conv_net(x, keep_prob)\n",
    "\n",
    "# Name logits Tensor, so that is can be loaded from disk after training\n",
    "logits = tf.identity(logits, name='logits')\n",
    "\n",
    "# Loss and Optimizer\n",
    "cost = tf.reduce_mean(tf.nn.softmax_cross_entropy_with_logits(logits=logits, labels=y))\n",
    "optimizer = tf.train.AdamOptimizer().minimize(cost)\n",
    "\n",
    "# Accuracy\n",
    "correct_pred = tf.equal(tf.argmax(logits, 1), tf.argmax(y, 1))\n",
    "accuracy = tf.reduce_mean(tf.cast(correct_pred, tf.float32), name='accuracy')\n",
    "\n",
    "tests.test_conv_net(conv_net)"
   ]
  },
  {
   "cell_type": "markdown",
   "metadata": {},
   "source": [
    "## Train the Neural Network\n",
    "### Single Optimization\n",
    "Implement the function `train_neural_network` to do a single optimization.  The optimization should use `optimizer` to optimize in `session` with a `feed_dict` of the following:\n",
    "* `x` for image input\n",
    "* `y` for labels\n",
    "* `keep_prob` for keep probability for dropout\n",
    "\n",
    "This function will be called for each batch, so `tf.global_variables_initializer()` has already been called.\n",
    "\n",
    "Note: Nothing needs to be returned. This function is only optimizing the neural network."
   ]
  },
  {
   "cell_type": "code",
   "execution_count": 13,
   "metadata": {},
   "outputs": [
    {
     "name": "stdout",
     "output_type": "stream",
     "text": [
      "Tests Passed\n"
     ]
    }
   ],
   "source": [
    "def train_neural_network(session, optimizer, keep_probability, feature_batch, label_batch):\n",
    "    \"\"\"\n",
    "    Optimize the session on a batch of images and labels\n",
    "    : session: Current TensorFlow session\n",
    "    : optimizer: TensorFlow optimizer function\n",
    "    : keep_probability: keep probability\n",
    "    : feature_batch: Batch of Numpy image data\n",
    "    : label_batch: Batch of Numpy label data\n",
    "    \"\"\"\n",
    "    # TODO: Implement Function\n",
    "    feed_dict = {x: feature_batch, \n",
    "                 y: label_batch,\n",
    "                 keep_prob: keep_probability,}\n",
    "    session.run(optimizer, feed_dict=feed_dict)\n",
    "\n",
    "\n",
    "\"\"\"\n",
    "DON'T MODIFY ANYTHING IN THIS CELL THAT IS BELOW THIS LINE\n",
    "\"\"\"\n",
    "tests.test_train_nn(train_neural_network)"
   ]
  },
  {
   "cell_type": "markdown",
   "metadata": {},
   "source": [
    "### Show Stats\n",
    "Implement the function `print_stats` to print loss and validation accuracy.  Use the global variables `valid_features` and `valid_labels` to calculate validation accuracy.  Use a keep probability of `1.0` to calculate the loss and validation accuracy."
   ]
  },
  {
   "cell_type": "code",
   "execution_count": 14,
   "metadata": {
    "collapsed": true
   },
   "outputs": [],
   "source": [
    "def print_stats(session, feature_batch, label_batch, cost, accuracy):\n",
    "    \"\"\"\n",
    "    Print information about loss and validation accuracy\n",
    "    : session: Current TensorFlow session\n",
    "    : feature_batch: Batch of Numpy image data\n",
    "    : label_batch: Batch of Numpy label data\n",
    "    : cost: TensorFlow cost function\n",
    "    : accuracy: TensorFlow accuracy function\n",
    "    \"\"\"\n",
    "    # TODO: Implement Function\n",
    "    loss = session.run(cost, feed_dict={x: feature_batch, y: label_batch, keep_prob: 1.0})\n",
    "    accuracy_value = session.run(accuracy, feed_dict={x: valid_features, y: valid_labels, keep_prob: 1.0})\n",
    "    print('cost: {}, accuracy_value: {}'.format(loss, accuracy_value))"
   ]
  },
  {
   "cell_type": "markdown",
   "metadata": {},
   "source": [
    "### Hyperparameters\n",
    "Tune the following parameters:\n",
    "* Set `epochs` to the number of iterations until the network stops learning or start overfitting\n",
    "* Set `batch_size` to the highest number that your machine has memory for.  Most people set them to common sizes of memory:\n",
    " * 64\n",
    " * 128\n",
    " * 256\n",
    " * ...\n",
    "* Set `keep_probability` to the probability of keeping a node using dropout"
   ]
  },
  {
   "cell_type": "code",
   "execution_count": 32,
   "metadata": {
    "collapsed": true
   },
   "outputs": [],
   "source": [
    "# TODO: Tune Parameters\n",
    "epochs = 50\n",
    "batch_size = 128\n",
    "keep_probability = 0.35"
   ]
  },
  {
   "cell_type": "markdown",
   "metadata": {},
   "source": [
    "### Train on a Single CIFAR-10 Batch\n",
    "Instead of training the neural network on all the CIFAR-10 batches of data, let's use a single batch. This should save time while you iterate on the model to get a better accuracy.  Once the final validation accuracy is 50% or greater, run the model on all the data in the next section."
   ]
  },
  {
   "cell_type": "code",
   "execution_count": 33,
   "metadata": {},
   "outputs": [
    {
     "name": "stdout",
     "output_type": "stream",
     "text": [
      "Checking the Training on a Single Batch...\n",
      "Epoch  1, CIFAR-10 Batch 1:  cost: 2.186488151550293, accuracy_value: 0.24139998853206635\n",
      "Epoch  2, CIFAR-10 Batch 1:  cost: 2.064760684967041, accuracy_value: 0.3547999858856201\n",
      "Epoch  3, CIFAR-10 Batch 1:  cost: 1.922864556312561, accuracy_value: 0.3700000047683716\n",
      "Epoch  4, CIFAR-10 Batch 1:  cost: 1.732647180557251, accuracy_value: 0.40539997816085815\n",
      "Epoch  5, CIFAR-10 Batch 1:  cost: 1.568299651145935, accuracy_value: 0.4259999990463257\n",
      "Epoch  6, CIFAR-10 Batch 1:  cost: 1.4589858055114746, accuracy_value: 0.4511999785900116\n",
      "Epoch  7, CIFAR-10 Batch 1:  cost: 1.296006441116333, accuracy_value: 0.48159998655319214\n",
      "Epoch  8, CIFAR-10 Batch 1:  cost: 1.1034367084503174, accuracy_value: 0.4989999234676361\n",
      "Epoch  9, CIFAR-10 Batch 1:  cost: 1.0029230117797852, accuracy_value: 0.49939998984336853\n",
      "Epoch 10, CIFAR-10 Batch 1:  cost: 0.8511476516723633, accuracy_value: 0.5221999287605286\n",
      "Epoch 11, CIFAR-10 Batch 1:  cost: 0.701623260974884, accuracy_value: 0.5229998826980591\n",
      "Epoch 12, CIFAR-10 Batch 1:  cost: 0.6269204020500183, accuracy_value: 0.5069999694824219\n",
      "Epoch 13, CIFAR-10 Batch 1:  cost: 0.756259560585022, accuracy_value: 0.5005999803543091\n",
      "Epoch 14, CIFAR-10 Batch 1:  cost: 0.520210862159729, accuracy_value: 0.5437999367713928\n",
      "Epoch 15, CIFAR-10 Batch 1:  cost: 0.4960319995880127, accuracy_value: 0.5377999544143677\n",
      "Epoch 16, CIFAR-10 Batch 1:  cost: 0.43205249309539795, accuracy_value: 0.5307999849319458\n",
      "Epoch 17, CIFAR-10 Batch 1:  cost: 0.426715612411499, accuracy_value: 0.5145999193191528\n",
      "Epoch 18, CIFAR-10 Batch 1:  cost: 0.3509998321533203, accuracy_value: 0.5361999273300171\n",
      "Epoch 19, CIFAR-10 Batch 1:  cost: 0.32696083188056946, accuracy_value: 0.5057999491691589\n",
      "Epoch 20, CIFAR-10 Batch 1:  cost: 0.22967752814292908, accuracy_value: 0.5217999219894409\n",
      "Epoch 21, CIFAR-10 Batch 1:  cost: 0.22037461400032043, accuracy_value: 0.5133999586105347\n",
      "Epoch 22, CIFAR-10 Batch 1:  cost: 0.18370595574378967, accuracy_value: 0.5353999733924866\n",
      "Epoch 23, CIFAR-10 Batch 1:  cost: 0.1451040804386139, accuracy_value: 0.5291999578475952\n",
      "Epoch 24, CIFAR-10 Batch 1:  cost: 0.14074423909187317, accuracy_value: 0.5389999151229858\n",
      "Epoch 25, CIFAR-10 Batch 1:  cost: 0.12580561637878418, accuracy_value: 0.5356000065803528\n",
      "Epoch 26, CIFAR-10 Batch 1:  cost: 0.08855216950178146, accuracy_value: 0.5375999212265015\n",
      "Epoch 27, CIFAR-10 Batch 1:  cost: 0.05953088402748108, accuracy_value: 0.5295999050140381\n",
      "Epoch 28, CIFAR-10 Batch 1:  cost: 0.06638206541538239, accuracy_value: 0.555199921131134\n",
      "Epoch 29, CIFAR-10 Batch 1:  cost: 0.04857936501502991, accuracy_value: 0.5515999794006348\n",
      "Epoch 30, CIFAR-10 Batch 1:  cost: 0.05476755276322365, accuracy_value: 0.5559999346733093\n",
      "Epoch 31, CIFAR-10 Batch 1:  cost: 0.028044937178492546, accuracy_value: 0.5361999273300171\n",
      "Epoch 32, CIFAR-10 Batch 1:  cost: 0.030742939561605453, accuracy_value: 0.5351999402046204\n",
      "Epoch 33, CIFAR-10 Batch 1:  cost: 0.02325385808944702, accuracy_value: 0.5519999265670776\n",
      "Epoch 34, CIFAR-10 Batch 1:  cost: 0.018618613481521606, accuracy_value: 0.5485999584197998\n",
      "Epoch 35, CIFAR-10 Batch 1:  cost: 0.0327988900244236, accuracy_value: 0.5553999543190002\n",
      "Epoch 36, CIFAR-10 Batch 1:  cost: 0.016477754339575768, accuracy_value: 0.5387998819351196\n",
      "Epoch 37, CIFAR-10 Batch 1:  cost: 0.006339033134281635, accuracy_value: 0.5561999678611755\n",
      "Epoch 38, CIFAR-10 Batch 1:  cost: 0.005303599871695042, accuracy_value: 0.553399920463562\n",
      "Epoch 39, CIFAR-10 Batch 1:  cost: 0.010343649424612522, accuracy_value: 0.5321999788284302\n",
      "Epoch 40, CIFAR-10 Batch 1:  cost: 0.0014757277676835656, accuracy_value: 0.5559999346733093\n",
      "Epoch 41, CIFAR-10 Batch 1:  cost: 0.000852061144541949, accuracy_value: 0.5539999008178711\n",
      "Epoch 42, CIFAR-10 Batch 1:  cost: 0.001362829003483057, accuracy_value: 0.5543999671936035\n",
      "Epoch 43, CIFAR-10 Batch 1:  cost: 0.00021895908867008984, accuracy_value: 0.5631999373435974\n",
      "Epoch 44, CIFAR-10 Batch 1:  cost: 0.0007915322203189135, accuracy_value: 0.5547999143600464\n",
      "Epoch 45, CIFAR-10 Batch 1:  cost: 0.0010362874018028378, accuracy_value: 0.5643999576568604\n",
      "Epoch 46, CIFAR-10 Batch 1:  cost: 0.0032796210143715143, accuracy_value: 0.5627999305725098\n",
      "Epoch 47, CIFAR-10 Batch 1:  cost: 0.0007358946022577584, accuracy_value: 0.5611999034881592\n",
      "Epoch 48, CIFAR-10 Batch 1:  cost: 0.0007522272644564509, accuracy_value: 0.5603998899459839\n",
      "Epoch 49, CIFAR-10 Batch 1:  cost: 0.000972612586338073, accuracy_value: 0.5613999366760254\n",
      "Epoch 50, CIFAR-10 Batch 1:  cost: 0.00023455241171177477, accuracy_value: 0.5671999454498291\n"
     ]
    }
   ],
   "source": [
    "\"\"\"\n",
    "DON'T MODIFY ANYTHING IN THIS CELL\n",
    "\"\"\"\n",
    "print('Checking the Training on a Single Batch...')\n",
    "with tf.Session() as sess:\n",
    "    # Initializing the variables\n",
    "    sess.run(tf.global_variables_initializer())\n",
    "    \n",
    "    # Training cycle\n",
    "    for epoch in range(epochs):\n",
    "        batch_i = 1\n",
    "        for batch_features, batch_labels in helper.load_preprocess_training_batch(batch_i, batch_size):\n",
    "            train_neural_network(sess, optimizer, keep_probability, batch_features, batch_labels)\n",
    "        print('Epoch {:>2}, CIFAR-10 Batch {}:  '.format(epoch + 1, batch_i), end='')\n",
    "        print_stats(sess, batch_features, batch_labels, cost, accuracy)"
   ]
  },
  {
   "cell_type": "markdown",
   "metadata": {},
   "source": [
    "### Fully Train the Model\n",
    "Now that you got a good accuracy with a single CIFAR-10 batch, try it with all five batches."
   ]
  },
  {
   "cell_type": "code",
   "execution_count": 34,
   "metadata": {},
   "outputs": [
    {
     "name": "stdout",
     "output_type": "stream",
     "text": [
      "Training...\n",
      "Epoch  1, CIFAR-10 Batch 1:  cost: 2.145254611968994, accuracy_value: 0.277599960565567\n",
      "Epoch  1, CIFAR-10 Batch 2:  cost: 1.980778694152832, accuracy_value: 0.30559998750686646\n",
      "Epoch  1, CIFAR-10 Batch 3:  cost: 1.6076617240905762, accuracy_value: 0.3725999891757965\n",
      "Epoch  1, CIFAR-10 Batch 4:  cost: 1.6385843753814697, accuracy_value: 0.41759997606277466\n",
      "Epoch  1, CIFAR-10 Batch 5:  cost: 1.611568808555603, accuracy_value: 0.4331999719142914\n",
      "Epoch  2, CIFAR-10 Batch 1:  cost: 1.5791714191436768, accuracy_value: 0.45799997448921204\n",
      "Epoch  2, CIFAR-10 Batch 2:  cost: 1.417569637298584, accuracy_value: 0.4575999975204468\n",
      "Epoch  2, CIFAR-10 Batch 3:  cost: 1.3094178438186646, accuracy_value: 0.4835999608039856\n",
      "Epoch  2, CIFAR-10 Batch 4:  cost: 1.3309001922607422, accuracy_value: 0.5131999254226685\n",
      "Epoch  2, CIFAR-10 Batch 5:  cost: 1.3269550800323486, accuracy_value: 0.5125998854637146\n",
      "Epoch  3, CIFAR-10 Batch 1:  cost: 1.290867805480957, accuracy_value: 0.5163999199867249\n",
      "Epoch  3, CIFAR-10 Batch 2:  cost: 1.2752400636672974, accuracy_value: 0.539199948310852\n",
      "Epoch  3, CIFAR-10 Batch 3:  cost: 1.0147035121917725, accuracy_value: 0.5531999468803406\n",
      "Epoch  3, CIFAR-10 Batch 4:  cost: 1.1732447147369385, accuracy_value: 0.5589998960494995\n",
      "Epoch  3, CIFAR-10 Batch 5:  cost: 1.035122036933899, accuracy_value: 0.5649999380111694\n",
      "Epoch  4, CIFAR-10 Batch 1:  cost: 0.9991223812103271, accuracy_value: 0.5727999210357666\n",
      "Epoch  4, CIFAR-10 Batch 2:  cost: 1.0476648807525635, accuracy_value: 0.5587999224662781\n",
      "Epoch  4, CIFAR-10 Batch 3:  cost: 0.8301137685775757, accuracy_value: 0.5865999460220337\n",
      "Epoch  4, CIFAR-10 Batch 4:  cost: 0.9534949660301208, accuracy_value: 0.608799934387207\n",
      "Epoch  4, CIFAR-10 Batch 5:  cost: 0.807228684425354, accuracy_value: 0.5837998986244202\n",
      "Epoch  5, CIFAR-10 Batch 1:  cost: 0.8587168455123901, accuracy_value: 0.6155998706817627\n",
      "Epoch  5, CIFAR-10 Batch 2:  cost: 0.884880542755127, accuracy_value: 0.6027998924255371\n",
      "Epoch  5, CIFAR-10 Batch 3:  cost: 0.6931644678115845, accuracy_value: 0.6207999587059021\n",
      "Epoch  5, CIFAR-10 Batch 4:  cost: 0.8139998912811279, accuracy_value: 0.626599907875061\n",
      "Epoch  5, CIFAR-10 Batch 5:  cost: 0.5603346228599548, accuracy_value: 0.621199905872345\n",
      "Epoch  6, CIFAR-10 Batch 1:  cost: 0.662879467010498, accuracy_value: 0.6279999613761902\n",
      "Epoch  6, CIFAR-10 Batch 2:  cost: 0.6465620994567871, accuracy_value: 0.6381998658180237\n",
      "Epoch  6, CIFAR-10 Batch 3:  cost: 0.4681391417980194, accuracy_value: 0.6373999118804932\n",
      "Epoch  6, CIFAR-10 Batch 4:  cost: 0.676405131816864, accuracy_value: 0.6583998799324036\n",
      "Epoch  6, CIFAR-10 Batch 5:  cost: 0.4539502263069153, accuracy_value: 0.6609998345375061\n",
      "Epoch  7, CIFAR-10 Batch 1:  cost: 0.5080626606941223, accuracy_value: 0.6507998704910278\n",
      "Epoch  7, CIFAR-10 Batch 2:  cost: 0.49782484769821167, accuracy_value: 0.6445999145507812\n",
      "Epoch  7, CIFAR-10 Batch 3:  cost: 0.4177148640155792, accuracy_value: 0.639799952507019\n",
      "Epoch  7, CIFAR-10 Batch 4:  cost: 0.6034804582595825, accuracy_value: 0.6359999179840088\n",
      "Epoch  7, CIFAR-10 Batch 5:  cost: 0.3455619513988495, accuracy_value: 0.6485998630523682\n",
      "Epoch  8, CIFAR-10 Batch 1:  cost: 0.4862616956233978, accuracy_value: 0.6501998901367188\n",
      "Epoch  8, CIFAR-10 Batch 2:  cost: 0.3778371810913086, accuracy_value: 0.6691998839378357\n",
      "Epoch  8, CIFAR-10 Batch 3:  cost: 0.35003453493118286, accuracy_value: 0.6595999002456665\n",
      "Epoch  8, CIFAR-10 Batch 4:  cost: 0.4849410057067871, accuracy_value: 0.6557998657226562\n",
      "Epoch  8, CIFAR-10 Batch 5:  cost: 0.28238141536712646, accuracy_value: 0.6661998629570007\n",
      "Epoch  9, CIFAR-10 Batch 1:  cost: 0.4109763503074646, accuracy_value: 0.6625999212265015\n",
      "Epoch  9, CIFAR-10 Batch 2:  cost: 0.2730865180492401, accuracy_value: 0.6619998216629028\n",
      "Epoch  9, CIFAR-10 Batch 3:  cost: 0.24369701743125916, accuracy_value: 0.6771998405456543\n",
      "Epoch  9, CIFAR-10 Batch 4:  cost: 0.32529735565185547, accuracy_value: 0.669999897480011\n",
      "Epoch  9, CIFAR-10 Batch 5:  cost: 0.2575088441371918, accuracy_value: 0.6595999002456665\n",
      "Epoch 10, CIFAR-10 Batch 1:  cost: 0.32083526253700256, accuracy_value: 0.6813998818397522\n",
      "Epoch 10, CIFAR-10 Batch 2:  cost: 0.1952463835477829, accuracy_value: 0.6641998887062073\n",
      "Epoch 10, CIFAR-10 Batch 3:  cost: 0.18159133195877075, accuracy_value: 0.6851998567581177\n",
      "Epoch 10, CIFAR-10 Batch 4:  cost: 0.22343218326568604, accuracy_value: 0.6807999014854431\n",
      "Epoch 10, CIFAR-10 Batch 5:  cost: 0.15272867679595947, accuracy_value: 0.6745998859405518\n",
      "Epoch 11, CIFAR-10 Batch 1:  cost: 0.3134189546108246, accuracy_value: 0.6719998717308044\n",
      "Epoch 11, CIFAR-10 Batch 2:  cost: 0.09970779716968536, accuracy_value: 0.671799898147583\n",
      "Epoch 11, CIFAR-10 Batch 3:  cost: 0.14623525738716125, accuracy_value: 0.6677998304367065\n",
      "Epoch 11, CIFAR-10 Batch 4:  cost: 0.2004862129688263, accuracy_value: 0.6639999151229858\n",
      "Epoch 11, CIFAR-10 Batch 5:  cost: 0.1254216879606247, accuracy_value: 0.6637998819351196\n",
      "Epoch 12, CIFAR-10 Batch 1:  cost: 0.22867053747177124, accuracy_value: 0.666999876499176\n",
      "Epoch 12, CIFAR-10 Batch 2:  cost: 0.10088331997394562, accuracy_value: 0.6757999062538147\n",
      "Epoch 12, CIFAR-10 Batch 3:  cost: 0.11449983716011047, accuracy_value: 0.6715998649597168\n",
      "Epoch 12, CIFAR-10 Batch 4:  cost: 0.16949781775474548, accuracy_value: 0.6629998087882996\n",
      "Epoch 12, CIFAR-10 Batch 5:  cost: 0.09899958968162537, accuracy_value: 0.6807998418807983\n",
      "Epoch 13, CIFAR-10 Batch 1:  cost: 0.19370760023593903, accuracy_value: 0.6603999137878418\n",
      "Epoch 13, CIFAR-10 Batch 2:  cost: 0.09406011551618576, accuracy_value: 0.678399920463562\n",
      "Epoch 13, CIFAR-10 Batch 3:  cost: 0.1521446704864502, accuracy_value: 0.6559998989105225\n",
      "Epoch 13, CIFAR-10 Batch 4:  cost: 0.14562585949897766, accuracy_value: 0.6737998723983765\n",
      "Epoch 13, CIFAR-10 Batch 5:  cost: 0.10698949545621872, accuracy_value: 0.6671998500823975\n",
      "Epoch 14, CIFAR-10 Batch 1:  cost: 0.14878474175930023, accuracy_value: 0.678399920463562\n",
      "Epoch 14, CIFAR-10 Batch 2:  cost: 0.061658915132284164, accuracy_value: 0.6773998737335205\n",
      "Epoch 14, CIFAR-10 Batch 3:  cost: 0.1088612899184227, accuracy_value: 0.6757998466491699\n",
      "Epoch 14, CIFAR-10 Batch 4:  cost: 0.1139216274023056, accuracy_value: 0.6741998791694641\n",
      "Epoch 14, CIFAR-10 Batch 5:  cost: 0.07161100208759308, accuracy_value: 0.6697998642921448\n",
      "Epoch 15, CIFAR-10 Batch 1:  cost: 0.10756753385066986, accuracy_value: 0.6757999062538147\n",
      "Epoch 15, CIFAR-10 Batch 2:  cost: 0.08048145473003387, accuracy_value: 0.6809999346733093\n",
      "Epoch 15, CIFAR-10 Batch 3:  cost: 0.07094896584749222, accuracy_value: 0.6697998046875\n",
      "Epoch 15, CIFAR-10 Batch 4:  cost: 0.06863602250814438, accuracy_value: 0.6733998656272888\n",
      "Epoch 15, CIFAR-10 Batch 5:  cost: 0.031465381383895874, accuracy_value: 0.6609998941421509\n",
      "Epoch 16, CIFAR-10 Batch 1:  cost: 0.08821626007556915, accuracy_value: 0.6883998513221741\n",
      "Epoch 16, CIFAR-10 Batch 2:  cost: 0.0917605459690094, accuracy_value: 0.674799919128418\n",
      "Epoch 16, CIFAR-10 Batch 3:  cost: 0.07884827256202698, accuracy_value: 0.6747998595237732\n",
      "Epoch 16, CIFAR-10 Batch 4:  cost: 0.035848136991262436, accuracy_value: 0.6627998352050781\n",
      "Epoch 16, CIFAR-10 Batch 5:  cost: 0.03358995541930199, accuracy_value: 0.6617999076843262\n",
      "Epoch 17, CIFAR-10 Batch 1:  cost: 0.055343709886074066, accuracy_value: 0.6647999286651611\n",
      "Epoch 17, CIFAR-10 Batch 2:  cost: 0.08978075534105301, accuracy_value: 0.6429998874664307\n",
      "Epoch 17, CIFAR-10 Batch 3:  cost: 0.05204133689403534, accuracy_value: 0.6675999164581299\n",
      "Epoch 17, CIFAR-10 Batch 4:  cost: 0.046051669865846634, accuracy_value: 0.6637998819351196\n",
      "Epoch 17, CIFAR-10 Batch 5:  cost: 0.021129634231328964, accuracy_value: 0.6709999442100525\n",
      "Epoch 18, CIFAR-10 Batch 1:  cost: 0.04332970455288887, accuracy_value: 0.681999921798706\n",
      "Epoch 18, CIFAR-10 Batch 2:  cost: 0.058301180601119995, accuracy_value: 0.660399854183197\n",
      "Epoch 18, CIFAR-10 Batch 3:  cost: 0.046099383383989334, accuracy_value: 0.6625999212265015\n",
      "Epoch 18, CIFAR-10 Batch 4:  cost: 0.04692183434963226, accuracy_value: 0.678399920463562\n",
      "Epoch 18, CIFAR-10 Batch 5:  cost: 0.028794284909963608, accuracy_value: 0.6689998507499695\n",
      "Epoch 19, CIFAR-10 Batch 1:  cost: 0.04354776814579964, accuracy_value: 0.6675999164581299\n"
     ]
    },
    {
     "name": "stdout",
     "output_type": "stream",
     "text": [
      "Epoch 19, CIFAR-10 Batch 2:  cost: 0.083999402821064, accuracy_value: 0.6623998880386353\n",
      "Epoch 19, CIFAR-10 Batch 3:  cost: 0.040289513766765594, accuracy_value: 0.6507998704910278\n",
      "Epoch 19, CIFAR-10 Batch 4:  cost: 0.024589519947767258, accuracy_value: 0.675399899482727\n",
      "Epoch 19, CIFAR-10 Batch 5:  cost: 0.02140090987086296, accuracy_value: 0.6785998344421387\n",
      "Epoch 20, CIFAR-10 Batch 1:  cost: 0.0373564176261425, accuracy_value: 0.6667999625205994\n",
      "Epoch 20, CIFAR-10 Batch 2:  cost: 0.028129614889621735, accuracy_value: 0.665199875831604\n",
      "Epoch 20, CIFAR-10 Batch 3:  cost: 0.015315137803554535, accuracy_value: 0.6657998561859131\n",
      "Epoch 20, CIFAR-10 Batch 4:  cost: 0.031950149685144424, accuracy_value: 0.6683998703956604\n",
      "Epoch 20, CIFAR-10 Batch 5:  cost: 0.013817242346704006, accuracy_value: 0.6665998101234436\n",
      "Epoch 21, CIFAR-10 Batch 1:  cost: 0.03761613368988037, accuracy_value: 0.6681998372077942\n",
      "Epoch 21, CIFAR-10 Batch 2:  cost: 0.03557313233613968, accuracy_value: 0.66159987449646\n",
      "Epoch 21, CIFAR-10 Batch 3:  cost: 0.008511045947670937, accuracy_value: 0.6547998785972595\n",
      "Epoch 21, CIFAR-10 Batch 4:  cost: 0.012785615399479866, accuracy_value: 0.6663998961448669\n",
      "Epoch 21, CIFAR-10 Batch 5:  cost: 0.004786201287060976, accuracy_value: 0.6691998839378357\n",
      "Epoch 22, CIFAR-10 Batch 1:  cost: 0.036881111562252045, accuracy_value: 0.6677998304367065\n",
      "Epoch 22, CIFAR-10 Batch 2:  cost: 0.021003060042858124, accuracy_value: 0.67659991979599\n",
      "Epoch 22, CIFAR-10 Batch 3:  cost: 0.005625242833048105, accuracy_value: 0.6601998805999756\n",
      "Epoch 22, CIFAR-10 Batch 4:  cost: 0.03148956596851349, accuracy_value: 0.6825998425483704\n",
      "Epoch 22, CIFAR-10 Batch 5:  cost: 0.01975938305258751, accuracy_value: 0.6709999442100525\n",
      "Epoch 23, CIFAR-10 Batch 1:  cost: 0.0152596365660429, accuracy_value: 0.6767998933792114\n",
      "Epoch 23, CIFAR-10 Batch 2:  cost: 0.010573922656476498, accuracy_value: 0.6699999570846558\n",
      "Epoch 23, CIFAR-10 Batch 3:  cost: 0.01877366006374359, accuracy_value: 0.6611999273300171\n",
      "Epoch 23, CIFAR-10 Batch 4:  cost: 0.011978735215961933, accuracy_value: 0.674599826335907\n",
      "Epoch 23, CIFAR-10 Batch 5:  cost: 0.01045160461217165, accuracy_value: 0.6755998730659485\n",
      "Epoch 24, CIFAR-10 Batch 1:  cost: 0.07972727715969086, accuracy_value: 0.6601998805999756\n",
      "Epoch 24, CIFAR-10 Batch 2:  cost: 0.01978522539138794, accuracy_value: 0.6805998682975769\n",
      "Epoch 24, CIFAR-10 Batch 3:  cost: 0.02255115658044815, accuracy_value: 0.6695998907089233\n",
      "Epoch 24, CIFAR-10 Batch 4:  cost: 0.011137217283248901, accuracy_value: 0.673599898815155\n",
      "Epoch 24, CIFAR-10 Batch 5:  cost: 0.0021092717070132494, accuracy_value: 0.6691998243331909\n",
      "Epoch 25, CIFAR-10 Batch 1:  cost: 0.019414911046624184, accuracy_value: 0.6657999157905579\n",
      "Epoch 25, CIFAR-10 Batch 2:  cost: 0.012963534332811832, accuracy_value: 0.669999897480011\n",
      "Epoch 25, CIFAR-10 Batch 3:  cost: 0.016795653849840164, accuracy_value: 0.6569998860359192\n",
      "Epoch 25, CIFAR-10 Batch 4:  cost: 0.009928511455655098, accuracy_value: 0.6831998229026794\n",
      "Epoch 25, CIFAR-10 Batch 5:  cost: 0.0033785635605454445, accuracy_value: 0.6655998826026917\n",
      "Epoch 26, CIFAR-10 Batch 1:  cost: 0.014560186304152012, accuracy_value: 0.6785998940467834\n",
      "Epoch 26, CIFAR-10 Batch 2:  cost: 0.01180518139153719, accuracy_value: 0.6779998540878296\n",
      "Epoch 26, CIFAR-10 Batch 3:  cost: 0.010165647603571415, accuracy_value: 0.6719998121261597\n",
      "Epoch 26, CIFAR-10 Batch 4:  cost: 0.007783823646605015, accuracy_value: 0.6781999468803406\n",
      "Epoch 26, CIFAR-10 Batch 5:  cost: 0.011449981480836868, accuracy_value: 0.6683999300003052\n",
      "Epoch 27, CIFAR-10 Batch 1:  cost: 0.014834764413535595, accuracy_value: 0.675399899482727\n",
      "Epoch 27, CIFAR-10 Batch 2:  cost: 0.08225370943546295, accuracy_value: 0.6675999164581299\n",
      "Epoch 27, CIFAR-10 Batch 3:  cost: 0.012707061134278774, accuracy_value: 0.6749998927116394\n",
      "Epoch 27, CIFAR-10 Batch 4:  cost: 0.005187288857996464, accuracy_value: 0.679399847984314\n",
      "Epoch 27, CIFAR-10 Batch 5:  cost: 0.0012486617779359221, accuracy_value: 0.6813998222351074\n",
      "Epoch 28, CIFAR-10 Batch 1:  cost: 0.008093125186860561, accuracy_value: 0.6837998628616333\n",
      "Epoch 28, CIFAR-10 Batch 2:  cost: 0.01368158869445324, accuracy_value: 0.672799825668335\n",
      "Epoch 28, CIFAR-10 Batch 3:  cost: 0.004933987278491259, accuracy_value: 0.6743998527526855\n",
      "Epoch 28, CIFAR-10 Batch 4:  cost: 0.005685160867869854, accuracy_value: 0.6735998392105103\n",
      "Epoch 28, CIFAR-10 Batch 5:  cost: 0.003606475191190839, accuracy_value: 0.6711997985839844\n",
      "Epoch 29, CIFAR-10 Batch 1:  cost: 0.004220230504870415, accuracy_value: 0.6755998730659485\n",
      "Epoch 29, CIFAR-10 Batch 2:  cost: 0.008593671023845673, accuracy_value: 0.6685998439788818\n",
      "Epoch 29, CIFAR-10 Batch 3:  cost: 0.0013080986682325602, accuracy_value: 0.675399899482727\n",
      "Epoch 29, CIFAR-10 Batch 4:  cost: 0.009523327462375164, accuracy_value: 0.6677998304367065\n",
      "Epoch 29, CIFAR-10 Batch 5:  cost: 0.00033616466680541635, accuracy_value: 0.6803998947143555\n",
      "Epoch 30, CIFAR-10 Batch 1:  cost: 0.021024445071816444, accuracy_value: 0.6795998811721802\n",
      "Epoch 30, CIFAR-10 Batch 2:  cost: 0.009122418239712715, accuracy_value: 0.6649998426437378\n",
      "Epoch 30, CIFAR-10 Batch 3:  cost: 0.00041271987720392644, accuracy_value: 0.6693998575210571\n",
      "Epoch 30, CIFAR-10 Batch 4:  cost: 0.004100517835468054, accuracy_value: 0.6655998229980469\n",
      "Epoch 30, CIFAR-10 Batch 5:  cost: 0.0002921225386671722, accuracy_value: 0.6721999049186707\n",
      "Epoch 31, CIFAR-10 Batch 1:  cost: 0.0031758041586726904, accuracy_value: 0.678399920463562\n",
      "Epoch 31, CIFAR-10 Batch 2:  cost: 0.007020182907581329, accuracy_value: 0.6713998913764954\n",
      "Epoch 31, CIFAR-10 Batch 3:  cost: 0.0020654452964663506, accuracy_value: 0.6749998927116394\n",
      "Epoch 31, CIFAR-10 Batch 4:  cost: 0.02674240432679653, accuracy_value: 0.6839998364448547\n",
      "Epoch 31, CIFAR-10 Batch 5:  cost: 0.00857226736843586, accuracy_value: 0.6857998371124268\n",
      "Epoch 32, CIFAR-10 Batch 1:  cost: 0.004182782489806414, accuracy_value: 0.6749998927116394\n",
      "Epoch 32, CIFAR-10 Batch 2:  cost: 0.0008144674939103425, accuracy_value: 0.6667999029159546\n",
      "Epoch 32, CIFAR-10 Batch 3:  cost: 0.00330857140943408, accuracy_value: 0.679399847984314\n",
      "Epoch 32, CIFAR-10 Batch 4:  cost: 0.004402553662657738, accuracy_value: 0.6771998405456543\n",
      "Epoch 32, CIFAR-10 Batch 5:  cost: 0.0008842837996780872, accuracy_value: 0.6717998385429382\n",
      "Epoch 33, CIFAR-10 Batch 1:  cost: 0.008501708507537842, accuracy_value: 0.673399806022644\n",
      "Epoch 33, CIFAR-10 Batch 2:  cost: 0.0021227654069662094, accuracy_value: 0.6685999035835266\n",
      "Epoch 33, CIFAR-10 Batch 3:  cost: 0.0002969513298012316, accuracy_value: 0.6775998473167419\n",
      "Epoch 33, CIFAR-10 Batch 4:  cost: 0.00038619860424660146, accuracy_value: 0.6721999049186707\n",
      "Epoch 33, CIFAR-10 Batch 5:  cost: 0.0005357983754947782, accuracy_value: 0.6781999468803406\n",
      "Epoch 34, CIFAR-10 Batch 1:  cost: 0.004263465758413076, accuracy_value: 0.6693999171257019\n",
      "Epoch 34, CIFAR-10 Batch 2:  cost: 0.0004305656475480646, accuracy_value: 0.6559998393058777\n",
      "Epoch 34, CIFAR-10 Batch 3:  cost: 0.022328903898596764, accuracy_value: 0.669999897480011\n",
      "Epoch 34, CIFAR-10 Batch 4:  cost: 0.0025021033361554146, accuracy_value: 0.6695998907089233\n",
      "Epoch 34, CIFAR-10 Batch 5:  cost: 0.0003432855010032654, accuracy_value: 0.6755998134613037\n",
      "Epoch 35, CIFAR-10 Batch 1:  cost: 0.0018420432461425662, accuracy_value: 0.6761999130249023\n",
      "Epoch 35, CIFAR-10 Batch 2:  cost: 0.0019197823712602258, accuracy_value: 0.6569998264312744\n",
      "Epoch 35, CIFAR-10 Batch 3:  cost: 0.0005478070816025138, accuracy_value: 0.6753998398780823\n",
      "Epoch 35, CIFAR-10 Batch 4:  cost: 0.0007303644670173526, accuracy_value: 0.6901997923851013\n",
      "Epoch 35, CIFAR-10 Batch 5:  cost: 0.00023430079454556108, accuracy_value: 0.6823998689651489\n",
      "Epoch 36, CIFAR-10 Batch 1:  cost: 0.0025020448956638575, accuracy_value: 0.6759998798370361\n",
      "Epoch 36, CIFAR-10 Batch 2:  cost: 0.0008195012342184782, accuracy_value: 0.6713998913764954\n",
      "Epoch 36, CIFAR-10 Batch 3:  cost: 0.0031245604623109102, accuracy_value: 0.6807998418807983\n",
      "Epoch 36, CIFAR-10 Batch 4:  cost: 0.0007743728929199278, accuracy_value: 0.6707998514175415\n",
      "Epoch 36, CIFAR-10 Batch 5:  cost: 0.000976633746176958, accuracy_value: 0.6641998887062073\n",
      "Epoch 37, CIFAR-10 Batch 1:  cost: 0.003187508089467883, accuracy_value: 0.6713998913764954\n"
     ]
    },
    {
     "name": "stdout",
     "output_type": "stream",
     "text": [
      "Epoch 37, CIFAR-10 Batch 2:  cost: 0.0024178139865398407, accuracy_value: 0.6777998805046082\n",
      "Epoch 37, CIFAR-10 Batch 3:  cost: 0.0015107509680092335, accuracy_value: 0.6811999082565308\n",
      "Epoch 37, CIFAR-10 Batch 4:  cost: 0.0001806648215278983, accuracy_value: 0.6801998615264893\n",
      "Epoch 37, CIFAR-10 Batch 5:  cost: 0.0018547754734754562, accuracy_value: 0.6779998540878296\n",
      "Epoch 38, CIFAR-10 Batch 1:  cost: 0.003328469581902027, accuracy_value: 0.6591999530792236\n",
      "Epoch 38, CIFAR-10 Batch 2:  cost: 0.0013373575638979673, accuracy_value: 0.6825998425483704\n",
      "Epoch 38, CIFAR-10 Batch 3:  cost: 0.0012470518704503775, accuracy_value: 0.6897998452186584\n",
      "Epoch 38, CIFAR-10 Batch 4:  cost: 0.0023484902922064066, accuracy_value: 0.6843999028205872\n",
      "Epoch 38, CIFAR-10 Batch 5:  cost: 0.0007057401817291975, accuracy_value: 0.6795998811721802\n",
      "Epoch 39, CIFAR-10 Batch 1:  cost: 0.00044163482380099595, accuracy_value: 0.6785998940467834\n",
      "Epoch 39, CIFAR-10 Batch 2:  cost: 0.0011059300741180778, accuracy_value: 0.6697998642921448\n",
      "Epoch 39, CIFAR-10 Batch 3:  cost: 0.0006012528901919723, accuracy_value: 0.6831998825073242\n",
      "Epoch 39, CIFAR-10 Batch 4:  cost: 0.0008043890120461583, accuracy_value: 0.6719998717308044\n",
      "Epoch 39, CIFAR-10 Batch 5:  cost: 0.0026739167515188456, accuracy_value: 0.6845999360084534\n",
      "Epoch 40, CIFAR-10 Batch 1:  cost: 0.005917070433497429, accuracy_value: 0.6731998920440674\n",
      "Epoch 40, CIFAR-10 Batch 2:  cost: 0.0011059469543397427, accuracy_value: 0.6699998378753662\n",
      "Epoch 40, CIFAR-10 Batch 3:  cost: 0.0011550909839570522, accuracy_value: 0.6815998554229736\n",
      "Epoch 40, CIFAR-10 Batch 4:  cost: 0.00010067317634820938, accuracy_value: 0.6755998730659485\n",
      "Epoch 40, CIFAR-10 Batch 5:  cost: 0.000385589140933007, accuracy_value: 0.681399941444397\n",
      "Epoch 41, CIFAR-10 Batch 1:  cost: 0.000681583653204143, accuracy_value: 0.6765998005867004\n",
      "Epoch 41, CIFAR-10 Batch 2:  cost: 0.0001834039285313338, accuracy_value: 0.6885998845100403\n",
      "Epoch 41, CIFAR-10 Batch 3:  cost: 0.028496436774730682, accuracy_value: 0.6759998798370361\n",
      "Epoch 41, CIFAR-10 Batch 4:  cost: 0.0010927991243079305, accuracy_value: 0.680199921131134\n",
      "Epoch 41, CIFAR-10 Batch 5:  cost: 0.003229674883186817, accuracy_value: 0.6767998933792114\n",
      "Epoch 42, CIFAR-10 Batch 1:  cost: 0.003559240372851491, accuracy_value: 0.668799877166748\n",
      "Epoch 42, CIFAR-10 Batch 2:  cost: 0.0037320724222809076, accuracy_value: 0.6657999157905579\n",
      "Epoch 42, CIFAR-10 Batch 3:  cost: 0.0005804407992400229, accuracy_value: 0.6757999062538147\n",
      "Epoch 42, CIFAR-10 Batch 4:  cost: 0.0023156446404755116, accuracy_value: 0.6777998805046082\n",
      "Epoch 42, CIFAR-10 Batch 5:  cost: 0.0002793075982481241, accuracy_value: 0.679999828338623\n",
      "Epoch 43, CIFAR-10 Batch 1:  cost: 0.0021206592209637165, accuracy_value: 0.6755998134613037\n",
      "Epoch 43, CIFAR-10 Batch 2:  cost: 0.004610403440892696, accuracy_value: 0.6633999347686768\n",
      "Epoch 43, CIFAR-10 Batch 3:  cost: 0.0005436507053673267, accuracy_value: 0.6765998601913452\n",
      "Epoch 43, CIFAR-10 Batch 4:  cost: 0.0005664272466674447, accuracy_value: 0.6785998344421387\n",
      "Epoch 43, CIFAR-10 Batch 5:  cost: 0.0067517878487706184, accuracy_value: 0.6683998107910156\n",
      "Epoch 44, CIFAR-10 Batch 1:  cost: 0.0015935431001707911, accuracy_value: 0.6725998520851135\n",
      "Epoch 44, CIFAR-10 Batch 2:  cost: 0.00021374844072852284, accuracy_value: 0.679999828338623\n",
      "Epoch 44, CIFAR-10 Batch 3:  cost: 0.001985834911465645, accuracy_value: 0.6843998432159424\n",
      "Epoch 44, CIFAR-10 Batch 4:  cost: 0.00026942146359942853, accuracy_value: 0.6695998311042786\n",
      "Epoch 44, CIFAR-10 Batch 5:  cost: 6.739759555784985e-05, accuracy_value: 0.6727999448776245\n",
      "Epoch 45, CIFAR-10 Batch 1:  cost: 0.0008750255219638348, accuracy_value: 0.6739999055862427\n",
      "Epoch 45, CIFAR-10 Batch 2:  cost: 9.89131658570841e-05, accuracy_value: 0.6763998866081238\n",
      "Epoch 45, CIFAR-10 Batch 3:  cost: 0.0006515233544632792, accuracy_value: 0.6789998412132263\n",
      "Epoch 45, CIFAR-10 Batch 4:  cost: 4.861874913331121e-05, accuracy_value: 0.6711999177932739\n",
      "Epoch 45, CIFAR-10 Batch 5:  cost: 0.0002749192644841969, accuracy_value: 0.6737998723983765\n",
      "Epoch 46, CIFAR-10 Batch 1:  cost: 0.0004693608789239079, accuracy_value: 0.673599898815155\n",
      "Epoch 46, CIFAR-10 Batch 2:  cost: 0.00011984820594079792, accuracy_value: 0.6731998920440674\n",
      "Epoch 46, CIFAR-10 Batch 3:  cost: 5.843458347953856e-05, accuracy_value: 0.6821998953819275\n",
      "Epoch 46, CIFAR-10 Batch 4:  cost: 0.00035846163518726826, accuracy_value: 0.6739999055862427\n",
      "Epoch 46, CIFAR-10 Batch 5:  cost: 2.035274519585073e-05, accuracy_value: 0.6835999488830566\n",
      "Epoch 47, CIFAR-10 Batch 1:  cost: 0.003372693434357643, accuracy_value: 0.6793999075889587\n",
      "Epoch 47, CIFAR-10 Batch 2:  cost: 0.0002579898573458195, accuracy_value: 0.6745998859405518\n",
      "Epoch 47, CIFAR-10 Batch 3:  cost: 0.0005253439303487539, accuracy_value: 0.6805998682975769\n",
      "Epoch 47, CIFAR-10 Batch 4:  cost: 0.000782373477704823, accuracy_value: 0.6707998514175415\n",
      "Epoch 47, CIFAR-10 Batch 5:  cost: 0.0017903234111145139, accuracy_value: 0.6729998588562012\n",
      "Epoch 48, CIFAR-10 Batch 1:  cost: 0.0008275479194708169, accuracy_value: 0.6807999014854431\n",
      "Epoch 48, CIFAR-10 Batch 2:  cost: 0.00022164243273437023, accuracy_value: 0.6749998927116394\n",
      "Epoch 48, CIFAR-10 Batch 3:  cost: 0.004872155841439962, accuracy_value: 0.6669998168945312\n",
      "Epoch 48, CIFAR-10 Batch 4:  cost: 0.00034552920260466635, accuracy_value: 0.6613999605178833\n",
      "Epoch 48, CIFAR-10 Batch 5:  cost: 0.00021921162260696292, accuracy_value: 0.6785999536514282\n",
      "Epoch 49, CIFAR-10 Batch 1:  cost: 0.0012764425482600927, accuracy_value: 0.6715998649597168\n",
      "Epoch 49, CIFAR-10 Batch 2:  cost: 0.001651096623390913, accuracy_value: 0.6789999008178711\n",
      "Epoch 49, CIFAR-10 Batch 3:  cost: 4.2342988308519125e-05, accuracy_value: 0.6737998723983765\n",
      "Epoch 49, CIFAR-10 Batch 4:  cost: 0.00028705247677862644, accuracy_value: 0.6759998202323914\n",
      "Epoch 49, CIFAR-10 Batch 5:  cost: 0.0008173036621883512, accuracy_value: 0.6761998534202576\n",
      "Epoch 50, CIFAR-10 Batch 1:  cost: 0.00026388815604150295, accuracy_value: 0.678399920463562\n",
      "Epoch 50, CIFAR-10 Batch 2:  cost: 0.0001288943603867665, accuracy_value: 0.6815999150276184\n",
      "Epoch 50, CIFAR-10 Batch 3:  cost: 0.0007780159940011799, accuracy_value: 0.6819998621940613\n",
      "Epoch 50, CIFAR-10 Batch 4:  cost: 0.0003846032195724547, accuracy_value: 0.6679998636245728\n",
      "Epoch 50, CIFAR-10 Batch 5:  cost: 0.004446599166840315, accuracy_value: 0.6849998831748962\n"
     ]
    }
   ],
   "source": [
    "\"\"\"\n",
    "DON'T MODIFY ANYTHING IN THIS CELL\n",
    "\"\"\"\n",
    "save_model_path = './image_classification'\n",
    "\n",
    "print('Training...')\n",
    "with tf.Session() as sess:\n",
    "    # Initializing the variables\n",
    "    sess.run(tf.global_variables_initializer())\n",
    "    \n",
    "    # Training cycle\n",
    "    for epoch in range(epochs):\n",
    "        # Loop over all batches\n",
    "        n_batches = 5\n",
    "        for batch_i in range(1, n_batches + 1):\n",
    "            for batch_features, batch_labels in helper.load_preprocess_training_batch(batch_i, batch_size):\n",
    "                train_neural_network(sess, optimizer, keep_probability, batch_features, batch_labels)\n",
    "            print('Epoch {:>2}, CIFAR-10 Batch {}:  '.format(epoch + 1, batch_i), end='')\n",
    "            print_stats(sess, batch_features, batch_labels, cost, accuracy)\n",
    "            \n",
    "    # Save Model\n",
    "    saver = tf.train.Saver()\n",
    "    save_path = saver.save(sess, save_model_path)"
   ]
  },
  {
   "cell_type": "markdown",
   "metadata": {},
   "source": [
    "# Checkpoint\n",
    "The model has been saved to disk.\n",
    "## Test Model\n",
    "Test your model against the test dataset.  This will be your final accuracy. You should have an accuracy greater than 50%. If you don't, keep tweaking the model architecture and parameters."
   ]
  },
  {
   "cell_type": "code",
   "execution_count": 35,
   "metadata": {},
   "outputs": [
    {
     "name": "stdout",
     "output_type": "stream",
     "text": [
      "INFO:tensorflow:Restoring parameters from ./image_classification\n",
      "Testing Accuracy: 0.6727650316455697\n",
      "\n"
     ]
    },
    {
     "data": {
      "image/png": "[encoded data removed]",
      "text/plain": [
       "<matplotlib.figure.Figure at 0x7fdb602142e8>"
      ]
     },
     "metadata": {
      "image/png": {
       "height": 319,
       "width": 355
      }
     },
     "output_type": "display_data"
    }
   ],
   "source": [
    "\"\"\"\n",
    "DON'T MODIFY ANYTHING IN THIS CELL\n",
    "\"\"\"\n",
    "%matplotlib inline\n",
    "%config InlineBackend.figure_format = 'retina'\n",
    "\n",
    "import tensorflow as tf\n",
    "import pickle\n",
    "import helper\n",
    "import random\n",
    "\n",
    "# Set batch size if not already set\n",
    "try:\n",
    "    if batch_size:\n",
    "        pass\n",
    "except NameError:\n",
    "    batch_size = 64\n",
    "\n",
    "save_model_path = './image_classification'\n",
    "n_samples = 4\n",
    "top_n_predictions = 3\n",
    "\n",
    "def test_model():\n",
    "    \"\"\"\n",
    "    Test the saved model against the test dataset\n",
    "    \"\"\"\n",
    "\n",
    "    test_features, test_labels = pickle.load(open('preprocess_training.p', mode='rb'))\n",
    "    loaded_graph = tf.Graph()\n",
    "\n",
    "    with tf.Session(graph=loaded_graph) as sess:\n",
    "        # Load model\n",
    "        loader = tf.train.import_meta_graph(save_model_path + '.meta')\n",
    "        loader.restore(sess, save_model_path)\n",
    "\n",
    "        # Get Tensors from loaded model\n",
    "        loaded_x = loaded_graph.get_tensor_by_name('x:0')\n",
    "        loaded_y = loaded_graph.get_tensor_by_name('y:0')\n",
    "        loaded_keep_prob = loaded_graph.get_tensor_by_name('keep_prob:0')\n",
    "        loaded_logits = loaded_graph.get_tensor_by_name('logits:0')\n",
    "        loaded_acc = loaded_graph.get_tensor_by_name('accuracy:0')\n",
    "        \n",
    "        # Get accuracy in batches for memory limitations\n",
    "        test_batch_acc_total = 0\n",
    "        test_batch_count = 0\n",
    "        \n",
    "        for train_feature_batch, train_label_batch in helper.batch_features_labels(test_features, test_labels, batch_size):\n",
    "            test_batch_acc_total += sess.run(\n",
    "                loaded_acc,\n",
    "                feed_dict={loaded_x: train_feature_batch, loaded_y: train_label_batch, loaded_keep_prob: 1.0})\n",
    "            test_batch_count += 1\n",
    "\n",
    "        print('Testing Accuracy: {}\\n'.format(test_batch_acc_total/test_batch_count))\n",
    "\n",
    "        # Print Random Samples\n",
    "        random_test_features, random_test_labels = tuple(zip(*random.sample(list(zip(test_features, test_labels)), n_samples)))\n",
    "        random_test_predictions = sess.run(\n",
    "            tf.nn.top_k(tf.nn.softmax(loaded_logits), top_n_predictions),\n",
    "            feed_dict={loaded_x: random_test_features, loaded_y: random_test_labels, loaded_keep_prob: 1.0})\n",
    "        helper.display_image_predictions(random_test_features, random_test_labels, random_test_predictions)\n",
    "\n",
    "\n",
    "test_model()"
   ]
  },
  {
   "cell_type": "markdown",
   "metadata": {},
   "source": [
    "## Why 50-70% Accuracy?\n",
    "You might be wondering why you can't get an accuracy any higher. First things first, 50% isn't bad for a simple CNN.  Pure guessing would get you 10% accuracy. However, you might notice people are getting scores [well above 70%](http://rodrigob.github.io/are_we_there_yet/build/classification_datasets_results.html#43494641522d3130).  That's because we haven't taught you all there is to know about neural networks. We still need to cover a few more techniques.\n",
    "## Submitting This Project\n",
    "When submitting this project, make sure to run all the cells before saving the notebook.  Save the notebook file as \"dlnd_image_classification.ipynb\" and save it as a HTML file under \"File\" -> \"Download as\".  Include the \"helper.py\" and \"problem_unittests.py\" files in your submission."
   ]
  }
 ],
 "metadata": {
  "kernelspec": {
   "display_name": "Python 3",
   "language": "python",
   "name": "python3"
  },
  "language_info": {
   "codemirror_mode": {
    "name": "ipython",
    "version": 3
   },
   "file_extension": ".py",
   "mimetype": "text/x-python",
   "name": "python",
   "nbconvert_exporter": "python",
   "pygments_lexer": "ipython3",
   "version": "3.5.3"
  }
 },
 "nbformat": 4,
 "nbformat_minor": 1
}
